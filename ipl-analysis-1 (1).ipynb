{
 "cells": [
  {
   "cell_type": "code",
   "execution_count": 1,
   "metadata": {
    "_cell_guid": "b1076dfc-b9ad-4769-8c92-a6c4dae69d19",
    "_uuid": "8f2839f25d086af736a60e9eeb907d3b93b6e0e5",
    "execution": {
     "iopub.execute_input": "2020-10-28T19:37:10.003661Z",
     "iopub.status.busy": "2020-10-28T19:37:10.002834Z",
     "iopub.status.idle": "2020-10-28T19:37:10.013915Z",
     "shell.execute_reply": "2020-10-28T19:37:10.013031Z"
    },
    "papermill": {
     "duration": 0.071116,
     "end_time": "2020-10-28T19:37:10.014073",
     "exception": false,
     "start_time": "2020-10-28T19:37:09.942957",
     "status": "completed"
    },
    "tags": []
   },
   "outputs": [
    {
     "name": "stdout",
     "output_type": "stream",
     "text": [
      "/kaggle/input/ipl-data-set/Players.xlsx\n",
      "/kaggle/input/ipl-data-set/teamwise_home_and_away.csv\n",
      "/kaggle/input/ipl-data-set/matches.csv\n",
      "/kaggle/input/ipl-data-set/teams.csv\n",
      "/kaggle/input/ipl-data-set/deliveries.csv\n",
      "/kaggle/input/ipl-data-set/most_runs_average_strikerate.csv\n"
     ]
    }
   ],
   "source": [
    "# This Python 3 environment comes with many helpful analytics libraries installed\n",
    "# It is defined by the kaggle/python Docker image: https://github.com/kaggle/docker-python\n",
    "# For example, here's several helpful packages to load\n",
    "\n",
    "import numpy as np # linear algebra\n",
    "import pandas as pd # data processing, CSV file I/O (e.g. pd.read_csv)\n",
    "\n",
    "# Input data files are available in the read-only \"../input/\" directory\n",
    "# For example, running this (by clicking run or pressing Shift+Enter) will list all files under the input directory\n",
    "\n",
    "import os\n",
    "for dirname, _, filenames in os.walk('/kaggle/input'):\n",
    "    for filename in filenames:\n",
    "        print(os.path.join(dirname, filename))\n",
    "\n",
    "# You can write up to 5GB to the current directory (/kaggle/working/) that gets preserved as output when you create a version using \"Save & Run All\" \n",
    "# You can also write temporary files to /kaggle/temp/, but they won't be saved outside of the current session"
   ]
  },
  {
   "cell_type": "code",
   "execution_count": 2,
   "metadata": {
    "_cell_guid": "79c7e3d0-c299-4dcb-8224-4455121ee9b0",
    "_uuid": "d629ff2d2480ee46fbb7e2d37f6b5fab8052498a",
    "execution": {
     "iopub.execute_input": "2020-10-28T19:37:10.129057Z",
     "iopub.status.busy": "2020-10-28T19:37:10.128243Z",
     "iopub.status.idle": "2020-10-28T19:37:12.518785Z",
     "shell.execute_reply": "2020-10-28T19:37:12.517957Z"
    },
    "papermill": {
     "duration": 2.450024,
     "end_time": "2020-10-28T19:37:12.518964",
     "exception": false,
     "start_time": "2020-10-28T19:37:10.068940",
     "status": "completed"
    },
    "tags": []
   },
   "outputs": [],
   "source": [
    "#important libraries\n",
    "\n",
    "\"\"\"author s_agnik1511\"\"\"\n",
    "import numpy as np\n",
    "import pandas as pd\n",
    "import seaborn as sns\n",
    "import matplotlib.pyplot as plt\n",
    "import plotly.offline as py\n",
    "import plotly.graph_objs as go\n",
    "\n",
    "import gc\n",
    "import sys\n",
    "\n",
    "from sklearn.impute import SimpleImputer\n",
    "from sklearn.preprocessing import OneHotEncoder\n",
    "from sklearn.preprocessing import StandardScaler\n",
    "from sklearn.metrics import mean_absolute_error\n",
    "from sklearn.model_selection import train_test_split\n",
    "from sklearn.model_selection import cross_val_score\n",
    "from sklearn.preprocessing import LabelEncoder\n",
    "\n",
    "# Models Libs\n",
    "from xgboost import XGBRegressor\n",
    "\n",
    "import warnings\n",
    "\n",
    "warnings.simplefilter(action='ignore', category=FutureWarning)"
   ]
  },
  {
   "cell_type": "code",
   "execution_count": 3,
   "metadata": {
    "execution": {
     "iopub.execute_input": "2020-10-28T19:37:12.627906Z",
     "iopub.status.busy": "2020-10-28T19:37:12.627086Z",
     "iopub.status.idle": "2020-10-28T19:37:12.663235Z",
     "shell.execute_reply": "2020-10-28T19:37:12.662342Z"
    },
    "papermill": {
     "duration": 0.0935,
     "end_time": "2020-10-28T19:37:12.663371",
     "exception": false,
     "start_time": "2020-10-28T19:37:12.569871",
     "status": "completed"
    },
    "tags": []
   },
   "outputs": [
    {
     "data": {
      "text/html": [
       "<div>\n",
       "<style scoped>\n",
       "    .dataframe tbody tr th:only-of-type {\n",
       "        vertical-align: middle;\n",
       "    }\n",
       "\n",
       "    .dataframe tbody tr th {\n",
       "        vertical-align: top;\n",
       "    }\n",
       "\n",
       "    .dataframe thead th {\n",
       "        text-align: right;\n",
       "    }\n",
       "</style>\n",
       "<table border=\"1\" class=\"dataframe\">\n",
       "  <thead>\n",
       "    <tr style=\"text-align: right;\">\n",
       "      <th></th>\n",
       "      <th>team</th>\n",
       "      <th>home_wins</th>\n",
       "      <th>away_wins</th>\n",
       "      <th>home_matches</th>\n",
       "      <th>away_matches</th>\n",
       "      <th>home_win_percentage</th>\n",
       "      <th>away_win_percentage</th>\n",
       "    </tr>\n",
       "  </thead>\n",
       "  <tbody>\n",
       "    <tr>\n",
       "      <th>0</th>\n",
       "      <td>Rising Pune Supergiant</td>\n",
       "      <td>5</td>\n",
       "      <td>5</td>\n",
       "      <td>8</td>\n",
       "      <td>8</td>\n",
       "      <td>62.500000</td>\n",
       "      <td>62.500000</td>\n",
       "    </tr>\n",
       "    <tr>\n",
       "      <th>1</th>\n",
       "      <td>Mumbai Indians</td>\n",
       "      <td>58</td>\n",
       "      <td>51</td>\n",
       "      <td>101</td>\n",
       "      <td>86</td>\n",
       "      <td>57.425743</td>\n",
       "      <td>59.302326</td>\n",
       "    </tr>\n",
       "    <tr>\n",
       "      <th>2</th>\n",
       "      <td>Chennai Super Kings</td>\n",
       "      <td>51</td>\n",
       "      <td>49</td>\n",
       "      <td>89</td>\n",
       "      <td>75</td>\n",
       "      <td>57.303371</td>\n",
       "      <td>65.333333</td>\n",
       "    </tr>\n",
       "    <tr>\n",
       "      <th>3</th>\n",
       "      <td>Delhi Capitals</td>\n",
       "      <td>3</td>\n",
       "      <td>7</td>\n",
       "      <td>6</td>\n",
       "      <td>10</td>\n",
       "      <td>50.000000</td>\n",
       "      <td>70.000000</td>\n",
       "    </tr>\n",
       "    <tr>\n",
       "      <th>4</th>\n",
       "      <td>Sunrisers Hyderabad</td>\n",
       "      <td>30</td>\n",
       "      <td>28</td>\n",
       "      <td>63</td>\n",
       "      <td>45</td>\n",
       "      <td>47.619048</td>\n",
       "      <td>62.222222</td>\n",
       "    </tr>\n",
       "    <tr>\n",
       "      <th>5</th>\n",
       "      <td>Rajasthan Royals</td>\n",
       "      <td>29</td>\n",
       "      <td>46</td>\n",
       "      <td>67</td>\n",
       "      <td>80</td>\n",
       "      <td>43.283582</td>\n",
       "      <td>57.500000</td>\n",
       "    </tr>\n",
       "    <tr>\n",
       "      <th>6</th>\n",
       "      <td>Deccan Chargers</td>\n",
       "      <td>18</td>\n",
       "      <td>11</td>\n",
       "      <td>43</td>\n",
       "      <td>32</td>\n",
       "      <td>41.860465</td>\n",
       "      <td>34.375000</td>\n",
       "    </tr>\n",
       "    <tr>\n",
       "      <th>7</th>\n",
       "      <td>Kings XI Punjab</td>\n",
       "      <td>38</td>\n",
       "      <td>44</td>\n",
       "      <td>91</td>\n",
       "      <td>85</td>\n",
       "      <td>41.758242</td>\n",
       "      <td>51.764706</td>\n",
       "    </tr>\n",
       "    <tr>\n",
       "      <th>8</th>\n",
       "      <td>Royal Challengers Bangalore</td>\n",
       "      <td>35</td>\n",
       "      <td>49</td>\n",
       "      <td>85</td>\n",
       "      <td>95</td>\n",
       "      <td>41.176471</td>\n",
       "      <td>51.578947</td>\n",
       "    </tr>\n",
       "    <tr>\n",
       "      <th>9</th>\n",
       "      <td>Kolkata Knight Riders</td>\n",
       "      <td>34</td>\n",
       "      <td>58</td>\n",
       "      <td>83</td>\n",
       "      <td>95</td>\n",
       "      <td>40.963855</td>\n",
       "      <td>61.052632</td>\n",
       "    </tr>\n",
       "    <tr>\n",
       "      <th>10</th>\n",
       "      <td>Delhi Daredevils</td>\n",
       "      <td>25</td>\n",
       "      <td>42</td>\n",
       "      <td>72</td>\n",
       "      <td>89</td>\n",
       "      <td>34.722222</td>\n",
       "      <td>47.191011</td>\n",
       "    </tr>\n",
       "    <tr>\n",
       "      <th>11</th>\n",
       "      <td>Pune Warriors</td>\n",
       "      <td>6</td>\n",
       "      <td>6</td>\n",
       "      <td>20</td>\n",
       "      <td>26</td>\n",
       "      <td>30.000000</td>\n",
       "      <td>23.076923</td>\n",
       "    </tr>\n",
       "    <tr>\n",
       "      <th>12</th>\n",
       "      <td>Kochi Tuskers Kerala</td>\n",
       "      <td>2</td>\n",
       "      <td>4</td>\n",
       "      <td>7</td>\n",
       "      <td>7</td>\n",
       "      <td>28.571429</td>\n",
       "      <td>57.142857</td>\n",
       "    </tr>\n",
       "    <tr>\n",
       "      <th>13</th>\n",
       "      <td>Gujarat Lions</td>\n",
       "      <td>1</td>\n",
       "      <td>12</td>\n",
       "      <td>14</td>\n",
       "      <td>16</td>\n",
       "      <td>7.142857</td>\n",
       "      <td>75.000000</td>\n",
       "    </tr>\n",
       "  </tbody>\n",
       "</table>\n",
       "</div>"
      ],
      "text/plain": [
       "                           team  home_wins  away_wins  home_matches  \\\n",
       "0        Rising Pune Supergiant          5          5             8   \n",
       "1                Mumbai Indians         58         51           101   \n",
       "2           Chennai Super Kings         51         49            89   \n",
       "3                Delhi Capitals          3          7             6   \n",
       "4           Sunrisers Hyderabad         30         28            63   \n",
       "5              Rajasthan Royals         29         46            67   \n",
       "6               Deccan Chargers         18         11            43   \n",
       "7               Kings XI Punjab         38         44            91   \n",
       "8   Royal Challengers Bangalore         35         49            85   \n",
       "9         Kolkata Knight Riders         34         58            83   \n",
       "10             Delhi Daredevils         25         42            72   \n",
       "11                Pune Warriors          6          6            20   \n",
       "12         Kochi Tuskers Kerala          2          4             7   \n",
       "13                Gujarat Lions          1         12            14   \n",
       "\n",
       "    away_matches  home_win_percentage  away_win_percentage  \n",
       "0              8            62.500000            62.500000  \n",
       "1             86            57.425743            59.302326  \n",
       "2             75            57.303371            65.333333  \n",
       "3             10            50.000000            70.000000  \n",
       "4             45            47.619048            62.222222  \n",
       "5             80            43.283582            57.500000  \n",
       "6             32            41.860465            34.375000  \n",
       "7             85            41.758242            51.764706  \n",
       "8             95            41.176471            51.578947  \n",
       "9             95            40.963855            61.052632  \n",
       "10            89            34.722222            47.191011  \n",
       "11            26            30.000000            23.076923  \n",
       "12             7            28.571429            57.142857  \n",
       "13            16             7.142857            75.000000  "
      ]
     },
     "execution_count": 3,
     "metadata": {},
     "output_type": "execute_result"
    }
   ],
   "source": [
    "teamwise_home_away=pd.read_csv('/kaggle/input/ipl-data-set/teamwise_home_and_away.csv')\n",
    "teamwise_home_away"
   ]
  },
  {
   "cell_type": "code",
   "execution_count": 4,
   "metadata": {
    "execution": {
     "iopub.execute_input": "2020-10-28T19:37:12.774441Z",
     "iopub.status.busy": "2020-10-28T19:37:12.773550Z",
     "iopub.status.idle": "2020-10-28T19:37:13.185456Z",
     "shell.execute_reply": "2020-10-28T19:37:13.184740Z"
    },
    "papermill": {
     "duration": 0.469834,
     "end_time": "2020-10-28T19:37:13.185581",
     "exception": false,
     "start_time": "2020-10-28T19:37:12.715747",
     "status": "completed"
    },
    "tags": []
   },
   "outputs": [
    {
     "data": {
      "text/html": [
       "<div>\n",
       "<style scoped>\n",
       "    .dataframe tbody tr th:only-of-type {\n",
       "        vertical-align: middle;\n",
       "    }\n",
       "\n",
       "    .dataframe tbody tr th {\n",
       "        vertical-align: top;\n",
       "    }\n",
       "\n",
       "    .dataframe thead th {\n",
       "        text-align: right;\n",
       "    }\n",
       "</style>\n",
       "<table border=\"1\" class=\"dataframe\">\n",
       "  <thead>\n",
       "    <tr style=\"text-align: right;\">\n",
       "      <th></th>\n",
       "      <th>Player_Name</th>\n",
       "      <th>DOB</th>\n",
       "      <th>Batting_Hand</th>\n",
       "      <th>Bowling_Skill</th>\n",
       "      <th>Country</th>\n",
       "    </tr>\n",
       "  </thead>\n",
       "  <tbody>\n",
       "    <tr>\n",
       "      <th>0</th>\n",
       "      <td>A Ashish Reddy</td>\n",
       "      <td>1991-02-24</td>\n",
       "      <td>Right_Hand</td>\n",
       "      <td>Right-arm medium</td>\n",
       "      <td>India</td>\n",
       "    </tr>\n",
       "    <tr>\n",
       "      <th>1</th>\n",
       "      <td>A Chandila</td>\n",
       "      <td>1983-12-05</td>\n",
       "      <td>Right_Hand</td>\n",
       "      <td>Right-arm offbreak</td>\n",
       "      <td>India</td>\n",
       "    </tr>\n",
       "    <tr>\n",
       "      <th>2</th>\n",
       "      <td>A Chopra</td>\n",
       "      <td>1977-09-19</td>\n",
       "      <td>Right_Hand</td>\n",
       "      <td>Right-arm offbreak</td>\n",
       "      <td>India</td>\n",
       "    </tr>\n",
       "    <tr>\n",
       "      <th>3</th>\n",
       "      <td>A Choudhary</td>\n",
       "      <td>NaT</td>\n",
       "      <td>Right_hand</td>\n",
       "      <td>Left-arm fast-medium</td>\n",
       "      <td>NaN</td>\n",
       "    </tr>\n",
       "    <tr>\n",
       "      <th>4</th>\n",
       "      <td>A Dananjaya</td>\n",
       "      <td>NaT</td>\n",
       "      <td>Right_Hand</td>\n",
       "      <td>Right-arm offbreak</td>\n",
       "      <td>NaN</td>\n",
       "    </tr>\n",
       "    <tr>\n",
       "      <th>...</th>\n",
       "      <td>...</td>\n",
       "      <td>...</td>\n",
       "      <td>...</td>\n",
       "      <td>...</td>\n",
       "      <td>...</td>\n",
       "    </tr>\n",
       "    <tr>\n",
       "      <th>561</th>\n",
       "      <td>Younis Khan</td>\n",
       "      <td>1977-11-29</td>\n",
       "      <td>Right_Hand</td>\n",
       "      <td>Right-arm medium</td>\n",
       "      <td>Pakistan</td>\n",
       "    </tr>\n",
       "    <tr>\n",
       "      <th>562</th>\n",
       "      <td>YS Chahal</td>\n",
       "      <td>1990-07-23</td>\n",
       "      <td>Right_Hand</td>\n",
       "      <td>Legbreak googly</td>\n",
       "      <td>India</td>\n",
       "    </tr>\n",
       "    <tr>\n",
       "      <th>563</th>\n",
       "      <td>Yuvraj Singh</td>\n",
       "      <td>1981-12-12</td>\n",
       "      <td>Left_Hand</td>\n",
       "      <td>Slow left-arm orthodox</td>\n",
       "      <td>India</td>\n",
       "    </tr>\n",
       "    <tr>\n",
       "      <th>564</th>\n",
       "      <td>YV Takawale</td>\n",
       "      <td>1984-11-05</td>\n",
       "      <td>Right_Hand</td>\n",
       "      <td>NaN</td>\n",
       "      <td>India</td>\n",
       "    </tr>\n",
       "    <tr>\n",
       "      <th>565</th>\n",
       "      <td>Z Khan</td>\n",
       "      <td>1978-10-07</td>\n",
       "      <td>Right_Hand</td>\n",
       "      <td>Left-arm fast-medium</td>\n",
       "      <td>India</td>\n",
       "    </tr>\n",
       "  </tbody>\n",
       "</table>\n",
       "<p>566 rows × 5 columns</p>\n",
       "</div>"
      ],
      "text/plain": [
       "        Player_Name        DOB Batting_Hand           Bowling_Skill   Country\n",
       "0    A Ashish Reddy 1991-02-24   Right_Hand        Right-arm medium     India\n",
       "1        A Chandila 1983-12-05   Right_Hand      Right-arm offbreak     India\n",
       "2          A Chopra 1977-09-19   Right_Hand      Right-arm offbreak     India\n",
       "3       A Choudhary        NaT   Right_hand    Left-arm fast-medium       NaN\n",
       "4       A Dananjaya        NaT   Right_Hand      Right-arm offbreak       NaN\n",
       "..              ...        ...          ...                     ...       ...\n",
       "561     Younis Khan 1977-11-29   Right_Hand        Right-arm medium  Pakistan\n",
       "562       YS Chahal 1990-07-23   Right_Hand         Legbreak googly     India\n",
       "563    Yuvraj Singh 1981-12-12    Left_Hand  Slow left-arm orthodox     India\n",
       "564     YV Takawale 1984-11-05   Right_Hand                     NaN     India\n",
       "565          Z Khan 1978-10-07   Right_Hand    Left-arm fast-medium     India\n",
       "\n",
       "[566 rows x 5 columns]"
      ]
     },
     "execution_count": 4,
     "metadata": {},
     "output_type": "execute_result"
    }
   ],
   "source": [
    "Players=pd.read_excel('/kaggle/input/ipl-data-set/Players.xlsx')\n",
    "Players"
   ]
  },
  {
   "cell_type": "code",
   "execution_count": 5,
   "metadata": {
    "execution": {
     "iopub.execute_input": "2020-10-28T19:37:13.297953Z",
     "iopub.status.busy": "2020-10-28T19:37:13.297131Z",
     "iopub.status.idle": "2020-10-28T19:37:13.342818Z",
     "shell.execute_reply": "2020-10-28T19:37:13.342165Z"
    },
    "papermill": {
     "duration": 0.104826,
     "end_time": "2020-10-28T19:37:13.342955",
     "exception": false,
     "start_time": "2020-10-28T19:37:13.238129",
     "status": "completed"
    },
    "tags": []
   },
   "outputs": [
    {
     "data": {
      "text/html": [
       "<div>\n",
       "<style scoped>\n",
       "    .dataframe tbody tr th:only-of-type {\n",
       "        vertical-align: middle;\n",
       "    }\n",
       "\n",
       "    .dataframe tbody tr th {\n",
       "        vertical-align: top;\n",
       "    }\n",
       "\n",
       "    .dataframe thead th {\n",
       "        text-align: right;\n",
       "    }\n",
       "</style>\n",
       "<table border=\"1\" class=\"dataframe\">\n",
       "  <thead>\n",
       "    <tr style=\"text-align: right;\">\n",
       "      <th></th>\n",
       "      <th>id</th>\n",
       "      <th>Season</th>\n",
       "      <th>city</th>\n",
       "      <th>date</th>\n",
       "      <th>team1</th>\n",
       "      <th>team2</th>\n",
       "      <th>toss_winner</th>\n",
       "      <th>toss_decision</th>\n",
       "      <th>result</th>\n",
       "      <th>dl_applied</th>\n",
       "      <th>winner</th>\n",
       "      <th>win_by_runs</th>\n",
       "      <th>win_by_wickets</th>\n",
       "      <th>player_of_match</th>\n",
       "      <th>venue</th>\n",
       "      <th>umpire1</th>\n",
       "      <th>umpire2</th>\n",
       "      <th>umpire3</th>\n",
       "    </tr>\n",
       "  </thead>\n",
       "  <tbody>\n",
       "    <tr>\n",
       "      <th>0</th>\n",
       "      <td>1</td>\n",
       "      <td>IPL-2017</td>\n",
       "      <td>Hyderabad</td>\n",
       "      <td>05-04-2017</td>\n",
       "      <td>Sunrisers Hyderabad</td>\n",
       "      <td>Royal Challengers Bangalore</td>\n",
       "      <td>Royal Challengers Bangalore</td>\n",
       "      <td>field</td>\n",
       "      <td>normal</td>\n",
       "      <td>0</td>\n",
       "      <td>Sunrisers Hyderabad</td>\n",
       "      <td>35</td>\n",
       "      <td>0</td>\n",
       "      <td>Yuvraj Singh</td>\n",
       "      <td>Rajiv Gandhi International Stadium, Uppal</td>\n",
       "      <td>AY Dandekar</td>\n",
       "      <td>NJ Llong</td>\n",
       "      <td>NaN</td>\n",
       "    </tr>\n",
       "    <tr>\n",
       "      <th>1</th>\n",
       "      <td>2</td>\n",
       "      <td>IPL-2017</td>\n",
       "      <td>Pune</td>\n",
       "      <td>06-04-2017</td>\n",
       "      <td>Mumbai Indians</td>\n",
       "      <td>Rising Pune Supergiant</td>\n",
       "      <td>Rising Pune Supergiant</td>\n",
       "      <td>field</td>\n",
       "      <td>normal</td>\n",
       "      <td>0</td>\n",
       "      <td>Rising Pune Supergiant</td>\n",
       "      <td>0</td>\n",
       "      <td>7</td>\n",
       "      <td>SPD Smith</td>\n",
       "      <td>Maharashtra Cricket Association Stadium</td>\n",
       "      <td>A Nand Kishore</td>\n",
       "      <td>S Ravi</td>\n",
       "      <td>NaN</td>\n",
       "    </tr>\n",
       "    <tr>\n",
       "      <th>2</th>\n",
       "      <td>3</td>\n",
       "      <td>IPL-2017</td>\n",
       "      <td>Rajkot</td>\n",
       "      <td>07-04-2017</td>\n",
       "      <td>Gujarat Lions</td>\n",
       "      <td>Kolkata Knight Riders</td>\n",
       "      <td>Kolkata Knight Riders</td>\n",
       "      <td>field</td>\n",
       "      <td>normal</td>\n",
       "      <td>0</td>\n",
       "      <td>Kolkata Knight Riders</td>\n",
       "      <td>0</td>\n",
       "      <td>10</td>\n",
       "      <td>CA Lynn</td>\n",
       "      <td>Saurashtra Cricket Association Stadium</td>\n",
       "      <td>Nitin Menon</td>\n",
       "      <td>CK Nandan</td>\n",
       "      <td>NaN</td>\n",
       "    </tr>\n",
       "    <tr>\n",
       "      <th>3</th>\n",
       "      <td>4</td>\n",
       "      <td>IPL-2017</td>\n",
       "      <td>Indore</td>\n",
       "      <td>08-04-2017</td>\n",
       "      <td>Rising Pune Supergiant</td>\n",
       "      <td>Kings XI Punjab</td>\n",
       "      <td>Kings XI Punjab</td>\n",
       "      <td>field</td>\n",
       "      <td>normal</td>\n",
       "      <td>0</td>\n",
       "      <td>Kings XI Punjab</td>\n",
       "      <td>0</td>\n",
       "      <td>6</td>\n",
       "      <td>GJ Maxwell</td>\n",
       "      <td>Holkar Cricket Stadium</td>\n",
       "      <td>AK Chaudhary</td>\n",
       "      <td>C Shamshuddin</td>\n",
       "      <td>NaN</td>\n",
       "    </tr>\n",
       "    <tr>\n",
       "      <th>4</th>\n",
       "      <td>5</td>\n",
       "      <td>IPL-2017</td>\n",
       "      <td>Bangalore</td>\n",
       "      <td>08-04-2017</td>\n",
       "      <td>Royal Challengers Bangalore</td>\n",
       "      <td>Delhi Daredevils</td>\n",
       "      <td>Royal Challengers Bangalore</td>\n",
       "      <td>bat</td>\n",
       "      <td>normal</td>\n",
       "      <td>0</td>\n",
       "      <td>Royal Challengers Bangalore</td>\n",
       "      <td>15</td>\n",
       "      <td>0</td>\n",
       "      <td>KM Jadhav</td>\n",
       "      <td>M Chinnaswamy Stadium</td>\n",
       "      <td>NaN</td>\n",
       "      <td>NaN</td>\n",
       "      <td>NaN</td>\n",
       "    </tr>\n",
       "    <tr>\n",
       "      <th>...</th>\n",
       "      <td>...</td>\n",
       "      <td>...</td>\n",
       "      <td>...</td>\n",
       "      <td>...</td>\n",
       "      <td>...</td>\n",
       "      <td>...</td>\n",
       "      <td>...</td>\n",
       "      <td>...</td>\n",
       "      <td>...</td>\n",
       "      <td>...</td>\n",
       "      <td>...</td>\n",
       "      <td>...</td>\n",
       "      <td>...</td>\n",
       "      <td>...</td>\n",
       "      <td>...</td>\n",
       "      <td>...</td>\n",
       "      <td>...</td>\n",
       "      <td>...</td>\n",
       "    </tr>\n",
       "    <tr>\n",
       "      <th>751</th>\n",
       "      <td>11347</td>\n",
       "      <td>IPL-2019</td>\n",
       "      <td>Mumbai</td>\n",
       "      <td>05-05-2019</td>\n",
       "      <td>Kolkata Knight Riders</td>\n",
       "      <td>Mumbai Indians</td>\n",
       "      <td>Mumbai Indians</td>\n",
       "      <td>field</td>\n",
       "      <td>normal</td>\n",
       "      <td>0</td>\n",
       "      <td>Mumbai Indians</td>\n",
       "      <td>0</td>\n",
       "      <td>9</td>\n",
       "      <td>HH Pandya</td>\n",
       "      <td>Wankhede Stadium</td>\n",
       "      <td>Nanda Kishore</td>\n",
       "      <td>O Nandan</td>\n",
       "      <td>S Ravi</td>\n",
       "    </tr>\n",
       "    <tr>\n",
       "      <th>752</th>\n",
       "      <td>11412</td>\n",
       "      <td>IPL-2019</td>\n",
       "      <td>Chennai</td>\n",
       "      <td>07-05-2019</td>\n",
       "      <td>Chennai Super Kings</td>\n",
       "      <td>Mumbai Indians</td>\n",
       "      <td>Chennai Super Kings</td>\n",
       "      <td>bat</td>\n",
       "      <td>normal</td>\n",
       "      <td>0</td>\n",
       "      <td>Mumbai Indians</td>\n",
       "      <td>0</td>\n",
       "      <td>6</td>\n",
       "      <td>AS Yadav</td>\n",
       "      <td>M. A. Chidambaram Stadium</td>\n",
       "      <td>Nigel Llong</td>\n",
       "      <td>Nitin Menon</td>\n",
       "      <td>Ian Gould</td>\n",
       "    </tr>\n",
       "    <tr>\n",
       "      <th>753</th>\n",
       "      <td>11413</td>\n",
       "      <td>IPL-2019</td>\n",
       "      <td>Visakhapatnam</td>\n",
       "      <td>08-05-2019</td>\n",
       "      <td>Sunrisers Hyderabad</td>\n",
       "      <td>Delhi Capitals</td>\n",
       "      <td>Delhi Capitals</td>\n",
       "      <td>field</td>\n",
       "      <td>normal</td>\n",
       "      <td>0</td>\n",
       "      <td>Delhi Capitals</td>\n",
       "      <td>0</td>\n",
       "      <td>2</td>\n",
       "      <td>RR Pant</td>\n",
       "      <td>ACA-VDCA Stadium</td>\n",
       "      <td>NaN</td>\n",
       "      <td>NaN</td>\n",
       "      <td>NaN</td>\n",
       "    </tr>\n",
       "    <tr>\n",
       "      <th>754</th>\n",
       "      <td>11414</td>\n",
       "      <td>IPL-2019</td>\n",
       "      <td>Visakhapatnam</td>\n",
       "      <td>10-05-2019</td>\n",
       "      <td>Delhi Capitals</td>\n",
       "      <td>Chennai Super Kings</td>\n",
       "      <td>Chennai Super Kings</td>\n",
       "      <td>field</td>\n",
       "      <td>normal</td>\n",
       "      <td>0</td>\n",
       "      <td>Chennai Super Kings</td>\n",
       "      <td>0</td>\n",
       "      <td>6</td>\n",
       "      <td>F du Plessis</td>\n",
       "      <td>ACA-VDCA Stadium</td>\n",
       "      <td>Sundaram Ravi</td>\n",
       "      <td>Bruce Oxenford</td>\n",
       "      <td>Chettithody Shamshuddin</td>\n",
       "    </tr>\n",
       "    <tr>\n",
       "      <th>755</th>\n",
       "      <td>11415</td>\n",
       "      <td>IPL-2019</td>\n",
       "      <td>Hyderabad</td>\n",
       "      <td>12-05-2019</td>\n",
       "      <td>Mumbai Indians</td>\n",
       "      <td>Chennai Super Kings</td>\n",
       "      <td>Mumbai Indians</td>\n",
       "      <td>bat</td>\n",
       "      <td>normal</td>\n",
       "      <td>0</td>\n",
       "      <td>Mumbai Indians</td>\n",
       "      <td>1</td>\n",
       "      <td>0</td>\n",
       "      <td>JJ Bumrah</td>\n",
       "      <td>Rajiv Gandhi Intl. Cricket Stadium</td>\n",
       "      <td>Nitin Menon</td>\n",
       "      <td>Ian Gould</td>\n",
       "      <td>Nigel Llong</td>\n",
       "    </tr>\n",
       "  </tbody>\n",
       "</table>\n",
       "<p>756 rows × 18 columns</p>\n",
       "</div>"
      ],
      "text/plain": [
       "        id    Season           city        date                        team1  \\\n",
       "0        1  IPL-2017      Hyderabad  05-04-2017          Sunrisers Hyderabad   \n",
       "1        2  IPL-2017           Pune  06-04-2017               Mumbai Indians   \n",
       "2        3  IPL-2017         Rajkot  07-04-2017                Gujarat Lions   \n",
       "3        4  IPL-2017         Indore  08-04-2017       Rising Pune Supergiant   \n",
       "4        5  IPL-2017      Bangalore  08-04-2017  Royal Challengers Bangalore   \n",
       "..     ...       ...            ...         ...                          ...   \n",
       "751  11347  IPL-2019         Mumbai  05-05-2019        Kolkata Knight Riders   \n",
       "752  11412  IPL-2019        Chennai  07-05-2019          Chennai Super Kings   \n",
       "753  11413  IPL-2019  Visakhapatnam  08-05-2019          Sunrisers Hyderabad   \n",
       "754  11414  IPL-2019  Visakhapatnam  10-05-2019               Delhi Capitals   \n",
       "755  11415  IPL-2019      Hyderabad  12-05-2019               Mumbai Indians   \n",
       "\n",
       "                           team2                  toss_winner toss_decision  \\\n",
       "0    Royal Challengers Bangalore  Royal Challengers Bangalore         field   \n",
       "1         Rising Pune Supergiant       Rising Pune Supergiant         field   \n",
       "2          Kolkata Knight Riders        Kolkata Knight Riders         field   \n",
       "3                Kings XI Punjab              Kings XI Punjab         field   \n",
       "4               Delhi Daredevils  Royal Challengers Bangalore           bat   \n",
       "..                           ...                          ...           ...   \n",
       "751               Mumbai Indians               Mumbai Indians         field   \n",
       "752               Mumbai Indians          Chennai Super Kings           bat   \n",
       "753               Delhi Capitals               Delhi Capitals         field   \n",
       "754          Chennai Super Kings          Chennai Super Kings         field   \n",
       "755          Chennai Super Kings               Mumbai Indians           bat   \n",
       "\n",
       "     result  dl_applied                       winner  win_by_runs  \\\n",
       "0    normal           0          Sunrisers Hyderabad           35   \n",
       "1    normal           0       Rising Pune Supergiant            0   \n",
       "2    normal           0        Kolkata Knight Riders            0   \n",
       "3    normal           0              Kings XI Punjab            0   \n",
       "4    normal           0  Royal Challengers Bangalore           15   \n",
       "..      ...         ...                          ...          ...   \n",
       "751  normal           0               Mumbai Indians            0   \n",
       "752  normal           0               Mumbai Indians            0   \n",
       "753  normal           0               Delhi Capitals            0   \n",
       "754  normal           0          Chennai Super Kings            0   \n",
       "755  normal           0               Mumbai Indians            1   \n",
       "\n",
       "     win_by_wickets player_of_match  \\\n",
       "0                 0    Yuvraj Singh   \n",
       "1                 7       SPD Smith   \n",
       "2                10         CA Lynn   \n",
       "3                 6      GJ Maxwell   \n",
       "4                 0       KM Jadhav   \n",
       "..              ...             ...   \n",
       "751               9       HH Pandya   \n",
       "752               6        AS Yadav   \n",
       "753               2         RR Pant   \n",
       "754               6    F du Plessis   \n",
       "755               0       JJ Bumrah   \n",
       "\n",
       "                                         venue         umpire1  \\\n",
       "0    Rajiv Gandhi International Stadium, Uppal     AY Dandekar   \n",
       "1      Maharashtra Cricket Association Stadium  A Nand Kishore   \n",
       "2       Saurashtra Cricket Association Stadium     Nitin Menon   \n",
       "3                       Holkar Cricket Stadium    AK Chaudhary   \n",
       "4                        M Chinnaswamy Stadium             NaN   \n",
       "..                                         ...             ...   \n",
       "751                           Wankhede Stadium   Nanda Kishore   \n",
       "752                  M. A. Chidambaram Stadium     Nigel Llong   \n",
       "753                           ACA-VDCA Stadium             NaN   \n",
       "754                           ACA-VDCA Stadium   Sundaram Ravi   \n",
       "755         Rajiv Gandhi Intl. Cricket Stadium     Nitin Menon   \n",
       "\n",
       "            umpire2                  umpire3  \n",
       "0          NJ Llong                      NaN  \n",
       "1            S Ravi                      NaN  \n",
       "2         CK Nandan                      NaN  \n",
       "3     C Shamshuddin                      NaN  \n",
       "4               NaN                      NaN  \n",
       "..              ...                      ...  \n",
       "751        O Nandan                   S Ravi  \n",
       "752     Nitin Menon                Ian Gould  \n",
       "753             NaN                      NaN  \n",
       "754  Bruce Oxenford  Chettithody Shamshuddin  \n",
       "755       Ian Gould              Nigel Llong  \n",
       "\n",
       "[756 rows x 18 columns]"
      ]
     },
     "execution_count": 5,
     "metadata": {},
     "output_type": "execute_result"
    }
   ],
   "source": [
    "Matches=pd.read_csv('/kaggle/input/ipl-data-set/matches.csv')\n",
    "Matches"
   ]
  },
  {
   "cell_type": "code",
   "execution_count": 6,
   "metadata": {
    "execution": {
     "iopub.execute_input": "2020-10-28T19:37:13.461957Z",
     "iopub.status.busy": "2020-10-28T19:37:13.461103Z",
     "iopub.status.idle": "2020-10-28T19:37:13.484241Z",
     "shell.execute_reply": "2020-10-28T19:37:13.483610Z"
    },
    "papermill": {
     "duration": 0.086708,
     "end_time": "2020-10-28T19:37:13.484378",
     "exception": false,
     "start_time": "2020-10-28T19:37:13.397670",
     "status": "completed"
    },
    "tags": []
   },
   "outputs": [
    {
     "data": {
      "text/html": [
       "<div>\n",
       "<style scoped>\n",
       "    .dataframe tbody tr th:only-of-type {\n",
       "        vertical-align: middle;\n",
       "    }\n",
       "\n",
       "    .dataframe tbody tr th {\n",
       "        vertical-align: top;\n",
       "    }\n",
       "\n",
       "    .dataframe thead th {\n",
       "        text-align: right;\n",
       "    }\n",
       "</style>\n",
       "<table border=\"1\" class=\"dataframe\">\n",
       "  <thead>\n",
       "    <tr style=\"text-align: right;\">\n",
       "      <th></th>\n",
       "      <th>batsman</th>\n",
       "      <th>total_runs</th>\n",
       "      <th>out</th>\n",
       "      <th>numberofballs</th>\n",
       "      <th>average</th>\n",
       "      <th>strikerate</th>\n",
       "    </tr>\n",
       "  </thead>\n",
       "  <tbody>\n",
       "    <tr>\n",
       "      <th>0</th>\n",
       "      <td>V Kohli</td>\n",
       "      <td>5426</td>\n",
       "      <td>152</td>\n",
       "      <td>4111</td>\n",
       "      <td>35.697368</td>\n",
       "      <td>131.987351</td>\n",
       "    </tr>\n",
       "    <tr>\n",
       "      <th>1</th>\n",
       "      <td>SK Raina</td>\n",
       "      <td>5386</td>\n",
       "      <td>160</td>\n",
       "      <td>3916</td>\n",
       "      <td>33.662500</td>\n",
       "      <td>137.538304</td>\n",
       "    </tr>\n",
       "    <tr>\n",
       "      <th>2</th>\n",
       "      <td>RG Sharma</td>\n",
       "      <td>4902</td>\n",
       "      <td>161</td>\n",
       "      <td>3742</td>\n",
       "      <td>30.447205</td>\n",
       "      <td>130.999466</td>\n",
       "    </tr>\n",
       "    <tr>\n",
       "      <th>3</th>\n",
       "      <td>DA Warner</td>\n",
       "      <td>4717</td>\n",
       "      <td>114</td>\n",
       "      <td>3292</td>\n",
       "      <td>41.377193</td>\n",
       "      <td>143.286756</td>\n",
       "    </tr>\n",
       "    <tr>\n",
       "      <th>4</th>\n",
       "      <td>S Dhawan</td>\n",
       "      <td>4601</td>\n",
       "      <td>137</td>\n",
       "      <td>3665</td>\n",
       "      <td>33.583942</td>\n",
       "      <td>125.538881</td>\n",
       "    </tr>\n",
       "    <tr>\n",
       "      <th>...</th>\n",
       "      <td>...</td>\n",
       "      <td>...</td>\n",
       "      <td>...</td>\n",
       "      <td>...</td>\n",
       "      <td>...</td>\n",
       "      <td>...</td>\n",
       "    </tr>\n",
       "    <tr>\n",
       "      <th>511</th>\n",
       "      <td>ND Doshi</td>\n",
       "      <td>0</td>\n",
       "      <td>1</td>\n",
       "      <td>13</td>\n",
       "      <td>0.000000</td>\n",
       "      <td>0.000000</td>\n",
       "    </tr>\n",
       "    <tr>\n",
       "      <th>512</th>\n",
       "      <td>J Denly</td>\n",
       "      <td>0</td>\n",
       "      <td>1</td>\n",
       "      <td>1</td>\n",
       "      <td>0.000000</td>\n",
       "      <td>0.000000</td>\n",
       "    </tr>\n",
       "    <tr>\n",
       "      <th>513</th>\n",
       "      <td>S Ladda</td>\n",
       "      <td>0</td>\n",
       "      <td>2</td>\n",
       "      <td>9</td>\n",
       "      <td>0.000000</td>\n",
       "      <td>0.000000</td>\n",
       "    </tr>\n",
       "    <tr>\n",
       "      <th>514</th>\n",
       "      <td>V Pratap Singh</td>\n",
       "      <td>0</td>\n",
       "      <td>1</td>\n",
       "      <td>1</td>\n",
       "      <td>0.000000</td>\n",
       "      <td>0.000000</td>\n",
       "    </tr>\n",
       "    <tr>\n",
       "      <th>515</th>\n",
       "      <td>S Kaushik</td>\n",
       "      <td>0</td>\n",
       "      <td>1</td>\n",
       "      <td>1</td>\n",
       "      <td>0.000000</td>\n",
       "      <td>0.000000</td>\n",
       "    </tr>\n",
       "  </tbody>\n",
       "</table>\n",
       "<p>516 rows × 6 columns</p>\n",
       "</div>"
      ],
      "text/plain": [
       "            batsman  total_runs  out  numberofballs    average  strikerate\n",
       "0           V Kohli        5426  152           4111  35.697368  131.987351\n",
       "1          SK Raina        5386  160           3916  33.662500  137.538304\n",
       "2         RG Sharma        4902  161           3742  30.447205  130.999466\n",
       "3         DA Warner        4717  114           3292  41.377193  143.286756\n",
       "4          S Dhawan        4601  137           3665  33.583942  125.538881\n",
       "..              ...         ...  ...            ...        ...         ...\n",
       "511        ND Doshi           0    1             13   0.000000    0.000000\n",
       "512         J Denly           0    1              1   0.000000    0.000000\n",
       "513         S Ladda           0    2              9   0.000000    0.000000\n",
       "514  V Pratap Singh           0    1              1   0.000000    0.000000\n",
       "515       S Kaushik           0    1              1   0.000000    0.000000\n",
       "\n",
       "[516 rows x 6 columns]"
      ]
     },
     "execution_count": 6,
     "metadata": {},
     "output_type": "execute_result"
    }
   ],
   "source": [
    "SR=pd.read_csv('/kaggle/input/ipl-data-set/most_runs_average_strikerate.csv')\n",
    "SR"
   ]
  },
  {
   "cell_type": "code",
   "execution_count": 7,
   "metadata": {
    "execution": {
     "iopub.execute_input": "2020-10-28T19:37:13.600619Z",
     "iopub.status.busy": "2020-10-28T19:37:13.599306Z",
     "iopub.status.idle": "2020-10-28T19:37:14.355073Z",
     "shell.execute_reply": "2020-10-28T19:37:14.355624Z"
    },
    "papermill": {
     "duration": 0.816417,
     "end_time": "2020-10-28T19:37:14.355788",
     "exception": false,
     "start_time": "2020-10-28T19:37:13.539371",
     "status": "completed"
    },
    "tags": []
   },
   "outputs": [
    {
     "data": {
      "text/html": [
       "<div>\n",
       "<style scoped>\n",
       "    .dataframe tbody tr th:only-of-type {\n",
       "        vertical-align: middle;\n",
       "    }\n",
       "\n",
       "    .dataframe tbody tr th {\n",
       "        vertical-align: top;\n",
       "    }\n",
       "\n",
       "    .dataframe thead th {\n",
       "        text-align: right;\n",
       "    }\n",
       "</style>\n",
       "<table border=\"1\" class=\"dataframe\">\n",
       "  <thead>\n",
       "    <tr style=\"text-align: right;\">\n",
       "      <th></th>\n",
       "      <th>match_id</th>\n",
       "      <th>inning</th>\n",
       "      <th>batting_team</th>\n",
       "      <th>bowling_team</th>\n",
       "      <th>over</th>\n",
       "      <th>ball</th>\n",
       "      <th>batsman</th>\n",
       "      <th>non_striker</th>\n",
       "      <th>bowler</th>\n",
       "      <th>is_super_over</th>\n",
       "      <th>...</th>\n",
       "      <th>bye_runs</th>\n",
       "      <th>legbye_runs</th>\n",
       "      <th>noball_runs</th>\n",
       "      <th>penalty_runs</th>\n",
       "      <th>batsman_runs</th>\n",
       "      <th>extra_runs</th>\n",
       "      <th>total_runs</th>\n",
       "      <th>player_dismissed</th>\n",
       "      <th>dismissal_kind</th>\n",
       "      <th>fielder</th>\n",
       "    </tr>\n",
       "  </thead>\n",
       "  <tbody>\n",
       "    <tr>\n",
       "      <th>0</th>\n",
       "      <td>1</td>\n",
       "      <td>1</td>\n",
       "      <td>Sunrisers Hyderabad</td>\n",
       "      <td>Royal Challengers Bangalore</td>\n",
       "      <td>1</td>\n",
       "      <td>1</td>\n",
       "      <td>DA Warner</td>\n",
       "      <td>S Dhawan</td>\n",
       "      <td>TS Mills</td>\n",
       "      <td>0</td>\n",
       "      <td>...</td>\n",
       "      <td>0</td>\n",
       "      <td>0</td>\n",
       "      <td>0</td>\n",
       "      <td>0</td>\n",
       "      <td>0</td>\n",
       "      <td>0</td>\n",
       "      <td>0</td>\n",
       "      <td>NaN</td>\n",
       "      <td>NaN</td>\n",
       "      <td>NaN</td>\n",
       "    </tr>\n",
       "    <tr>\n",
       "      <th>1</th>\n",
       "      <td>1</td>\n",
       "      <td>1</td>\n",
       "      <td>Sunrisers Hyderabad</td>\n",
       "      <td>Royal Challengers Bangalore</td>\n",
       "      <td>1</td>\n",
       "      <td>2</td>\n",
       "      <td>DA Warner</td>\n",
       "      <td>S Dhawan</td>\n",
       "      <td>TS Mills</td>\n",
       "      <td>0</td>\n",
       "      <td>...</td>\n",
       "      <td>0</td>\n",
       "      <td>0</td>\n",
       "      <td>0</td>\n",
       "      <td>0</td>\n",
       "      <td>0</td>\n",
       "      <td>0</td>\n",
       "      <td>0</td>\n",
       "      <td>NaN</td>\n",
       "      <td>NaN</td>\n",
       "      <td>NaN</td>\n",
       "    </tr>\n",
       "    <tr>\n",
       "      <th>2</th>\n",
       "      <td>1</td>\n",
       "      <td>1</td>\n",
       "      <td>Sunrisers Hyderabad</td>\n",
       "      <td>Royal Challengers Bangalore</td>\n",
       "      <td>1</td>\n",
       "      <td>3</td>\n",
       "      <td>DA Warner</td>\n",
       "      <td>S Dhawan</td>\n",
       "      <td>TS Mills</td>\n",
       "      <td>0</td>\n",
       "      <td>...</td>\n",
       "      <td>0</td>\n",
       "      <td>0</td>\n",
       "      <td>0</td>\n",
       "      <td>0</td>\n",
       "      <td>4</td>\n",
       "      <td>0</td>\n",
       "      <td>4</td>\n",
       "      <td>NaN</td>\n",
       "      <td>NaN</td>\n",
       "      <td>NaN</td>\n",
       "    </tr>\n",
       "    <tr>\n",
       "      <th>3</th>\n",
       "      <td>1</td>\n",
       "      <td>1</td>\n",
       "      <td>Sunrisers Hyderabad</td>\n",
       "      <td>Royal Challengers Bangalore</td>\n",
       "      <td>1</td>\n",
       "      <td>4</td>\n",
       "      <td>DA Warner</td>\n",
       "      <td>S Dhawan</td>\n",
       "      <td>TS Mills</td>\n",
       "      <td>0</td>\n",
       "      <td>...</td>\n",
       "      <td>0</td>\n",
       "      <td>0</td>\n",
       "      <td>0</td>\n",
       "      <td>0</td>\n",
       "      <td>0</td>\n",
       "      <td>0</td>\n",
       "      <td>0</td>\n",
       "      <td>NaN</td>\n",
       "      <td>NaN</td>\n",
       "      <td>NaN</td>\n",
       "    </tr>\n",
       "    <tr>\n",
       "      <th>4</th>\n",
       "      <td>1</td>\n",
       "      <td>1</td>\n",
       "      <td>Sunrisers Hyderabad</td>\n",
       "      <td>Royal Challengers Bangalore</td>\n",
       "      <td>1</td>\n",
       "      <td>5</td>\n",
       "      <td>DA Warner</td>\n",
       "      <td>S Dhawan</td>\n",
       "      <td>TS Mills</td>\n",
       "      <td>0</td>\n",
       "      <td>...</td>\n",
       "      <td>0</td>\n",
       "      <td>0</td>\n",
       "      <td>0</td>\n",
       "      <td>0</td>\n",
       "      <td>0</td>\n",
       "      <td>2</td>\n",
       "      <td>2</td>\n",
       "      <td>NaN</td>\n",
       "      <td>NaN</td>\n",
       "      <td>NaN</td>\n",
       "    </tr>\n",
       "    <tr>\n",
       "      <th>...</th>\n",
       "      <td>...</td>\n",
       "      <td>...</td>\n",
       "      <td>...</td>\n",
       "      <td>...</td>\n",
       "      <td>...</td>\n",
       "      <td>...</td>\n",
       "      <td>...</td>\n",
       "      <td>...</td>\n",
       "      <td>...</td>\n",
       "      <td>...</td>\n",
       "      <td>...</td>\n",
       "      <td>...</td>\n",
       "      <td>...</td>\n",
       "      <td>...</td>\n",
       "      <td>...</td>\n",
       "      <td>...</td>\n",
       "      <td>...</td>\n",
       "      <td>...</td>\n",
       "      <td>...</td>\n",
       "      <td>...</td>\n",
       "      <td>...</td>\n",
       "    </tr>\n",
       "    <tr>\n",
       "      <th>179073</th>\n",
       "      <td>11415</td>\n",
       "      <td>2</td>\n",
       "      <td>Chennai Super Kings</td>\n",
       "      <td>Mumbai Indians</td>\n",
       "      <td>20</td>\n",
       "      <td>2</td>\n",
       "      <td>RA Jadeja</td>\n",
       "      <td>SR Watson</td>\n",
       "      <td>SL Malinga</td>\n",
       "      <td>0</td>\n",
       "      <td>...</td>\n",
       "      <td>0</td>\n",
       "      <td>0</td>\n",
       "      <td>0</td>\n",
       "      <td>0</td>\n",
       "      <td>1</td>\n",
       "      <td>0</td>\n",
       "      <td>1</td>\n",
       "      <td>NaN</td>\n",
       "      <td>NaN</td>\n",
       "      <td>NaN</td>\n",
       "    </tr>\n",
       "    <tr>\n",
       "      <th>179074</th>\n",
       "      <td>11415</td>\n",
       "      <td>2</td>\n",
       "      <td>Chennai Super Kings</td>\n",
       "      <td>Mumbai Indians</td>\n",
       "      <td>20</td>\n",
       "      <td>3</td>\n",
       "      <td>SR Watson</td>\n",
       "      <td>RA Jadeja</td>\n",
       "      <td>SL Malinga</td>\n",
       "      <td>0</td>\n",
       "      <td>...</td>\n",
       "      <td>0</td>\n",
       "      <td>0</td>\n",
       "      <td>0</td>\n",
       "      <td>0</td>\n",
       "      <td>2</td>\n",
       "      <td>0</td>\n",
       "      <td>2</td>\n",
       "      <td>NaN</td>\n",
       "      <td>NaN</td>\n",
       "      <td>NaN</td>\n",
       "    </tr>\n",
       "    <tr>\n",
       "      <th>179075</th>\n",
       "      <td>11415</td>\n",
       "      <td>2</td>\n",
       "      <td>Chennai Super Kings</td>\n",
       "      <td>Mumbai Indians</td>\n",
       "      <td>20</td>\n",
       "      <td>4</td>\n",
       "      <td>SR Watson</td>\n",
       "      <td>RA Jadeja</td>\n",
       "      <td>SL Malinga</td>\n",
       "      <td>0</td>\n",
       "      <td>...</td>\n",
       "      <td>0</td>\n",
       "      <td>0</td>\n",
       "      <td>0</td>\n",
       "      <td>0</td>\n",
       "      <td>1</td>\n",
       "      <td>0</td>\n",
       "      <td>1</td>\n",
       "      <td>SR Watson</td>\n",
       "      <td>run out</td>\n",
       "      <td>KH Pandya</td>\n",
       "    </tr>\n",
       "    <tr>\n",
       "      <th>179076</th>\n",
       "      <td>11415</td>\n",
       "      <td>2</td>\n",
       "      <td>Chennai Super Kings</td>\n",
       "      <td>Mumbai Indians</td>\n",
       "      <td>20</td>\n",
       "      <td>5</td>\n",
       "      <td>SN Thakur</td>\n",
       "      <td>RA Jadeja</td>\n",
       "      <td>SL Malinga</td>\n",
       "      <td>0</td>\n",
       "      <td>...</td>\n",
       "      <td>0</td>\n",
       "      <td>0</td>\n",
       "      <td>0</td>\n",
       "      <td>0</td>\n",
       "      <td>2</td>\n",
       "      <td>0</td>\n",
       "      <td>2</td>\n",
       "      <td>NaN</td>\n",
       "      <td>NaN</td>\n",
       "      <td>NaN</td>\n",
       "    </tr>\n",
       "    <tr>\n",
       "      <th>179077</th>\n",
       "      <td>11415</td>\n",
       "      <td>2</td>\n",
       "      <td>Chennai Super Kings</td>\n",
       "      <td>Mumbai Indians</td>\n",
       "      <td>20</td>\n",
       "      <td>6</td>\n",
       "      <td>SN Thakur</td>\n",
       "      <td>RA Jadeja</td>\n",
       "      <td>SL Malinga</td>\n",
       "      <td>0</td>\n",
       "      <td>...</td>\n",
       "      <td>0</td>\n",
       "      <td>0</td>\n",
       "      <td>0</td>\n",
       "      <td>0</td>\n",
       "      <td>0</td>\n",
       "      <td>0</td>\n",
       "      <td>0</td>\n",
       "      <td>SN Thakur</td>\n",
       "      <td>lbw</td>\n",
       "      <td>NaN</td>\n",
       "    </tr>\n",
       "  </tbody>\n",
       "</table>\n",
       "<p>179078 rows × 21 columns</p>\n",
       "</div>"
      ],
      "text/plain": [
       "        match_id  inning         batting_team                 bowling_team  \\\n",
       "0              1       1  Sunrisers Hyderabad  Royal Challengers Bangalore   \n",
       "1              1       1  Sunrisers Hyderabad  Royal Challengers Bangalore   \n",
       "2              1       1  Sunrisers Hyderabad  Royal Challengers Bangalore   \n",
       "3              1       1  Sunrisers Hyderabad  Royal Challengers Bangalore   \n",
       "4              1       1  Sunrisers Hyderabad  Royal Challengers Bangalore   \n",
       "...          ...     ...                  ...                          ...   \n",
       "179073     11415       2  Chennai Super Kings               Mumbai Indians   \n",
       "179074     11415       2  Chennai Super Kings               Mumbai Indians   \n",
       "179075     11415       2  Chennai Super Kings               Mumbai Indians   \n",
       "179076     11415       2  Chennai Super Kings               Mumbai Indians   \n",
       "179077     11415       2  Chennai Super Kings               Mumbai Indians   \n",
       "\n",
       "        over  ball    batsman non_striker      bowler  is_super_over  ...  \\\n",
       "0          1     1  DA Warner    S Dhawan    TS Mills              0  ...   \n",
       "1          1     2  DA Warner    S Dhawan    TS Mills              0  ...   \n",
       "2          1     3  DA Warner    S Dhawan    TS Mills              0  ...   \n",
       "3          1     4  DA Warner    S Dhawan    TS Mills              0  ...   \n",
       "4          1     5  DA Warner    S Dhawan    TS Mills              0  ...   \n",
       "...      ...   ...        ...         ...         ...            ...  ...   \n",
       "179073    20     2  RA Jadeja   SR Watson  SL Malinga              0  ...   \n",
       "179074    20     3  SR Watson   RA Jadeja  SL Malinga              0  ...   \n",
       "179075    20     4  SR Watson   RA Jadeja  SL Malinga              0  ...   \n",
       "179076    20     5  SN Thakur   RA Jadeja  SL Malinga              0  ...   \n",
       "179077    20     6  SN Thakur   RA Jadeja  SL Malinga              0  ...   \n",
       "\n",
       "        bye_runs  legbye_runs  noball_runs  penalty_runs  batsman_runs  \\\n",
       "0              0            0            0             0             0   \n",
       "1              0            0            0             0             0   \n",
       "2              0            0            0             0             4   \n",
       "3              0            0            0             0             0   \n",
       "4              0            0            0             0             0   \n",
       "...          ...          ...          ...           ...           ...   \n",
       "179073         0            0            0             0             1   \n",
       "179074         0            0            0             0             2   \n",
       "179075         0            0            0             0             1   \n",
       "179076         0            0            0             0             2   \n",
       "179077         0            0            0             0             0   \n",
       "\n",
       "        extra_runs  total_runs  player_dismissed dismissal_kind    fielder  \n",
       "0                0           0               NaN            NaN        NaN  \n",
       "1                0           0               NaN            NaN        NaN  \n",
       "2                0           4               NaN            NaN        NaN  \n",
       "3                0           0               NaN            NaN        NaN  \n",
       "4                2           2               NaN            NaN        NaN  \n",
       "...            ...         ...               ...            ...        ...  \n",
       "179073           0           1               NaN            NaN        NaN  \n",
       "179074           0           2               NaN            NaN        NaN  \n",
       "179075           0           1         SR Watson        run out  KH Pandya  \n",
       "179076           0           2               NaN            NaN        NaN  \n",
       "179077           0           0         SN Thakur            lbw        NaN  \n",
       "\n",
       "[179078 rows x 21 columns]"
      ]
     },
     "execution_count": 7,
     "metadata": {},
     "output_type": "execute_result"
    }
   ],
   "source": [
    "Deliveries=pd.read_csv('/kaggle/input/ipl-data-set/deliveries.csv')\n",
    "Deliveries"
   ]
  },
  {
   "cell_type": "code",
   "execution_count": 8,
   "metadata": {
    "execution": {
     "iopub.execute_input": "2020-10-28T19:37:14.474108Z",
     "iopub.status.busy": "2020-10-28T19:37:14.473306Z",
     "iopub.status.idle": "2020-10-28T19:37:14.486503Z",
     "shell.execute_reply": "2020-10-28T19:37:14.485737Z"
    },
    "papermill": {
     "duration": 0.07456,
     "end_time": "2020-10-28T19:37:14.486636",
     "exception": false,
     "start_time": "2020-10-28T19:37:14.412076",
     "status": "completed"
    },
    "tags": []
   },
   "outputs": [
    {
     "data": {
      "text/html": [
       "<div>\n",
       "<style scoped>\n",
       "    .dataframe tbody tr th:only-of-type {\n",
       "        vertical-align: middle;\n",
       "    }\n",
       "\n",
       "    .dataframe tbody tr th {\n",
       "        vertical-align: top;\n",
       "    }\n",
       "\n",
       "    .dataframe thead th {\n",
       "        text-align: right;\n",
       "    }\n",
       "</style>\n",
       "<table border=\"1\" class=\"dataframe\">\n",
       "  <thead>\n",
       "    <tr style=\"text-align: right;\">\n",
       "      <th></th>\n",
       "      <th>team1</th>\n",
       "    </tr>\n",
       "  </thead>\n",
       "  <tbody>\n",
       "    <tr>\n",
       "      <th>0</th>\n",
       "      <td>Pune Warriors</td>\n",
       "    </tr>\n",
       "    <tr>\n",
       "      <th>1</th>\n",
       "      <td>Kolkata Knight Riders</td>\n",
       "    </tr>\n",
       "    <tr>\n",
       "      <th>2</th>\n",
       "      <td>Rajasthan Royals</td>\n",
       "    </tr>\n",
       "    <tr>\n",
       "      <th>3</th>\n",
       "      <td>Kochi Tuskers Kerala</td>\n",
       "    </tr>\n",
       "    <tr>\n",
       "      <th>4</th>\n",
       "      <td>Gujarat Lions</td>\n",
       "    </tr>\n",
       "    <tr>\n",
       "      <th>5</th>\n",
       "      <td>Chennai Super Kings</td>\n",
       "    </tr>\n",
       "    <tr>\n",
       "      <th>6</th>\n",
       "      <td>Rising Pune Supergiants</td>\n",
       "    </tr>\n",
       "    <tr>\n",
       "      <th>7</th>\n",
       "      <td>Delhi Daredevils</td>\n",
       "    </tr>\n",
       "    <tr>\n",
       "      <th>8</th>\n",
       "      <td>Deccan Chargers</td>\n",
       "    </tr>\n",
       "    <tr>\n",
       "      <th>9</th>\n",
       "      <td>Delhi Capitals</td>\n",
       "    </tr>\n",
       "    <tr>\n",
       "      <th>10</th>\n",
       "      <td>Mumbai Indians</td>\n",
       "    </tr>\n",
       "    <tr>\n",
       "      <th>11</th>\n",
       "      <td>Sunrisers Hyderabad</td>\n",
       "    </tr>\n",
       "    <tr>\n",
       "      <th>12</th>\n",
       "      <td>Rising Pune Supergiant</td>\n",
       "    </tr>\n",
       "    <tr>\n",
       "      <th>13</th>\n",
       "      <td>Royal Challengers Bangalore</td>\n",
       "    </tr>\n",
       "    <tr>\n",
       "      <th>14</th>\n",
       "      <td>Kings XI Punjab</td>\n",
       "    </tr>\n",
       "  </tbody>\n",
       "</table>\n",
       "</div>"
      ],
      "text/plain": [
       "                          team1\n",
       "0                 Pune Warriors\n",
       "1         Kolkata Knight Riders\n",
       "2              Rajasthan Royals\n",
       "3          Kochi Tuskers Kerala\n",
       "4                 Gujarat Lions\n",
       "5           Chennai Super Kings\n",
       "6       Rising Pune Supergiants\n",
       "7              Delhi Daredevils\n",
       "8               Deccan Chargers\n",
       "9                Delhi Capitals\n",
       "10               Mumbai Indians\n",
       "11          Sunrisers Hyderabad\n",
       "12       Rising Pune Supergiant\n",
       "13  Royal Challengers Bangalore\n",
       "14              Kings XI Punjab"
      ]
     },
     "execution_count": 8,
     "metadata": {},
     "output_type": "execute_result"
    }
   ],
   "source": [
    "Teams=pd.read_csv('/kaggle/input/ipl-data-set/teams.csv')\n",
    "Teams"
   ]
  },
  {
   "cell_type": "markdown",
   "metadata": {
    "papermill": {
     "duration": 0.055771,
     "end_time": "2020-10-28T19:37:14.598675",
     "exception": false,
     "start_time": "2020-10-28T19:37:14.542904",
     "status": "completed"
    },
    "tags": []
   },
   "source": [
    "# Team Name Categorisation"
   ]
  },
  {
   "cell_type": "code",
   "execution_count": 9,
   "metadata": {
    "execution": {
     "iopub.execute_input": "2020-10-28T19:37:14.748094Z",
     "iopub.status.busy": "2020-10-28T19:37:14.747023Z",
     "iopub.status.idle": "2020-10-28T19:37:14.751726Z",
     "shell.execute_reply": "2020-10-28T19:37:14.752290Z"
    },
    "papermill": {
     "duration": 0.097681,
     "end_time": "2020-10-28T19:37:14.752460",
     "exception": false,
     "start_time": "2020-10-28T19:37:14.654779",
     "status": "completed"
    },
    "tags": []
   },
   "outputs": [
    {
     "data": {
      "text/html": [
       "<div>\n",
       "<style scoped>\n",
       "    .dataframe tbody tr th:only-of-type {\n",
       "        vertical-align: middle;\n",
       "    }\n",
       "\n",
       "    .dataframe tbody tr th {\n",
       "        vertical-align: top;\n",
       "    }\n",
       "\n",
       "    .dataframe thead th {\n",
       "        text-align: right;\n",
       "    }\n",
       "</style>\n",
       "<table border=\"1\" class=\"dataframe\">\n",
       "  <thead>\n",
       "    <tr style=\"text-align: right;\">\n",
       "      <th></th>\n",
       "      <th>team</th>\n",
       "      <th>home_wins</th>\n",
       "      <th>away_wins</th>\n",
       "      <th>home_matches</th>\n",
       "      <th>away_matches</th>\n",
       "      <th>home_win_percentage</th>\n",
       "      <th>away_win_percentage</th>\n",
       "    </tr>\n",
       "  </thead>\n",
       "  <tbody>\n",
       "    <tr>\n",
       "      <th>0</th>\n",
       "      <td>12</td>\n",
       "      <td>5</td>\n",
       "      <td>5</td>\n",
       "      <td>8</td>\n",
       "      <td>8</td>\n",
       "      <td>62.500000</td>\n",
       "      <td>62.500000</td>\n",
       "    </tr>\n",
       "    <tr>\n",
       "      <th>1</th>\n",
       "      <td>10</td>\n",
       "      <td>58</td>\n",
       "      <td>51</td>\n",
       "      <td>101</td>\n",
       "      <td>86</td>\n",
       "      <td>57.425743</td>\n",
       "      <td>59.302326</td>\n",
       "    </tr>\n",
       "    <tr>\n",
       "      <th>2</th>\n",
       "      <td>5</td>\n",
       "      <td>51</td>\n",
       "      <td>49</td>\n",
       "      <td>89</td>\n",
       "      <td>75</td>\n",
       "      <td>57.303371</td>\n",
       "      <td>65.333333</td>\n",
       "    </tr>\n",
       "    <tr>\n",
       "      <th>3</th>\n",
       "      <td>9</td>\n",
       "      <td>3</td>\n",
       "      <td>7</td>\n",
       "      <td>6</td>\n",
       "      <td>10</td>\n",
       "      <td>50.000000</td>\n",
       "      <td>70.000000</td>\n",
       "    </tr>\n",
       "    <tr>\n",
       "      <th>4</th>\n",
       "      <td>11</td>\n",
       "      <td>30</td>\n",
       "      <td>28</td>\n",
       "      <td>63</td>\n",
       "      <td>45</td>\n",
       "      <td>47.619048</td>\n",
       "      <td>62.222222</td>\n",
       "    </tr>\n",
       "    <tr>\n",
       "      <th>5</th>\n",
       "      <td>2</td>\n",
       "      <td>29</td>\n",
       "      <td>46</td>\n",
       "      <td>67</td>\n",
       "      <td>80</td>\n",
       "      <td>43.283582</td>\n",
       "      <td>57.500000</td>\n",
       "    </tr>\n",
       "    <tr>\n",
       "      <th>6</th>\n",
       "      <td>8</td>\n",
       "      <td>18</td>\n",
       "      <td>11</td>\n",
       "      <td>43</td>\n",
       "      <td>32</td>\n",
       "      <td>41.860465</td>\n",
       "      <td>34.375000</td>\n",
       "    </tr>\n",
       "    <tr>\n",
       "      <th>7</th>\n",
       "      <td>14</td>\n",
       "      <td>38</td>\n",
       "      <td>44</td>\n",
       "      <td>91</td>\n",
       "      <td>85</td>\n",
       "      <td>41.758242</td>\n",
       "      <td>51.764706</td>\n",
       "    </tr>\n",
       "    <tr>\n",
       "      <th>8</th>\n",
       "      <td>13</td>\n",
       "      <td>35</td>\n",
       "      <td>49</td>\n",
       "      <td>85</td>\n",
       "      <td>95</td>\n",
       "      <td>41.176471</td>\n",
       "      <td>51.578947</td>\n",
       "    </tr>\n",
       "    <tr>\n",
       "      <th>9</th>\n",
       "      <td>1</td>\n",
       "      <td>34</td>\n",
       "      <td>58</td>\n",
       "      <td>83</td>\n",
       "      <td>95</td>\n",
       "      <td>40.963855</td>\n",
       "      <td>61.052632</td>\n",
       "    </tr>\n",
       "    <tr>\n",
       "      <th>10</th>\n",
       "      <td>7</td>\n",
       "      <td>25</td>\n",
       "      <td>42</td>\n",
       "      <td>72</td>\n",
       "      <td>89</td>\n",
       "      <td>34.722222</td>\n",
       "      <td>47.191011</td>\n",
       "    </tr>\n",
       "    <tr>\n",
       "      <th>11</th>\n",
       "      <td>0</td>\n",
       "      <td>6</td>\n",
       "      <td>6</td>\n",
       "      <td>20</td>\n",
       "      <td>26</td>\n",
       "      <td>30.000000</td>\n",
       "      <td>23.076923</td>\n",
       "    </tr>\n",
       "    <tr>\n",
       "      <th>12</th>\n",
       "      <td>3</td>\n",
       "      <td>2</td>\n",
       "      <td>4</td>\n",
       "      <td>7</td>\n",
       "      <td>7</td>\n",
       "      <td>28.571429</td>\n",
       "      <td>57.142857</td>\n",
       "    </tr>\n",
       "    <tr>\n",
       "      <th>13</th>\n",
       "      <td>4</td>\n",
       "      <td>1</td>\n",
       "      <td>12</td>\n",
       "      <td>14</td>\n",
       "      <td>16</td>\n",
       "      <td>7.142857</td>\n",
       "      <td>75.000000</td>\n",
       "    </tr>\n",
       "  </tbody>\n",
       "</table>\n",
       "</div>"
      ],
      "text/plain": [
       "    team  home_wins  away_wins  home_matches  away_matches  \\\n",
       "0     12          5          5             8             8   \n",
       "1     10         58         51           101            86   \n",
       "2      5         51         49            89            75   \n",
       "3      9          3          7             6            10   \n",
       "4     11         30         28            63            45   \n",
       "5      2         29         46            67            80   \n",
       "6      8         18         11            43            32   \n",
       "7     14         38         44            91            85   \n",
       "8     13         35         49            85            95   \n",
       "9      1         34         58            83            95   \n",
       "10     7         25         42            72            89   \n",
       "11     0          6          6            20            26   \n",
       "12     3          2          4             7             7   \n",
       "13     4          1         12            14            16   \n",
       "\n",
       "    home_win_percentage  away_win_percentage  \n",
       "0             62.500000            62.500000  \n",
       "1             57.425743            59.302326  \n",
       "2             57.303371            65.333333  \n",
       "3             50.000000            70.000000  \n",
       "4             47.619048            62.222222  \n",
       "5             43.283582            57.500000  \n",
       "6             41.860465            34.375000  \n",
       "7             41.758242            51.764706  \n",
       "8             41.176471            51.578947  \n",
       "9             40.963855            61.052632  \n",
       "10            34.722222            47.191011  \n",
       "11            30.000000            23.076923  \n",
       "12            28.571429            57.142857  \n",
       "13             7.142857            75.000000  "
      ]
     },
     "execution_count": 9,
     "metadata": {},
     "output_type": "execute_result"
    }
   ],
   "source": [
    "teamwise_home_away['team'].replace('Pune Warriors',0,inplace=True)\n",
    "teamwise_home_away['team'].replace('Kolkata Knight Riders',1,inplace=True)\n",
    "teamwise_home_away['team'].replace('Rajasthan Royals',2,inplace=True)\n",
    "teamwise_home_away['team'].replace('Kochi Tuskers Kerala',3,inplace=True)\n",
    "teamwise_home_away['team'].replace('Gujarat Lions',4,inplace=True)\n",
    "teamwise_home_away['team'].replace('Chennai Super Kings',5,inplace=True)\n",
    "teamwise_home_away['team'].replace('Rising Pune Supergiants',6,inplace=True)\n",
    "teamwise_home_away['team'].replace('Delhi Daredevils',7,inplace=True)\n",
    "teamwise_home_away['team'].replace('Deccan Chargers',8,inplace=True)\n",
    "teamwise_home_away['team'].replace('Delhi Capitals',9,inplace=True)\n",
    "teamwise_home_away['team'].replace('Mumbai Indians',10,inplace=True)\n",
    "teamwise_home_away['team'].replace('Sunrisers Hyderabad',11,inplace=True)\n",
    "teamwise_home_away['team'].replace('Rising Pune Supergiant',12,inplace=True)\n",
    "teamwise_home_away['team'].replace('Royal Challengers Bangalore',13,inplace=True)\n",
    "teamwise_home_away['team'].replace('Kings XI Punjab',14,inplace=True)\n",
    "teamwise_home_away"
   ]
  },
  {
   "cell_type": "code",
   "execution_count": 10,
   "metadata": {
    "execution": {
     "iopub.execute_input": "2020-10-28T19:37:14.884513Z",
     "iopub.status.busy": "2020-10-28T19:37:14.878788Z",
     "iopub.status.idle": "2020-10-28T19:37:14.994221Z",
     "shell.execute_reply": "2020-10-28T19:37:14.993152Z"
    },
    "papermill": {
     "duration": 0.184045,
     "end_time": "2020-10-28T19:37:14.994425",
     "exception": false,
     "start_time": "2020-10-28T19:37:14.810380",
     "status": "completed"
    },
    "tags": []
   },
   "outputs": [
    {
     "data": {
      "text/html": [
       "<div>\n",
       "<style scoped>\n",
       "    .dataframe tbody tr th:only-of-type {\n",
       "        vertical-align: middle;\n",
       "    }\n",
       "\n",
       "    .dataframe tbody tr th {\n",
       "        vertical-align: top;\n",
       "    }\n",
       "\n",
       "    .dataframe thead th {\n",
       "        text-align: right;\n",
       "    }\n",
       "</style>\n",
       "<table border=\"1\" class=\"dataframe\">\n",
       "  <thead>\n",
       "    <tr style=\"text-align: right;\">\n",
       "      <th></th>\n",
       "      <th>id</th>\n",
       "      <th>Season</th>\n",
       "      <th>city</th>\n",
       "      <th>date</th>\n",
       "      <th>team1</th>\n",
       "      <th>team2</th>\n",
       "      <th>toss_winner</th>\n",
       "      <th>toss_decision</th>\n",
       "      <th>result</th>\n",
       "      <th>dl_applied</th>\n",
       "      <th>winner</th>\n",
       "      <th>win_by_runs</th>\n",
       "      <th>win_by_wickets</th>\n",
       "      <th>player_of_match</th>\n",
       "      <th>venue</th>\n",
       "      <th>umpire1</th>\n",
       "      <th>umpire2</th>\n",
       "      <th>umpire3</th>\n",
       "    </tr>\n",
       "  </thead>\n",
       "  <tbody>\n",
       "    <tr>\n",
       "      <th>0</th>\n",
       "      <td>1</td>\n",
       "      <td>IPL-2017</td>\n",
       "      <td>Hyderabad</td>\n",
       "      <td>05-04-2017</td>\n",
       "      <td>11</td>\n",
       "      <td>13</td>\n",
       "      <td>13</td>\n",
       "      <td>field</td>\n",
       "      <td>normal</td>\n",
       "      <td>0</td>\n",
       "      <td>11.0</td>\n",
       "      <td>35</td>\n",
       "      <td>0</td>\n",
       "      <td>Yuvraj Singh</td>\n",
       "      <td>Rajiv Gandhi International Stadium, Uppal</td>\n",
       "      <td>AY Dandekar</td>\n",
       "      <td>NJ Llong</td>\n",
       "      <td>NaN</td>\n",
       "    </tr>\n",
       "    <tr>\n",
       "      <th>1</th>\n",
       "      <td>2</td>\n",
       "      <td>IPL-2017</td>\n",
       "      <td>Pune</td>\n",
       "      <td>06-04-2017</td>\n",
       "      <td>10</td>\n",
       "      <td>12</td>\n",
       "      <td>12</td>\n",
       "      <td>field</td>\n",
       "      <td>normal</td>\n",
       "      <td>0</td>\n",
       "      <td>12.0</td>\n",
       "      <td>0</td>\n",
       "      <td>7</td>\n",
       "      <td>SPD Smith</td>\n",
       "      <td>Maharashtra Cricket Association Stadium</td>\n",
       "      <td>A Nand Kishore</td>\n",
       "      <td>S Ravi</td>\n",
       "      <td>NaN</td>\n",
       "    </tr>\n",
       "    <tr>\n",
       "      <th>2</th>\n",
       "      <td>3</td>\n",
       "      <td>IPL-2017</td>\n",
       "      <td>Rajkot</td>\n",
       "      <td>07-04-2017</td>\n",
       "      <td>4</td>\n",
       "      <td>1</td>\n",
       "      <td>1</td>\n",
       "      <td>field</td>\n",
       "      <td>normal</td>\n",
       "      <td>0</td>\n",
       "      <td>1.0</td>\n",
       "      <td>0</td>\n",
       "      <td>10</td>\n",
       "      <td>CA Lynn</td>\n",
       "      <td>Saurashtra Cricket Association Stadium</td>\n",
       "      <td>Nitin Menon</td>\n",
       "      <td>CK Nandan</td>\n",
       "      <td>NaN</td>\n",
       "    </tr>\n",
       "    <tr>\n",
       "      <th>3</th>\n",
       "      <td>4</td>\n",
       "      <td>IPL-2017</td>\n",
       "      <td>Indore</td>\n",
       "      <td>08-04-2017</td>\n",
       "      <td>12</td>\n",
       "      <td>14</td>\n",
       "      <td>14</td>\n",
       "      <td>field</td>\n",
       "      <td>normal</td>\n",
       "      <td>0</td>\n",
       "      <td>14.0</td>\n",
       "      <td>0</td>\n",
       "      <td>6</td>\n",
       "      <td>GJ Maxwell</td>\n",
       "      <td>Holkar Cricket Stadium</td>\n",
       "      <td>AK Chaudhary</td>\n",
       "      <td>C Shamshuddin</td>\n",
       "      <td>NaN</td>\n",
       "    </tr>\n",
       "    <tr>\n",
       "      <th>4</th>\n",
       "      <td>5</td>\n",
       "      <td>IPL-2017</td>\n",
       "      <td>Bangalore</td>\n",
       "      <td>08-04-2017</td>\n",
       "      <td>13</td>\n",
       "      <td>7</td>\n",
       "      <td>13</td>\n",
       "      <td>bat</td>\n",
       "      <td>normal</td>\n",
       "      <td>0</td>\n",
       "      <td>13.0</td>\n",
       "      <td>15</td>\n",
       "      <td>0</td>\n",
       "      <td>KM Jadhav</td>\n",
       "      <td>M Chinnaswamy Stadium</td>\n",
       "      <td>NaN</td>\n",
       "      <td>NaN</td>\n",
       "      <td>NaN</td>\n",
       "    </tr>\n",
       "    <tr>\n",
       "      <th>...</th>\n",
       "      <td>...</td>\n",
       "      <td>...</td>\n",
       "      <td>...</td>\n",
       "      <td>...</td>\n",
       "      <td>...</td>\n",
       "      <td>...</td>\n",
       "      <td>...</td>\n",
       "      <td>...</td>\n",
       "      <td>...</td>\n",
       "      <td>...</td>\n",
       "      <td>...</td>\n",
       "      <td>...</td>\n",
       "      <td>...</td>\n",
       "      <td>...</td>\n",
       "      <td>...</td>\n",
       "      <td>...</td>\n",
       "      <td>...</td>\n",
       "      <td>...</td>\n",
       "    </tr>\n",
       "    <tr>\n",
       "      <th>751</th>\n",
       "      <td>11347</td>\n",
       "      <td>IPL-2019</td>\n",
       "      <td>Mumbai</td>\n",
       "      <td>05-05-2019</td>\n",
       "      <td>1</td>\n",
       "      <td>10</td>\n",
       "      <td>10</td>\n",
       "      <td>field</td>\n",
       "      <td>normal</td>\n",
       "      <td>0</td>\n",
       "      <td>10.0</td>\n",
       "      <td>0</td>\n",
       "      <td>9</td>\n",
       "      <td>HH Pandya</td>\n",
       "      <td>Wankhede Stadium</td>\n",
       "      <td>Nanda Kishore</td>\n",
       "      <td>O Nandan</td>\n",
       "      <td>S Ravi</td>\n",
       "    </tr>\n",
       "    <tr>\n",
       "      <th>752</th>\n",
       "      <td>11412</td>\n",
       "      <td>IPL-2019</td>\n",
       "      <td>Chennai</td>\n",
       "      <td>07-05-2019</td>\n",
       "      <td>5</td>\n",
       "      <td>10</td>\n",
       "      <td>5</td>\n",
       "      <td>bat</td>\n",
       "      <td>normal</td>\n",
       "      <td>0</td>\n",
       "      <td>10.0</td>\n",
       "      <td>0</td>\n",
       "      <td>6</td>\n",
       "      <td>AS Yadav</td>\n",
       "      <td>M. A. Chidambaram Stadium</td>\n",
       "      <td>Nigel Llong</td>\n",
       "      <td>Nitin Menon</td>\n",
       "      <td>Ian Gould</td>\n",
       "    </tr>\n",
       "    <tr>\n",
       "      <th>753</th>\n",
       "      <td>11413</td>\n",
       "      <td>IPL-2019</td>\n",
       "      <td>Visakhapatnam</td>\n",
       "      <td>08-05-2019</td>\n",
       "      <td>11</td>\n",
       "      <td>9</td>\n",
       "      <td>9</td>\n",
       "      <td>field</td>\n",
       "      <td>normal</td>\n",
       "      <td>0</td>\n",
       "      <td>9.0</td>\n",
       "      <td>0</td>\n",
       "      <td>2</td>\n",
       "      <td>RR Pant</td>\n",
       "      <td>ACA-VDCA Stadium</td>\n",
       "      <td>NaN</td>\n",
       "      <td>NaN</td>\n",
       "      <td>NaN</td>\n",
       "    </tr>\n",
       "    <tr>\n",
       "      <th>754</th>\n",
       "      <td>11414</td>\n",
       "      <td>IPL-2019</td>\n",
       "      <td>Visakhapatnam</td>\n",
       "      <td>10-05-2019</td>\n",
       "      <td>9</td>\n",
       "      <td>5</td>\n",
       "      <td>5</td>\n",
       "      <td>field</td>\n",
       "      <td>normal</td>\n",
       "      <td>0</td>\n",
       "      <td>5.0</td>\n",
       "      <td>0</td>\n",
       "      <td>6</td>\n",
       "      <td>F du Plessis</td>\n",
       "      <td>ACA-VDCA Stadium</td>\n",
       "      <td>Sundaram Ravi</td>\n",
       "      <td>Bruce Oxenford</td>\n",
       "      <td>Chettithody Shamshuddin</td>\n",
       "    </tr>\n",
       "    <tr>\n",
       "      <th>755</th>\n",
       "      <td>11415</td>\n",
       "      <td>IPL-2019</td>\n",
       "      <td>Hyderabad</td>\n",
       "      <td>12-05-2019</td>\n",
       "      <td>10</td>\n",
       "      <td>5</td>\n",
       "      <td>10</td>\n",
       "      <td>bat</td>\n",
       "      <td>normal</td>\n",
       "      <td>0</td>\n",
       "      <td>10.0</td>\n",
       "      <td>1</td>\n",
       "      <td>0</td>\n",
       "      <td>JJ Bumrah</td>\n",
       "      <td>Rajiv Gandhi Intl. Cricket Stadium</td>\n",
       "      <td>Nitin Menon</td>\n",
       "      <td>Ian Gould</td>\n",
       "      <td>Nigel Llong</td>\n",
       "    </tr>\n",
       "  </tbody>\n",
       "</table>\n",
       "<p>756 rows × 18 columns</p>\n",
       "</div>"
      ],
      "text/plain": [
       "        id    Season           city        date  team1  team2  toss_winner  \\\n",
       "0        1  IPL-2017      Hyderabad  05-04-2017     11     13           13   \n",
       "1        2  IPL-2017           Pune  06-04-2017     10     12           12   \n",
       "2        3  IPL-2017         Rajkot  07-04-2017      4      1            1   \n",
       "3        4  IPL-2017         Indore  08-04-2017     12     14           14   \n",
       "4        5  IPL-2017      Bangalore  08-04-2017     13      7           13   \n",
       "..     ...       ...            ...         ...    ...    ...          ...   \n",
       "751  11347  IPL-2019         Mumbai  05-05-2019      1     10           10   \n",
       "752  11412  IPL-2019        Chennai  07-05-2019      5     10            5   \n",
       "753  11413  IPL-2019  Visakhapatnam  08-05-2019     11      9            9   \n",
       "754  11414  IPL-2019  Visakhapatnam  10-05-2019      9      5            5   \n",
       "755  11415  IPL-2019      Hyderabad  12-05-2019     10      5           10   \n",
       "\n",
       "    toss_decision  result  dl_applied  winner  win_by_runs  win_by_wickets  \\\n",
       "0           field  normal           0    11.0           35               0   \n",
       "1           field  normal           0    12.0            0               7   \n",
       "2           field  normal           0     1.0            0              10   \n",
       "3           field  normal           0    14.0            0               6   \n",
       "4             bat  normal           0    13.0           15               0   \n",
       "..            ...     ...         ...     ...          ...             ...   \n",
       "751         field  normal           0    10.0            0               9   \n",
       "752           bat  normal           0    10.0            0               6   \n",
       "753         field  normal           0     9.0            0               2   \n",
       "754         field  normal           0     5.0            0               6   \n",
       "755           bat  normal           0    10.0            1               0   \n",
       "\n",
       "    player_of_match                                      venue  \\\n",
       "0      Yuvraj Singh  Rajiv Gandhi International Stadium, Uppal   \n",
       "1         SPD Smith    Maharashtra Cricket Association Stadium   \n",
       "2           CA Lynn     Saurashtra Cricket Association Stadium   \n",
       "3        GJ Maxwell                     Holkar Cricket Stadium   \n",
       "4         KM Jadhav                      M Chinnaswamy Stadium   \n",
       "..              ...                                        ...   \n",
       "751       HH Pandya                           Wankhede Stadium   \n",
       "752        AS Yadav                  M. A. Chidambaram Stadium   \n",
       "753         RR Pant                           ACA-VDCA Stadium   \n",
       "754    F du Plessis                           ACA-VDCA Stadium   \n",
       "755       JJ Bumrah         Rajiv Gandhi Intl. Cricket Stadium   \n",
       "\n",
       "            umpire1         umpire2                  umpire3  \n",
       "0       AY Dandekar        NJ Llong                      NaN  \n",
       "1    A Nand Kishore          S Ravi                      NaN  \n",
       "2       Nitin Menon       CK Nandan                      NaN  \n",
       "3      AK Chaudhary   C Shamshuddin                      NaN  \n",
       "4               NaN             NaN                      NaN  \n",
       "..              ...             ...                      ...  \n",
       "751   Nanda Kishore        O Nandan                   S Ravi  \n",
       "752     Nigel Llong     Nitin Menon                Ian Gould  \n",
       "753             NaN             NaN                      NaN  \n",
       "754   Sundaram Ravi  Bruce Oxenford  Chettithody Shamshuddin  \n",
       "755     Nitin Menon       Ian Gould              Nigel Llong  \n",
       "\n",
       "[756 rows x 18 columns]"
      ]
     },
     "execution_count": 10,
     "metadata": {},
     "output_type": "execute_result"
    }
   ],
   "source": [
    "Matches['team1'].replace('Pune Warriors',0,inplace=True)\n",
    "Matches['team1'].replace('Kolkata Knight Riders',1,inplace=True)\n",
    "Matches['team1'].replace('Rajasthan Royals',2,inplace=True)\n",
    "Matches['team1'].replace('Kochi Tuskers Kerala',3,inplace=True)\n",
    "Matches['team1'].replace('Gujarat Lions',4,inplace=True)\n",
    "Matches['team1'].replace('Chennai Super Kings',5,inplace=True)\n",
    "Matches['team1'].replace('Rising Pune Supergiants',6,inplace=True)\n",
    "Matches['team1'].replace('Delhi Daredevils',7,inplace=True)\n",
    "Matches['team1'].replace('Deccan Chargers',8,inplace=True)\n",
    "Matches['team1'].replace('Delhi Capitals',9,inplace=True)\n",
    "Matches['team1'].replace('Mumbai Indians',10,inplace=True)\n",
    "Matches['team1'].replace('Sunrisers Hyderabad',11,inplace=True)\n",
    "Matches['team1'].replace('Rising Pune Supergiant',12,inplace=True)\n",
    "Matches['team1'].replace('Royal Challengers Bangalore',13,inplace=True)\n",
    "Matches['team1'].replace('Kings XI Punjab',14,inplace=True)\n",
    "\n",
    "Matches['team2'].replace('Pune Warriors',0,inplace=True)\n",
    "Matches['team2'].replace('Kolkata Knight Riders',1,inplace=True)\n",
    "Matches['team2'].replace('Rajasthan Royals',2,inplace=True)\n",
    "Matches['team2'].replace('Kochi Tuskers Kerala',3,inplace=True)\n",
    "Matches['team2'].replace('Gujarat Lions',4,inplace=True)\n",
    "Matches['team2'].replace('Chennai Super Kings',5,inplace=True)\n",
    "Matches['team2'].replace('Rising Pune Supergiants',6,inplace=True)\n",
    "Matches['team2'].replace('Delhi Daredevils',7,inplace=True)\n",
    "Matches['team2'].replace('Deccan Chargers',8,inplace=True)\n",
    "Matches['team2'].replace('Delhi Capitals',9,inplace=True)\n",
    "Matches['team2'].replace('Mumbai Indians',10,inplace=True)\n",
    "Matches['team2'].replace('Sunrisers Hyderabad',11,inplace=True)\n",
    "Matches['team2'].replace('Rising Pune Supergiant',12,inplace=True)\n",
    "Matches['team2'].replace('Royal Challengers Bangalore',13,inplace=True)\n",
    "Matches['team2'].replace('Kings XI Punjab',14,inplace=True)\n",
    "\n",
    "Matches['toss_winner'].replace('Pune Warriors',0,inplace=True)\n",
    "Matches['toss_winner'].replace('Kolkata Knight Riders',1,inplace=True)\n",
    "Matches['toss_winner'].replace('Rajasthan Royals',2,inplace=True)\n",
    "Matches['toss_winner'].replace('Kochi Tuskers Kerala',3,inplace=True)\n",
    "Matches['toss_winner'].replace('Gujarat Lions',4,inplace=True)\n",
    "Matches['toss_winner'].replace('Chennai Super Kings',5,inplace=True)\n",
    "Matches['toss_winner'].replace('Rising Pune Supergiants',6,inplace=True)\n",
    "Matches['toss_winner'].replace('Delhi Daredevils',7,inplace=True)\n",
    "Matches['toss_winner'].replace('Deccan Chargers',8,inplace=True)\n",
    "Matches['toss_winner'].replace('Delhi Capitals',9,inplace=True)\n",
    "Matches['toss_winner'].replace('Mumbai Indians',10,inplace=True)\n",
    "Matches['toss_winner'].replace('Sunrisers Hyderabad',11,inplace=True)\n",
    "Matches['toss_winner'].replace('Rising Pune Supergiant',12,inplace=True)\n",
    "Matches['toss_winner'].replace('Royal Challengers Bangalore',13,inplace=True)\n",
    "Matches['toss_winner'].replace('Kings XI Punjab',14,inplace=True)\n",
    "\n",
    "Matches['winner'].replace('Pune Warriors',0,inplace=True)\n",
    "Matches['winner'].replace('Kolkata Knight Riders',1,inplace=True)\n",
    "Matches['winner'].replace('Rajasthan Royals',2,inplace=True)\n",
    "Matches['winner'].replace('Kochi Tuskers Kerala',3,inplace=True)\n",
    "Matches['winner'].replace('Gujarat Lions',4,inplace=True)\n",
    "Matches['winner'].replace('Chennai Super Kings',5,inplace=True)\n",
    "Matches['winner'].replace('Rising Pune Supergiants',6,inplace=True)\n",
    "Matches['winner'].replace('Delhi Daredevils',7,inplace=True)\n",
    "Matches['winner'].replace('Deccan Chargers',8,inplace=True)\n",
    "Matches['winner'].replace('Delhi Capitals',9,inplace=True)\n",
    "Matches['winner'].replace('Mumbai Indians',10,inplace=True)\n",
    "Matches['winner'].replace('Sunrisers Hyderabad',11,inplace=True)\n",
    "Matches['winner'].replace('Rising Pune Supergiant',12,inplace=True)\n",
    "Matches['winner'].replace('Royal Challengers Bangalore',13,inplace=True)\n",
    "Matches['winner'].replace('Kings XI Punjab',14,inplace=True)\n",
    "\n",
    "Matches"
   ]
  },
  {
   "cell_type": "code",
   "execution_count": 11,
   "metadata": {
    "execution": {
     "iopub.execute_input": "2020-10-28T19:37:15.146709Z",
     "iopub.status.busy": "2020-10-28T19:37:15.124513Z",
     "iopub.status.idle": "2020-10-28T19:37:15.761143Z",
     "shell.execute_reply": "2020-10-28T19:37:15.761773Z"
    },
    "papermill": {
     "duration": 0.704843,
     "end_time": "2020-10-28T19:37:15.761953",
     "exception": false,
     "start_time": "2020-10-28T19:37:15.057110",
     "status": "completed"
    },
    "tags": []
   },
   "outputs": [
    {
     "data": {
      "text/html": [
       "<div>\n",
       "<style scoped>\n",
       "    .dataframe tbody tr th:only-of-type {\n",
       "        vertical-align: middle;\n",
       "    }\n",
       "\n",
       "    .dataframe tbody tr th {\n",
       "        vertical-align: top;\n",
       "    }\n",
       "\n",
       "    .dataframe thead th {\n",
       "        text-align: right;\n",
       "    }\n",
       "</style>\n",
       "<table border=\"1\" class=\"dataframe\">\n",
       "  <thead>\n",
       "    <tr style=\"text-align: right;\">\n",
       "      <th></th>\n",
       "      <th>match_id</th>\n",
       "      <th>inning</th>\n",
       "      <th>batting_team</th>\n",
       "      <th>bowling_team</th>\n",
       "      <th>over</th>\n",
       "      <th>ball</th>\n",
       "      <th>batsman</th>\n",
       "      <th>non_striker</th>\n",
       "      <th>bowler</th>\n",
       "      <th>is_super_over</th>\n",
       "      <th>...</th>\n",
       "      <th>bye_runs</th>\n",
       "      <th>legbye_runs</th>\n",
       "      <th>noball_runs</th>\n",
       "      <th>penalty_runs</th>\n",
       "      <th>batsman_runs</th>\n",
       "      <th>extra_runs</th>\n",
       "      <th>total_runs</th>\n",
       "      <th>player_dismissed</th>\n",
       "      <th>dismissal_kind</th>\n",
       "      <th>fielder</th>\n",
       "    </tr>\n",
       "  </thead>\n",
       "  <tbody>\n",
       "    <tr>\n",
       "      <th>0</th>\n",
       "      <td>1</td>\n",
       "      <td>1</td>\n",
       "      <td>11</td>\n",
       "      <td>13</td>\n",
       "      <td>1</td>\n",
       "      <td>1</td>\n",
       "      <td>DA Warner</td>\n",
       "      <td>S Dhawan</td>\n",
       "      <td>TS Mills</td>\n",
       "      <td>0</td>\n",
       "      <td>...</td>\n",
       "      <td>0</td>\n",
       "      <td>0</td>\n",
       "      <td>0</td>\n",
       "      <td>0</td>\n",
       "      <td>0</td>\n",
       "      <td>0</td>\n",
       "      <td>0</td>\n",
       "      <td>NaN</td>\n",
       "      <td>NaN</td>\n",
       "      <td>NaN</td>\n",
       "    </tr>\n",
       "    <tr>\n",
       "      <th>1</th>\n",
       "      <td>1</td>\n",
       "      <td>1</td>\n",
       "      <td>11</td>\n",
       "      <td>13</td>\n",
       "      <td>1</td>\n",
       "      <td>2</td>\n",
       "      <td>DA Warner</td>\n",
       "      <td>S Dhawan</td>\n",
       "      <td>TS Mills</td>\n",
       "      <td>0</td>\n",
       "      <td>...</td>\n",
       "      <td>0</td>\n",
       "      <td>0</td>\n",
       "      <td>0</td>\n",
       "      <td>0</td>\n",
       "      <td>0</td>\n",
       "      <td>0</td>\n",
       "      <td>0</td>\n",
       "      <td>NaN</td>\n",
       "      <td>NaN</td>\n",
       "      <td>NaN</td>\n",
       "    </tr>\n",
       "    <tr>\n",
       "      <th>2</th>\n",
       "      <td>1</td>\n",
       "      <td>1</td>\n",
       "      <td>11</td>\n",
       "      <td>13</td>\n",
       "      <td>1</td>\n",
       "      <td>3</td>\n",
       "      <td>DA Warner</td>\n",
       "      <td>S Dhawan</td>\n",
       "      <td>TS Mills</td>\n",
       "      <td>0</td>\n",
       "      <td>...</td>\n",
       "      <td>0</td>\n",
       "      <td>0</td>\n",
       "      <td>0</td>\n",
       "      <td>0</td>\n",
       "      <td>4</td>\n",
       "      <td>0</td>\n",
       "      <td>4</td>\n",
       "      <td>NaN</td>\n",
       "      <td>NaN</td>\n",
       "      <td>NaN</td>\n",
       "    </tr>\n",
       "    <tr>\n",
       "      <th>3</th>\n",
       "      <td>1</td>\n",
       "      <td>1</td>\n",
       "      <td>11</td>\n",
       "      <td>13</td>\n",
       "      <td>1</td>\n",
       "      <td>4</td>\n",
       "      <td>DA Warner</td>\n",
       "      <td>S Dhawan</td>\n",
       "      <td>TS Mills</td>\n",
       "      <td>0</td>\n",
       "      <td>...</td>\n",
       "      <td>0</td>\n",
       "      <td>0</td>\n",
       "      <td>0</td>\n",
       "      <td>0</td>\n",
       "      <td>0</td>\n",
       "      <td>0</td>\n",
       "      <td>0</td>\n",
       "      <td>NaN</td>\n",
       "      <td>NaN</td>\n",
       "      <td>NaN</td>\n",
       "    </tr>\n",
       "    <tr>\n",
       "      <th>4</th>\n",
       "      <td>1</td>\n",
       "      <td>1</td>\n",
       "      <td>11</td>\n",
       "      <td>13</td>\n",
       "      <td>1</td>\n",
       "      <td>5</td>\n",
       "      <td>DA Warner</td>\n",
       "      <td>S Dhawan</td>\n",
       "      <td>TS Mills</td>\n",
       "      <td>0</td>\n",
       "      <td>...</td>\n",
       "      <td>0</td>\n",
       "      <td>0</td>\n",
       "      <td>0</td>\n",
       "      <td>0</td>\n",
       "      <td>0</td>\n",
       "      <td>2</td>\n",
       "      <td>2</td>\n",
       "      <td>NaN</td>\n",
       "      <td>NaN</td>\n",
       "      <td>NaN</td>\n",
       "    </tr>\n",
       "    <tr>\n",
       "      <th>...</th>\n",
       "      <td>...</td>\n",
       "      <td>...</td>\n",
       "      <td>...</td>\n",
       "      <td>...</td>\n",
       "      <td>...</td>\n",
       "      <td>...</td>\n",
       "      <td>...</td>\n",
       "      <td>...</td>\n",
       "      <td>...</td>\n",
       "      <td>...</td>\n",
       "      <td>...</td>\n",
       "      <td>...</td>\n",
       "      <td>...</td>\n",
       "      <td>...</td>\n",
       "      <td>...</td>\n",
       "      <td>...</td>\n",
       "      <td>...</td>\n",
       "      <td>...</td>\n",
       "      <td>...</td>\n",
       "      <td>...</td>\n",
       "      <td>...</td>\n",
       "    </tr>\n",
       "    <tr>\n",
       "      <th>179073</th>\n",
       "      <td>11415</td>\n",
       "      <td>2</td>\n",
       "      <td>5</td>\n",
       "      <td>10</td>\n",
       "      <td>20</td>\n",
       "      <td>2</td>\n",
       "      <td>RA Jadeja</td>\n",
       "      <td>SR Watson</td>\n",
       "      <td>SL Malinga</td>\n",
       "      <td>0</td>\n",
       "      <td>...</td>\n",
       "      <td>0</td>\n",
       "      <td>0</td>\n",
       "      <td>0</td>\n",
       "      <td>0</td>\n",
       "      <td>1</td>\n",
       "      <td>0</td>\n",
       "      <td>1</td>\n",
       "      <td>NaN</td>\n",
       "      <td>NaN</td>\n",
       "      <td>NaN</td>\n",
       "    </tr>\n",
       "    <tr>\n",
       "      <th>179074</th>\n",
       "      <td>11415</td>\n",
       "      <td>2</td>\n",
       "      <td>5</td>\n",
       "      <td>10</td>\n",
       "      <td>20</td>\n",
       "      <td>3</td>\n",
       "      <td>SR Watson</td>\n",
       "      <td>RA Jadeja</td>\n",
       "      <td>SL Malinga</td>\n",
       "      <td>0</td>\n",
       "      <td>...</td>\n",
       "      <td>0</td>\n",
       "      <td>0</td>\n",
       "      <td>0</td>\n",
       "      <td>0</td>\n",
       "      <td>2</td>\n",
       "      <td>0</td>\n",
       "      <td>2</td>\n",
       "      <td>NaN</td>\n",
       "      <td>NaN</td>\n",
       "      <td>NaN</td>\n",
       "    </tr>\n",
       "    <tr>\n",
       "      <th>179075</th>\n",
       "      <td>11415</td>\n",
       "      <td>2</td>\n",
       "      <td>5</td>\n",
       "      <td>10</td>\n",
       "      <td>20</td>\n",
       "      <td>4</td>\n",
       "      <td>SR Watson</td>\n",
       "      <td>RA Jadeja</td>\n",
       "      <td>SL Malinga</td>\n",
       "      <td>0</td>\n",
       "      <td>...</td>\n",
       "      <td>0</td>\n",
       "      <td>0</td>\n",
       "      <td>0</td>\n",
       "      <td>0</td>\n",
       "      <td>1</td>\n",
       "      <td>0</td>\n",
       "      <td>1</td>\n",
       "      <td>SR Watson</td>\n",
       "      <td>run out</td>\n",
       "      <td>KH Pandya</td>\n",
       "    </tr>\n",
       "    <tr>\n",
       "      <th>179076</th>\n",
       "      <td>11415</td>\n",
       "      <td>2</td>\n",
       "      <td>5</td>\n",
       "      <td>10</td>\n",
       "      <td>20</td>\n",
       "      <td>5</td>\n",
       "      <td>SN Thakur</td>\n",
       "      <td>RA Jadeja</td>\n",
       "      <td>SL Malinga</td>\n",
       "      <td>0</td>\n",
       "      <td>...</td>\n",
       "      <td>0</td>\n",
       "      <td>0</td>\n",
       "      <td>0</td>\n",
       "      <td>0</td>\n",
       "      <td>2</td>\n",
       "      <td>0</td>\n",
       "      <td>2</td>\n",
       "      <td>NaN</td>\n",
       "      <td>NaN</td>\n",
       "      <td>NaN</td>\n",
       "    </tr>\n",
       "    <tr>\n",
       "      <th>179077</th>\n",
       "      <td>11415</td>\n",
       "      <td>2</td>\n",
       "      <td>5</td>\n",
       "      <td>10</td>\n",
       "      <td>20</td>\n",
       "      <td>6</td>\n",
       "      <td>SN Thakur</td>\n",
       "      <td>RA Jadeja</td>\n",
       "      <td>SL Malinga</td>\n",
       "      <td>0</td>\n",
       "      <td>...</td>\n",
       "      <td>0</td>\n",
       "      <td>0</td>\n",
       "      <td>0</td>\n",
       "      <td>0</td>\n",
       "      <td>0</td>\n",
       "      <td>0</td>\n",
       "      <td>0</td>\n",
       "      <td>SN Thakur</td>\n",
       "      <td>lbw</td>\n",
       "      <td>NaN</td>\n",
       "    </tr>\n",
       "  </tbody>\n",
       "</table>\n",
       "<p>179078 rows × 21 columns</p>\n",
       "</div>"
      ],
      "text/plain": [
       "        match_id  inning  batting_team  bowling_team  over  ball    batsman  \\\n",
       "0              1       1            11            13     1     1  DA Warner   \n",
       "1              1       1            11            13     1     2  DA Warner   \n",
       "2              1       1            11            13     1     3  DA Warner   \n",
       "3              1       1            11            13     1     4  DA Warner   \n",
       "4              1       1            11            13     1     5  DA Warner   \n",
       "...          ...     ...           ...           ...   ...   ...        ...   \n",
       "179073     11415       2             5            10    20     2  RA Jadeja   \n",
       "179074     11415       2             5            10    20     3  SR Watson   \n",
       "179075     11415       2             5            10    20     4  SR Watson   \n",
       "179076     11415       2             5            10    20     5  SN Thakur   \n",
       "179077     11415       2             5            10    20     6  SN Thakur   \n",
       "\n",
       "       non_striker      bowler  is_super_over  ...  bye_runs  legbye_runs  \\\n",
       "0         S Dhawan    TS Mills              0  ...         0            0   \n",
       "1         S Dhawan    TS Mills              0  ...         0            0   \n",
       "2         S Dhawan    TS Mills              0  ...         0            0   \n",
       "3         S Dhawan    TS Mills              0  ...         0            0   \n",
       "4         S Dhawan    TS Mills              0  ...         0            0   \n",
       "...            ...         ...            ...  ...       ...          ...   \n",
       "179073   SR Watson  SL Malinga              0  ...         0            0   \n",
       "179074   RA Jadeja  SL Malinga              0  ...         0            0   \n",
       "179075   RA Jadeja  SL Malinga              0  ...         0            0   \n",
       "179076   RA Jadeja  SL Malinga              0  ...         0            0   \n",
       "179077   RA Jadeja  SL Malinga              0  ...         0            0   \n",
       "\n",
       "        noball_runs  penalty_runs  batsman_runs  extra_runs  total_runs  \\\n",
       "0                 0             0             0           0           0   \n",
       "1                 0             0             0           0           0   \n",
       "2                 0             0             4           0           4   \n",
       "3                 0             0             0           0           0   \n",
       "4                 0             0             0           2           2   \n",
       "...             ...           ...           ...         ...         ...   \n",
       "179073            0             0             1           0           1   \n",
       "179074            0             0             2           0           2   \n",
       "179075            0             0             1           0           1   \n",
       "179076            0             0             2           0           2   \n",
       "179077            0             0             0           0           0   \n",
       "\n",
       "        player_dismissed dismissal_kind    fielder  \n",
       "0                    NaN            NaN        NaN  \n",
       "1                    NaN            NaN        NaN  \n",
       "2                    NaN            NaN        NaN  \n",
       "3                    NaN            NaN        NaN  \n",
       "4                    NaN            NaN        NaN  \n",
       "...                  ...            ...        ...  \n",
       "179073               NaN            NaN        NaN  \n",
       "179074               NaN            NaN        NaN  \n",
       "179075         SR Watson        run out  KH Pandya  \n",
       "179076               NaN            NaN        NaN  \n",
       "179077         SN Thakur            lbw        NaN  \n",
       "\n",
       "[179078 rows x 21 columns]"
      ]
     },
     "execution_count": 11,
     "metadata": {},
     "output_type": "execute_result"
    }
   ],
   "source": [
    "Deliveries['batting_team'].replace('Pune Warriors',0,inplace=True)\n",
    "Deliveries['batting_team'].replace('Kolkata Knight Riders',1,inplace=True)\n",
    "Deliveries['batting_team'].replace('Rajasthan Royals',2,inplace=True)\n",
    "Deliveries['batting_team'].replace('Kochi Tuskers Kerala',3,inplace=True)\n",
    "Deliveries['batting_team'].replace('Gujarat Lions',4,inplace=True)\n",
    "Deliveries['batting_team'].replace('Chennai Super Kings',5,inplace=True)\n",
    "Deliveries['batting_team'].replace('Rising Pune Supergiants',6,inplace=True)\n",
    "Deliveries['batting_team'].replace('Delhi Daredevils',7,inplace=True)\n",
    "Deliveries['batting_team'].replace('Deccan Chargers',8,inplace=True)\n",
    "Deliveries['batting_team'].replace('Delhi Capitals',9,inplace=True)\n",
    "Deliveries['batting_team'].replace('Mumbai Indians',10,inplace=True)\n",
    "Deliveries['batting_team'].replace('Sunrisers Hyderabad',11,inplace=True)\n",
    "Deliveries['batting_team'].replace('Rising Pune Supergiant',12,inplace=True)\n",
    "Deliveries['batting_team'].replace('Royal Challengers Bangalore',13,inplace=True)\n",
    "Deliveries['batting_team'].replace('Kings XI Punjab',14,inplace=True)\n",
    "\n",
    "Deliveries['bowling_team'].replace('Pune Warriors',0,inplace=True)\n",
    "Deliveries['bowling_team'].replace('Kolkata Knight Riders',1,inplace=True)\n",
    "Deliveries['bowling_team'].replace('Rajasthan Royals',2,inplace=True)\n",
    "Deliveries['bowling_team'].replace('Kochi Tuskers Kerala',3,inplace=True)\n",
    "Deliveries['bowling_team'].replace('Gujarat Lions',4,inplace=True)\n",
    "Deliveries['bowling_team'].replace('Chennai Super Kings',5,inplace=True)\n",
    "Deliveries['bowling_team'].replace('Rising Pune Supergiants',6,inplace=True)\n",
    "Deliveries['bowling_team'].replace('Delhi Daredevils',7,inplace=True)\n",
    "Deliveries['bowling_team'].replace('Deccan Chargers',8,inplace=True)\n",
    "Deliveries['bowling_team'].replace('Delhi Capitals',9,inplace=True)\n",
    "Deliveries['bowling_team'].replace('Mumbai Indians',10,inplace=True)\n",
    "Deliveries['bowling_team'].replace('Sunrisers Hyderabad',11,inplace=True)\n",
    "Deliveries['bowling_team'].replace('Rising Pune Supergiant',12,inplace=True)\n",
    "Deliveries['bowling_team'].replace('Royal Challengers Bangalore',13,inplace=True)\n",
    "Deliveries['bowling_team'].replace('Kings XI Punjab',14,inplace=True)\n",
    "\n",
    "Deliveries"
   ]
  },
  {
   "cell_type": "code",
   "execution_count": 12,
   "metadata": {
    "execution": {
     "iopub.execute_input": "2020-10-28T19:37:15.889588Z",
     "iopub.status.busy": "2020-10-28T19:37:15.888729Z",
     "iopub.status.idle": "2020-10-28T19:37:15.894453Z",
     "shell.execute_reply": "2020-10-28T19:37:15.893838Z"
    },
    "papermill": {
     "duration": 0.072909,
     "end_time": "2020-10-28T19:37:15.894574",
     "exception": false,
     "start_time": "2020-10-28T19:37:15.821665",
     "status": "completed"
    },
    "tags": []
   },
   "outputs": [
    {
     "name": "stdout",
     "output_type": "stream",
     "text": [
      "756 14 179078\n"
     ]
    }
   ],
   "source": [
    "# checking if there's any data leakages\n",
    "\n",
    "\n",
    "#Matches\n",
    "mm=len(Matches==np.NaN)\n",
    "#team_home_away_performance\n",
    "ha=len(teamwise_home_away==np.NaN)\n",
    "#Deliveries\n",
    "d=len(Deliveries==np.NaN)\n",
    "\n",
    "print(mm,ha,d)"
   ]
  },
  {
   "cell_type": "markdown",
   "metadata": {
    "papermill": {
     "duration": 0.062057,
     "end_time": "2020-10-28T19:37:16.017431",
     "exception": false,
     "start_time": "2020-10-28T19:37:15.955374",
     "status": "completed"
    },
    "tags": []
   },
   "source": [
    "found out huge leakages in data :(\n",
    "\n",
    "Let's replace those zzzzzzzzzzzzzzzzzzzzzzzzzzzzzzzzzzz"
   ]
  },
  {
   "cell_type": "markdown",
   "metadata": {
    "papermill": {
     "duration": 0.060175,
     "end_time": "2020-10-28T19:37:16.137767",
     "exception": false,
     "start_time": "2020-10-28T19:37:16.077592",
     "status": "completed"
    },
    "tags": []
   },
   "source": [
    "some pre-processing before replacing data leakages"
   ]
  },
  {
   "cell_type": "code",
   "execution_count": 13,
   "metadata": {
    "execution": {
     "iopub.execute_input": "2020-10-28T19:37:16.270363Z",
     "iopub.status.busy": "2020-10-28T19:37:16.269236Z",
     "iopub.status.idle": "2020-10-28T19:37:16.272901Z",
     "shell.execute_reply": "2020-10-28T19:37:16.272186Z"
    },
    "papermill": {
     "duration": 0.074609,
     "end_time": "2020-10-28T19:37:16.273030",
     "exception": false,
     "start_time": "2020-10-28T19:37:16.198421",
     "status": "completed"
    },
    "tags": []
   },
   "outputs": [],
   "source": [
    "def non_num_data(df):\n",
    "    columns=df.columns.values\n",
    "    \n",
    "    for column in columns:\n",
    "        text_digit_vals={}\n",
    "        def con_to_int(val):\n",
    "            return text_digit_vals[val]\n",
    "        \n",
    "        if df[column].dtype!=np.int64 and df[column].dtype!=np.float64:\n",
    "            column_contents=df[column].values.tolist()\n",
    "            unique_elements=set(column_contents)\n",
    "            x=0\n",
    "            for unique in unique_elements:\n",
    "                if unique not in text_digit_vals:\n",
    "                    text_digit_vals[unique]=x\n",
    "                    x+=1\n",
    "            df[column]=list(map(con_to_int,df[column]))\n",
    "    return df"
   ]
  },
  {
   "cell_type": "code",
   "execution_count": 14,
   "metadata": {
    "execution": {
     "iopub.execute_input": "2020-10-28T19:37:16.465402Z",
     "iopub.status.busy": "2020-10-28T19:37:16.417757Z",
     "iopub.status.idle": "2020-10-28T19:37:17.449359Z",
     "shell.execute_reply": "2020-10-28T19:37:17.450161Z"
    },
    "papermill": {
     "duration": 1.117098,
     "end_time": "2020-10-28T19:37:17.450390",
     "exception": false,
     "start_time": "2020-10-28T19:37:16.333292",
     "status": "completed"
    },
    "tags": []
   },
   "outputs": [
    {
     "name": "stdout",
     "output_type": "stream",
     "text": [
      "    team  home_wins  away_wins  home_matches  away_matches  \\\n",
      "0     12          5          5             8             8   \n",
      "1     10         58         51           101            86   \n",
      "2      5         51         49            89            75   \n",
      "3      9          3          7             6            10   \n",
      "4     11         30         28            63            45   \n",
      "5      2         29         46            67            80   \n",
      "6      8         18         11            43            32   \n",
      "7     14         38         44            91            85   \n",
      "8     13         35         49            85            95   \n",
      "9      1         34         58            83            95   \n",
      "10     7         25         42            72            89   \n",
      "11     0          6          6            20            26   \n",
      "12     3          2          4             7             7   \n",
      "13     4          1         12            14            16   \n",
      "\n",
      "    home_win_percentage  away_win_percentage  \n",
      "0             62.500000            62.500000  \n",
      "1             57.425743            59.302326  \n",
      "2             57.303371            65.333333  \n",
      "3             50.000000            70.000000  \n",
      "4             47.619048            62.222222  \n",
      "5             43.283582            57.500000  \n",
      "6             41.860465            34.375000  \n",
      "7             41.758242            51.764706  \n",
      "8             41.176471            51.578947  \n",
      "9             40.963855            61.052632  \n",
      "10            34.722222            47.191011  \n",
      "11            30.000000            23.076923  \n",
      "12            28.571429            57.142857  \n",
      "13             7.142857            75.000000  \n",
      "        id  Season  city  date  team1  team2  toss_winner  toss_decision  \\\n",
      "0        1       5     4   462     11     13           13              0   \n",
      "1        2       5    23   153     10     12           12              0   \n",
      "2        3       5    28   420      4      1            1              0   \n",
      "3        4       5    17   293     12     14           14              0   \n",
      "4        5       5    16   293     13      7           13              1   \n",
      "..     ...     ...   ...   ...    ...    ...          ...            ...   \n",
      "751  11347       4    31   319      1     10           10              0   \n",
      "752  11412       4    26   221      5     10            5              1   \n",
      "753  11413       4    22   443     11      9            9              0   \n",
      "754  11414       4    22   135      9      5            5              0   \n",
      "755  11415       4     4   143     10      5           10              1   \n",
      "\n",
      "     result  dl_applied  winner  win_by_runs  win_by_wickets  player_of_match  \\\n",
      "0         1           0    11.0           35               0              153   \n",
      "1         1           0    12.0            0               7              131   \n",
      "2         1           0     1.0            0              10               98   \n",
      "3         1           0    14.0            0               6              138   \n",
      "4         1           0    13.0           15               0              176   \n",
      "..      ...         ...     ...          ...             ...              ...   \n",
      "751       1           0    10.0            0               9              195   \n",
      "752       1           0    10.0            0               6               25   \n",
      "753       1           0     9.0            0               2              179   \n",
      "754       1           0     5.0            0               6               70   \n",
      "755       1           0    10.0            1               0              178   \n",
      "\n",
      "     venue  umpire1  umpire2  umpire3  \n",
      "0        5       39       12        0  \n",
      "1       21       33        4        0  \n",
      "2       12       40       17        0  \n",
      "3       30       45       50        0  \n",
      "4        6        0        0        0  \n",
      "..     ...      ...      ...      ...  \n",
      "751      7       32       38        2  \n",
      "752      8       24       41       13  \n",
      "753     38        0        0        0  \n",
      "754     38       12       23       15  \n",
      "755     19       40       26       11  \n",
      "\n",
      "[756 rows x 18 columns]\n",
      "        match_id  inning  batting_team  bowling_team  over  ball  batsman  \\\n",
      "0              1       1            11            13     1     1      136   \n",
      "1              1       1            11            13     1     2      136   \n",
      "2              1       1            11            13     1     3      136   \n",
      "3              1       1            11            13     1     4      136   \n",
      "4              1       1            11            13     1     5      136   \n",
      "...          ...     ...           ...           ...   ...   ...      ...   \n",
      "179073     11415       2             5            10    20     2      380   \n",
      "179074     11415       2             5            10    20     3      497   \n",
      "179075     11415       2             5            10    20     4      497   \n",
      "179076     11415       2             5            10    20     5      262   \n",
      "179077     11415       2             5            10    20     6      262   \n",
      "\n",
      "        non_striker  bowler  is_super_over  ...  bye_runs  legbye_runs  \\\n",
      "0               354     181              0  ...         0            0   \n",
      "1               354     181              0  ...         0            0   \n",
      "2               354     181              0  ...         0            0   \n",
      "3               354     181              0  ...         0            0   \n",
      "4               354     181              0  ...         0            0   \n",
      "...             ...     ...            ...  ...       ...          ...   \n",
      "179073          493     312              0  ...         0            0   \n",
      "179074          379     312              0  ...         0            0   \n",
      "179075          379     312              0  ...         0            0   \n",
      "179076          379     312              0  ...         0            0   \n",
      "179077          379     312              0  ...         0            0   \n",
      "\n",
      "        noball_runs  penalty_runs  batsman_runs  extra_runs  total_runs  \\\n",
      "0                 0             0             0           0           0   \n",
      "1                 0             0             0           0           0   \n",
      "2                 0             0             4           0           4   \n",
      "3                 0             0             0           0           0   \n",
      "4                 0             0             0           2           2   \n",
      "...             ...           ...           ...         ...         ...   \n",
      "179073            0             0             1           0           1   \n",
      "179074            0             0             2           0           2   \n",
      "179075            0             0             1           0           1   \n",
      "179076            0             0             2           0           2   \n",
      "179077            0             0             0           0           0   \n",
      "\n",
      "        player_dismissed  dismissal_kind  fielder  \n",
      "0                      0               0        0  \n",
      "1                      0               0        0  \n",
      "2                      0               0        0  \n",
      "3                      0               0        0  \n",
      "4                      0               0        0  \n",
      "...                  ...             ...      ...  \n",
      "179073                 0               0        0  \n",
      "179074                 0               0        0  \n",
      "179075               470               4      272  \n",
      "179076                 0               0        0  \n",
      "179077               248               7        0  \n",
      "\n",
      "[179078 rows x 21 columns]\n"
     ]
    }
   ],
   "source": [
    "print(non_num_data(teamwise_home_away))\n",
    "print(non_num_data(Matches))\n",
    "print(non_num_data(Deliveries))"
   ]
  },
  {
   "cell_type": "code",
   "execution_count": 15,
   "metadata": {
    "execution": {
     "iopub.execute_input": "2020-10-28T19:37:17.580433Z",
     "iopub.status.busy": "2020-10-28T19:37:17.579561Z",
     "iopub.status.idle": "2020-10-28T19:37:17.586122Z",
     "shell.execute_reply": "2020-10-28T19:37:17.585318Z"
    },
    "papermill": {
     "duration": 0.073755,
     "end_time": "2020-10-28T19:37:17.586251",
     "exception": false,
     "start_time": "2020-10-28T19:37:17.512496",
     "status": "completed"
    },
    "tags": []
   },
   "outputs": [
    {
     "data": {
      "text/plain": [
       "179078"
      ]
     },
     "execution_count": 15,
     "metadata": {},
     "output_type": "execute_result"
    }
   ],
   "source": [
    "len(Deliveries==np.NaN)"
   ]
  },
  {
   "cell_type": "code",
   "execution_count": 16,
   "metadata": {
    "execution": {
     "iopub.execute_input": "2020-10-28T19:37:17.718758Z",
     "iopub.status.busy": "2020-10-28T19:37:17.717767Z",
     "iopub.status.idle": "2020-10-28T19:37:17.721138Z",
     "shell.execute_reply": "2020-10-28T19:37:17.720491Z"
    },
    "papermill": {
     "duration": 0.072943,
     "end_time": "2020-10-28T19:37:17.721261",
     "exception": false,
     "start_time": "2020-10-28T19:37:17.648318",
     "status": "completed"
    },
    "tags": []
   },
   "outputs": [],
   "source": [
    "teamwise_home_away.replace(np.NaN,-99999,inplace=True)\n",
    "Matches.replace(np.NaN,-99999,inplace=True)\n",
    "Deliveries.replace(np.NaN,-99999,inplace=True)"
   ]
  },
  {
   "cell_type": "code",
   "execution_count": 17,
   "metadata": {
    "execution": {
     "iopub.execute_input": "2020-10-28T19:37:17.881197Z",
     "iopub.status.busy": "2020-10-28T19:37:17.880389Z",
     "iopub.status.idle": "2020-10-28T19:37:17.920303Z",
     "shell.execute_reply": "2020-10-28T19:37:17.919312Z"
    },
    "papermill": {
     "duration": 0.136599,
     "end_time": "2020-10-28T19:37:17.920438",
     "exception": false,
     "start_time": "2020-10-28T19:37:17.783839",
     "status": "completed"
    },
    "tags": []
   },
   "outputs": [
    {
     "name": "stdout",
     "output_type": "stream",
     "text": [
      "    team  home_wins  away_wins  home_matches  away_matches  \\\n",
      "0     12          5          5             8             8   \n",
      "1     10         58         51           101            86   \n",
      "2      5         51         49            89            75   \n",
      "3      9          3          7             6            10   \n",
      "4     11         30         28            63            45   \n",
      "5      2         29         46            67            80   \n",
      "6      8         18         11            43            32   \n",
      "7     14         38         44            91            85   \n",
      "8     13         35         49            85            95   \n",
      "9      1         34         58            83            95   \n",
      "10     7         25         42            72            89   \n",
      "11     0          6          6            20            26   \n",
      "12     3          2          4             7             7   \n",
      "13     4          1         12            14            16   \n",
      "\n",
      "    home_win_percentage  away_win_percentage  \n",
      "0             62.500000            62.500000  \n",
      "1             57.425743            59.302326  \n",
      "2             57.303371            65.333333  \n",
      "3             50.000000            70.000000  \n",
      "4             47.619048            62.222222  \n",
      "5             43.283582            57.500000  \n",
      "6             41.860465            34.375000  \n",
      "7             41.758242            51.764706  \n",
      "8             41.176471            51.578947  \n",
      "9             40.963855            61.052632  \n",
      "10            34.722222            47.191011  \n",
      "11            30.000000            23.076923  \n",
      "12            28.571429            57.142857  \n",
      "13             7.142857            75.000000  \n",
      "        id  Season  city  date  team1  team2  toss_winner  toss_decision  \\\n",
      "0        1       5     4   462     11     13           13              0   \n",
      "1        2       5    23   153     10     12           12              0   \n",
      "2        3       5    28   420      4      1            1              0   \n",
      "3        4       5    17   293     12     14           14              0   \n",
      "4        5       5    16   293     13      7           13              1   \n",
      "..     ...     ...   ...   ...    ...    ...          ...            ...   \n",
      "751  11347       4    31   319      1     10           10              0   \n",
      "752  11412       4    26   221      5     10            5              1   \n",
      "753  11413       4    22   443     11      9            9              0   \n",
      "754  11414       4    22   135      9      5            5              0   \n",
      "755  11415       4     4   143     10      5           10              1   \n",
      "\n",
      "     result  dl_applied  winner  win_by_runs  win_by_wickets  player_of_match  \\\n",
      "0         1           0    11.0           35               0              153   \n",
      "1         1           0    12.0            0               7              131   \n",
      "2         1           0     1.0            0              10               98   \n",
      "3         1           0    14.0            0               6              138   \n",
      "4         1           0    13.0           15               0              176   \n",
      "..      ...         ...     ...          ...             ...              ...   \n",
      "751       1           0    10.0            0               9              195   \n",
      "752       1           0    10.0            0               6               25   \n",
      "753       1           0     9.0            0               2              179   \n",
      "754       1           0     5.0            0               6               70   \n",
      "755       1           0    10.0            1               0              178   \n",
      "\n",
      "     venue  umpire1  umpire2  umpire3  \n",
      "0        5       39       12        0  \n",
      "1       21       33        4        0  \n",
      "2       12       40       17        0  \n",
      "3       30       45       50        0  \n",
      "4        6        0        0        0  \n",
      "..     ...      ...      ...      ...  \n",
      "751      7       32       38        2  \n",
      "752      8       24       41       13  \n",
      "753     38        0        0        0  \n",
      "754     38       12       23       15  \n",
      "755     19       40       26       11  \n",
      "\n",
      "[756 rows x 18 columns]\n",
      "        match_id  inning  batting_team  bowling_team  over  ball  batsman  \\\n",
      "0              1       1            11            13     1     1      136   \n",
      "1              1       1            11            13     1     2      136   \n",
      "2              1       1            11            13     1     3      136   \n",
      "3              1       1            11            13     1     4      136   \n",
      "4              1       1            11            13     1     5      136   \n",
      "...          ...     ...           ...           ...   ...   ...      ...   \n",
      "179073     11415       2             5            10    20     2      380   \n",
      "179074     11415       2             5            10    20     3      497   \n",
      "179075     11415       2             5            10    20     4      497   \n",
      "179076     11415       2             5            10    20     5      262   \n",
      "179077     11415       2             5            10    20     6      262   \n",
      "\n",
      "        non_striker  bowler  is_super_over  ...  bye_runs  legbye_runs  \\\n",
      "0               354     181              0  ...         0            0   \n",
      "1               354     181              0  ...         0            0   \n",
      "2               354     181              0  ...         0            0   \n",
      "3               354     181              0  ...         0            0   \n",
      "4               354     181              0  ...         0            0   \n",
      "...             ...     ...            ...  ...       ...          ...   \n",
      "179073          493     312              0  ...         0            0   \n",
      "179074          379     312              0  ...         0            0   \n",
      "179075          379     312              0  ...         0            0   \n",
      "179076          379     312              0  ...         0            0   \n",
      "179077          379     312              0  ...         0            0   \n",
      "\n",
      "        noball_runs  penalty_runs  batsman_runs  extra_runs  total_runs  \\\n",
      "0                 0             0             0           0           0   \n",
      "1                 0             0             0           0           0   \n",
      "2                 0             0             4           0           4   \n",
      "3                 0             0             0           0           0   \n",
      "4                 0             0             0           2           2   \n",
      "...             ...           ...           ...         ...         ...   \n",
      "179073            0             0             1           0           1   \n",
      "179074            0             0             2           0           2   \n",
      "179075            0             0             1           0           1   \n",
      "179076            0             0             2           0           2   \n",
      "179077            0             0             0           0           0   \n",
      "\n",
      "        player_dismissed  dismissal_kind  fielder  \n",
      "0                      0               0        0  \n",
      "1                      0               0        0  \n",
      "2                      0               0        0  \n",
      "3                      0               0        0  \n",
      "4                      0               0        0  \n",
      "...                  ...             ...      ...  \n",
      "179073                 0               0        0  \n",
      "179074                 0               0        0  \n",
      "179075               470               4      272  \n",
      "179076                 0               0        0  \n",
      "179077               248               7        0  \n",
      "\n",
      "[179078 rows x 21 columns]\n"
     ]
    }
   ],
   "source": [
    "print(teamwise_home_away)\n",
    "print(Matches)\n",
    "print(Deliveries)"
   ]
  },
  {
   "cell_type": "code",
   "execution_count": 18,
   "metadata": {
    "execution": {
     "iopub.execute_input": "2020-10-28T19:37:18.064428Z",
     "iopub.status.busy": "2020-10-28T19:37:18.063606Z",
     "iopub.status.idle": "2020-10-28T19:37:18.335516Z",
     "shell.execute_reply": "2020-10-28T19:37:18.334835Z"
    },
    "papermill": {
     "duration": 0.346087,
     "end_time": "2020-10-28T19:37:18.335659",
     "exception": false,
     "start_time": "2020-10-28T19:37:17.989572",
     "status": "completed"
    },
    "tags": []
   },
   "outputs": [
    {
     "data": {
      "text/plain": [
       "<BarContainer object of 14 artists>"
      ]
     },
     "execution_count": 18,
     "metadata": {},
     "output_type": "execute_result"
    },
    {
     "data": {
      "image/png": "[encoded data removed]",
      "text/plain": [
       "<Figure size 432x288 with 1 Axes>"
      ]
     },
     "metadata": {
      "needs_background": "light"
     },
     "output_type": "display_data"
    }
   ],
   "source": [
    "y1=teamwise_home_away['home_win_percentage']\n",
    "x1=teamwise_home_away['team']\n",
    "plt.bar(x1,y1)"
   ]
  },
  {
   "cell_type": "code",
   "execution_count": 19,
   "metadata": {
    "execution": {
     "iopub.execute_input": "2020-10-28T19:37:18.491732Z",
     "iopub.status.busy": "2020-10-28T19:37:18.490402Z",
     "iopub.status.idle": "2020-10-28T19:37:18.705049Z",
     "shell.execute_reply": "2020-10-28T19:37:18.704232Z"
    },
    "papermill": {
     "duration": 0.296843,
     "end_time": "2020-10-28T19:37:18.705182",
     "exception": false,
     "start_time": "2020-10-28T19:37:18.408339",
     "status": "completed"
    },
    "tags": []
   },
   "outputs": [
    {
     "data": {
      "text/plain": [
       "<BarContainer object of 14 artists>"
      ]
     },
     "execution_count": 19,
     "metadata": {},
     "output_type": "execute_result"
    },
    {
     "data": {
      "image/png": "[encoded data removed]",
      "text/plain": [
       "<Figure size 432x288 with 1 Axes>"
      ]
     },
     "metadata": {
      "needs_background": "light"
     },
     "output_type": "display_data"
    }
   ],
   "source": [
    "y2=teamwise_home_away['away_win_percentage']\n",
    "x2=teamwise_home_away['team']\n",
    "plt.bar(x2,y2)"
   ]
  },
  {
   "cell_type": "code",
   "execution_count": 20,
   "metadata": {
    "execution": {
     "iopub.execute_input": "2020-10-28T19:37:18.849131Z",
     "iopub.status.busy": "2020-10-28T19:37:18.843997Z",
     "iopub.status.idle": "2020-10-28T19:37:19.065898Z",
     "shell.execute_reply": "2020-10-28T19:37:19.066830Z"
    },
    "papermill": {
     "duration": 0.296067,
     "end_time": "2020-10-28T19:37:19.067067",
     "exception": false,
     "start_time": "2020-10-28T19:37:18.771000",
     "status": "completed"
    },
    "tags": []
   },
   "outputs": [
    {
     "data": {
      "text/plain": [
       "<BarContainer object of 14 artists>"
      ]
     },
     "execution_count": 20,
     "metadata": {},
     "output_type": "execute_result"
    },
    {
     "data": {
      "image/png": "[encoded data removed]",
      "text/plain": [
       "<Figure size 432x288 with 1 Axes>"
      ]
     },
     "metadata": {
      "needs_background": "light"
     },
     "output_type": "display_data"
    }
   ],
   "source": [
    "y_tot=y1+y2\n",
    "x_tot=x2\n",
    "plt.bar(x_tot,y_tot)"
   ]
  },
  {
   "cell_type": "markdown",
   "metadata": {
    "papermill": {
     "duration": 0.067357,
     "end_time": "2020-10-28T19:37:19.206239",
     "exception": false,
     "start_time": "2020-10-28T19:37:19.138882",
     "status": "completed"
    },
    "tags": []
   },
   "source": [
    "Looks like RPS was a failure :\\"
   ]
  },
  {
   "cell_type": "markdown",
   "metadata": {
    "papermill": {
     "duration": 0.066205,
     "end_time": "2020-10-28T19:37:19.339152",
     "exception": false,
     "start_time": "2020-10-28T19:37:19.272947",
     "status": "completed"
    },
    "tags": []
   },
   "source": [
    "toss won at home ground\n"
   ]
  },
  {
   "cell_type": "code",
   "execution_count": 21,
   "metadata": {
    "execution": {
     "iopub.execute_input": "2020-10-28T19:37:19.480124Z",
     "iopub.status.busy": "2020-10-28T19:37:19.479340Z",
     "iopub.status.idle": "2020-10-28T19:37:19.484895Z",
     "shell.execute_reply": "2020-10-28T19:37:19.484236Z"
    },
    "papermill": {
     "duration": 0.078945,
     "end_time": "2020-10-28T19:37:19.485021",
     "exception": false,
     "start_time": "2020-10-28T19:37:19.406076",
     "status": "completed"
    },
    "tags": []
   },
   "outputs": [
    {
     "name": "stdout",
     "output_type": "stream",
     "text": [
      "won toss at home ground 0.38756613756613756\n"
     ]
    }
   ],
   "source": [
    "hmtswn=len(Matches[Matches['team1']==Matches['toss_winner']])\n",
    "print('won toss at home ground',hmtswn/len(Matches))"
   ]
  },
  {
   "cell_type": "markdown",
   "metadata": {
    "papermill": {
     "duration": 0.06703,
     "end_time": "2020-10-28T19:37:19.619113",
     "exception": false,
     "start_time": "2020-10-28T19:37:19.552083",
     "status": "completed"
    },
    "tags": []
   },
   "source": [
    "toss won at away ground"
   ]
  },
  {
   "cell_type": "code",
   "execution_count": 22,
   "metadata": {
    "execution": {
     "iopub.execute_input": "2020-10-28T19:37:19.761985Z",
     "iopub.status.busy": "2020-10-28T19:37:19.761147Z",
     "iopub.status.idle": "2020-10-28T19:37:19.766104Z",
     "shell.execute_reply": "2020-10-28T19:37:19.765443Z"
    },
    "papermill": {
     "duration": 0.07991,
     "end_time": "2020-10-28T19:37:19.766236",
     "exception": false,
     "start_time": "2020-10-28T19:37:19.686326",
     "status": "completed"
    },
    "tags": []
   },
   "outputs": [
    {
     "name": "stdout",
     "output_type": "stream",
     "text": [
      "won toss at away ground 0.6124338624338624\n"
     ]
    }
   ],
   "source": [
    "awtswn=len(Matches[Matches['team2']==Matches['toss_winner']])\n",
    "print('won toss at away ground', awtswn/len(Matches))"
   ]
  },
  {
   "cell_type": "markdown",
   "metadata": {
    "papermill": {
     "duration": 0.068204,
     "end_time": "2020-10-28T19:37:19.902894",
     "exception": false,
     "start_time": "2020-10-28T19:37:19.834690",
     "status": "completed"
    },
    "tags": []
   },
   "source": [
    "toss decision at home"
   ]
  },
  {
   "cell_type": "code",
   "execution_count": 23,
   "metadata": {
    "execution": {
     "iopub.execute_input": "2020-10-28T19:37:20.055758Z",
     "iopub.status.busy": "2020-10-28T19:37:20.054785Z",
     "iopub.status.idle": "2020-10-28T19:37:20.059087Z",
     "shell.execute_reply": "2020-10-28T19:37:20.058418Z"
    },
    "papermill": {
     "duration": 0.088052,
     "end_time": "2020-10-28T19:37:20.059210",
     "exception": false,
     "start_time": "2020-10-28T19:37:19.971158",
     "status": "completed"
    },
    "tags": []
   },
   "outputs": [
    {
     "name": "stdout",
     "output_type": "stream",
     "text": [
      "percentage of choosing bat after winning the toss at home ground:  1.0\n",
      "percentage of choosing field after winning the toss at home ground:  0.0\n"
     ]
    }
   ],
   "source": [
    "home_matches=Matches[Matches['team1']==Matches['toss_winner']]\n",
    "hm_bat=len(home_matches[home_matches['toss_decision']==1])\n",
    "print('percentage of choosing bat after winning the toss at home ground: ',hm_bat/len(home_matches))\n",
    "print('percentage of choosing field after winning the toss at home ground: ',1-(hm_bat/len(home_matches)))"
   ]
  },
  {
   "cell_type": "markdown",
   "metadata": {
    "papermill": {
     "duration": 0.070202,
     "end_time": "2020-10-28T19:37:20.198782",
     "exception": false,
     "start_time": "2020-10-28T19:37:20.128580",
     "status": "completed"
    },
    "tags": []
   },
   "source": [
    "toss decision at away"
   ]
  },
  {
   "cell_type": "code",
   "execution_count": 24,
   "metadata": {
    "execution": {
     "iopub.execute_input": "2020-10-28T19:37:20.347490Z",
     "iopub.status.busy": "2020-10-28T19:37:20.346447Z",
     "iopub.status.idle": "2020-10-28T19:37:20.351279Z",
     "shell.execute_reply": "2020-10-28T19:37:20.350631Z"
    },
    "papermill": {
     "duration": 0.083059,
     "end_time": "2020-10-28T19:37:20.351416",
     "exception": false,
     "start_time": "2020-10-28T19:37:20.268357",
     "status": "completed"
    },
    "tags": []
   },
   "outputs": [
    {
     "name": "stdout",
     "output_type": "stream",
     "text": [
      "percentage of choosing bat after winning the toss at home ground:  0.0\n",
      "percentage of choosing field after winning the toss at home ground:  1.0\n"
     ]
    }
   ],
   "source": [
    "home_matches=Matches[Matches['team2']==Matches['toss_winner']]\n",
    "hm_bat=len(home_matches[home_matches['toss_decision']==1])\n",
    "print('percentage of choosing bat after winning the toss at home ground: ',hm_bat/len(home_matches))\n",
    "print('percentage of choosing field after winning the toss at home ground: ',1-(hm_bat/len(home_matches)))"
   ]
  },
  {
   "cell_type": "markdown",
   "metadata": {
    "papermill": {
     "duration": 0.077935,
     "end_time": "2020-10-28T19:37:20.499151",
     "exception": false,
     "start_time": "2020-10-28T19:37:20.421216",
     "status": "completed"
    },
    "tags": []
   },
   "source": [
    "Conclusion : \n",
    "Data isn't well manufactured.\n",
    "It's giving huge differences over EDA"
   ]
  },
  {
   "cell_type": "markdown",
   "metadata": {
    "papermill": {
     "duration": 0.071274,
     "end_time": "2020-10-28T19:37:20.658393",
     "exception": false,
     "start_time": "2020-10-28T19:37:20.587119",
     "status": "completed"
    },
    "tags": []
   },
   "source": [
    "team won by runs"
   ]
  },
  {
   "cell_type": "code",
   "execution_count": 25,
   "metadata": {
    "execution": {
     "iopub.execute_input": "2020-10-28T19:37:20.847316Z",
     "iopub.status.busy": "2020-10-28T19:37:20.846404Z",
     "iopub.status.idle": "2020-10-28T19:37:21.069915Z",
     "shell.execute_reply": "2020-10-28T19:37:21.068975Z"
    },
    "papermill": {
     "duration": 0.312608,
     "end_time": "2020-10-28T19:37:21.070104",
     "exception": false,
     "start_time": "2020-10-28T19:37:20.757496",
     "status": "completed"
    },
    "tags": []
   },
   "outputs": [
    {
     "data": {
      "text/plain": [
       "<matplotlib.collections.PathCollection at 0x7f9488655910>"
      ]
     },
     "execution_count": 25,
     "metadata": {},
     "output_type": "execute_result"
    },
    {
     "data": {
      "image/png": "[encoded data removed]",
      "text/plain": [
       "<Figure size 432x288 with 1 Axes>"
      ]
     },
     "metadata": {
      "needs_background": "light"
     },
     "output_type": "display_data"
    }
   ],
   "source": [
    "win_df=Matches[Matches['win_by_runs']!=0]\n",
    "team_won1=win_df['winner']\n",
    "by_runs=win_df['win_by_runs']\n",
    "plt.scatter(team_won1,by_runs)"
   ]
  },
  {
   "cell_type": "code",
   "execution_count": 26,
   "metadata": {
    "execution": {
     "iopub.execute_input": "2020-10-28T19:37:21.251618Z",
     "iopub.status.busy": "2020-10-28T19:37:21.242862Z",
     "iopub.status.idle": "2020-10-28T19:37:21.261262Z",
     "shell.execute_reply": "2020-10-28T19:37:21.260562Z"
    },
    "papermill": {
     "duration": 0.112446,
     "end_time": "2020-10-28T19:37:21.261400",
     "exception": false,
     "start_time": "2020-10-28T19:37:21.148954",
     "status": "completed"
    },
    "tags": []
   },
   "outputs": [
    {
     "name": "stdout",
     "output_type": "stream",
     "text": [
      "Average win run trail\n",
      "Pune Warriors --- 23.166666666666668\n",
      "Kolkata Knight Riders --- 30.166666666666668\n",
      "Rajasthan Royals --- 33.148148148148145\n",
      "Kochi Tuskers Kerala --- 11.5\n",
      "Gujarat Lions --- 1.0\n",
      "Chennai Super Kings --- 34.19230769230769\n",
      "Rising Pune Supergiants --- 26.5\n",
      "Delhi Daredevils --- 27.0\n",
      "Deccan Chargers --- 23.38888888888889\n",
      "Delhi Capitals --- 30.666666666666668\n",
      "Mumbai Indians --- 32.73684210526316\n",
      "Sunrisers Hyderabad --- 23.766666666666666\n",
      "Rising Pune Supergiant --- 24.6\n",
      "Royal Challengers Bangalore --- 35.77142857142857\n",
      "Kings XI Punjab --- 24.342105263157894\n"
     ]
    }
   ],
   "source": [
    "team=Teams['team1']\n",
    "print('Average win run trail')\n",
    "for i in range(15):\n",
    "    val=win_df[win_df['winner']==i]\n",
    "    tot_run=sum(val['win_by_runs'])\n",
    "    print(team[i],'---',tot_run/len(val))\n",
    "    "
   ]
  },
  {
   "cell_type": "markdown",
   "metadata": {
    "papermill": {
     "duration": 0.123262,
     "end_time": "2020-10-28T19:37:21.462542",
     "exception": false,
     "start_time": "2020-10-28T19:37:21.339280",
     "status": "completed"
    },
    "tags": []
   },
   "source": [
    "team won by wickets\n"
   ]
  },
  {
   "cell_type": "code",
   "execution_count": 27,
   "metadata": {
    "execution": {
     "iopub.execute_input": "2020-10-28T19:37:21.629048Z",
     "iopub.status.busy": "2020-10-28T19:37:21.628207Z",
     "iopub.status.idle": "2020-10-28T19:37:21.800665Z",
     "shell.execute_reply": "2020-10-28T19:37:21.799871Z"
    },
    "papermill": {
     "duration": 0.265619,
     "end_time": "2020-10-28T19:37:21.800820",
     "exception": false,
     "start_time": "2020-10-28T19:37:21.535201",
     "status": "completed"
    },
    "tags": []
   },
   "outputs": [
    {
     "data": {
      "text/plain": [
       "<matplotlib.collections.PathCollection at 0x7f946a2305d0>"
      ]
     },
     "execution_count": 27,
     "metadata": {},
     "output_type": "execute_result"
    },
    {
     "data": {
      "image/png": "[encoded data removed]",
      "text/plain": [
       "<Figure size 432x288 with 1 Axes>"
      ]
     },
     "metadata": {
      "needs_background": "light"
     },
     "output_type": "display_data"
    }
   ],
   "source": [
    "wick_df=Matches[Matches['win_by_wickets']!=0]\n",
    "team_won2=wick_df['winner']\n",
    "wick=wick_df['win_by_wickets']\n",
    "plt.scatter(team_won2,wick,color='r')\n"
   ]
  },
  {
   "cell_type": "code",
   "execution_count": 28,
   "metadata": {
    "execution": {
     "iopub.execute_input": "2020-10-28T19:37:21.962091Z",
     "iopub.status.busy": "2020-10-28T19:37:21.959042Z",
     "iopub.status.idle": "2020-10-28T19:37:21.977203Z",
     "shell.execute_reply": "2020-10-28T19:37:21.976163Z"
    },
    "papermill": {
     "duration": 0.101259,
     "end_time": "2020-10-28T19:37:21.977395",
     "exception": false,
     "start_time": "2020-10-28T19:37:21.876136",
     "status": "completed"
    },
    "tags": []
   },
   "outputs": [
    {
     "name": "stdout",
     "output_type": "stream",
     "text": [
      "Average win wicket trail\n",
      "Pune Warriors --- 6\n",
      "Kolkata Knight Riders --- 6\n",
      "Rajasthan Royals --- 5\n",
      "Kochi Tuskers Kerala --- 7\n",
      "Gujarat Lions --- 5\n",
      "Chennai Super Kings --- 6\n",
      "Rising Pune Supergiants --- 6\n",
      "Delhi Daredevils --- 6\n",
      "Deccan Chargers --- 6\n",
      "Delhi Capitals --- 4\n",
      "Mumbai Indians --- 6\n",
      "Sunrisers Hyderabad --- 6\n",
      "Rising Pune Supergiant --- 6\n",
      "Royal Challengers Bangalore --- 6\n",
      "Kings XI Punjab --- 6\n"
     ]
    }
   ],
   "source": [
    "print('Average win wicket trail')\n",
    "for i in range(15):\n",
    "    val1=wick_df[wick_df['winner']==i]\n",
    "    tot_run1=sum(val1['win_by_wickets'])\n",
    "    print(team[i],'---',tot_run1//len(val1))"
   ]
  },
  {
   "cell_type": "code",
   "execution_count": 29,
   "metadata": {
    "execution": {
     "iopub.execute_input": "2020-10-28T19:37:22.266033Z",
     "iopub.status.busy": "2020-10-28T19:37:22.160937Z",
     "iopub.status.idle": "2020-10-28T19:37:22.377071Z",
     "shell.execute_reply": "2020-10-28T19:37:22.376203Z"
    },
    "papermill": {
     "duration": 0.317736,
     "end_time": "2020-10-28T19:37:22.377213",
     "exception": false,
     "start_time": "2020-10-28T19:37:22.059477",
     "status": "completed"
    },
    "tags": []
   },
   "outputs": [
    {
     "data": {
      "text/plain": [
       "([<matplotlib.patches.Wedge at 0x7f946a30ba10>,\n",
       "  <matplotlib.patches.Wedge at 0x7f946a41b710>,\n",
       "  <matplotlib.patches.Wedge at 0x7f946a41b750>,\n",
       "  <matplotlib.patches.Wedge at 0x7f946a337f90>,\n",
       "  <matplotlib.patches.Wedge at 0x7f946a2eb350>,\n",
       "  <matplotlib.patches.Wedge at 0x7f946a2704d0>,\n",
       "  <matplotlib.patches.Wedge at 0x7f946a2d8f90>,\n",
       "  <matplotlib.patches.Wedge at 0x7f946a27a290>,\n",
       "  <matplotlib.patches.Wedge at 0x7f946a450f50>,\n",
       "  <matplotlib.patches.Wedge at 0x7f946a364fd0>,\n",
       "  <matplotlib.patches.Wedge at 0x7f946a5c9690>,\n",
       "  <matplotlib.patches.Wedge at 0x7f946a2549d0>,\n",
       "  <matplotlib.patches.Wedge at 0x7f946a24c7d0>],\n",
       " [Text(-0.25208530194380285, 1.0707254552610121, 'Pune Warriors'),\n",
       "  Text(-0.7274214013942623, 0.8251412635383155, 'Kolkata Knight Riders'),\n",
       "  Text(-1.0980655239102493, 0.06520816819777885, 'Rajasthan Royals'),\n",
       "  Text(-1.0429955904726222, -0.34951423183422176, 'Kochi Tuskers Kerala'),\n",
       "  Text(-1.0074665824460889, -0.4416005947169885, 'Gujarat Lions'),\n",
       "  Text(-0.6425867611910884, -0.8927946316717789, 'Chennai Super Kings'),\n",
       "  Text(0.18076925003876448, -1.08504491991826, 'Delhi Daredevils'),\n",
       "  Text(0.6378915260411488, -0.8961553442372001, 'Deccan Chargers'),\n",
       "  Text(0.7912737562269319, -0.764124232508381, 'Delhi Capitals'),\n",
       "  Text(1.0767954319083635, -0.22474785387469473, 'Mumbai Indians'),\n",
       "  Text(0.918189594840797, 0.6057457122638948, 'Sunrisers Hyderabad'),\n",
       "  Text(0.6799542543197061, 0.8646746278413241, 'Rising Pune Supergiant'),\n",
       "  Text(0.24252079322485975, 1.072932274122456, 'Royal Challengers Bangalore')])"
      ]
     },
     "execution_count": 29,
     "metadata": {},
     "output_type": "execute_result"
    },
    {
     "data": {
      "image/png": "[encoded data removed]",
      "text/plain": [
       "<Figure size 432x288 with 1 Axes>"
      ]
     },
     "metadata": {},
     "output_type": "display_data"
    }
   ],
   "source": [
    "wins=[]\n",
    "team_1=[]\n",
    "tot_wins=sum(teamwise_home_away['home_wins']+teamwise_home_away['away_wins'])\n",
    "for i in range(14):\n",
    "    val2=teamwise_home_away[teamwise_home_away['team']==i]\n",
    "    if i!=6:\n",
    "        wins.append(int(val2['home_wins']+val2['away_wins']))\n",
    "        team_1.append(team[i])\n",
    "plt.pie(wins,labels=team_1,startangle=100)"
   ]
  },
  {
   "cell_type": "markdown",
   "metadata": {
    "papermill": {
     "duration": 0.075597,
     "end_time": "2020-10-28T19:37:22.531665",
     "exception": false,
     "start_time": "2020-10-28T19:37:22.456068",
     "status": "completed"
    },
    "tags": []
   },
   "source": [
    "Batsman and Runs"
   ]
  },
  {
   "cell_type": "code",
   "execution_count": 30,
   "metadata": {
    "execution": {
     "iopub.execute_input": "2020-10-28T19:37:22.696205Z",
     "iopub.status.busy": "2020-10-28T19:37:22.689700Z",
     "iopub.status.idle": "2020-10-28T19:37:23.238819Z",
     "shell.execute_reply": "2020-10-28T19:37:23.238035Z"
    },
    "papermill": {
     "duration": 0.631958,
     "end_time": "2020-10-28T19:37:23.238953",
     "exception": false,
     "start_time": "2020-10-28T19:37:22.606995",
     "status": "completed"
    },
    "tags": []
   },
   "outputs": [
    {
     "data": {
      "text/plain": [
       "<BarContainer object of 50 artists>"
      ]
     },
     "execution_count": 30,
     "metadata": {},
     "output_type": "execute_result"
    },
    {
     "data": {
      "image/png": "[encoded data removed]",
      "text/plain": [
       "<Figure size 432x288 with 1 Axes>"
      ]
     },
     "metadata": {
      "needs_background": "light"
     },
     "output_type": "display_data"
    }
   ],
   "source": [
    "btmn=SR['batsman'].head(50)\n",
    "tot_runs1=SR['total_runs'].head(50)\n",
    "plt.bar(btmn,tot_runs1,label=np.array(50),color='g')"
   ]
  },
  {
   "cell_type": "markdown",
   "metadata": {
    "papermill": {
     "duration": 0.077031,
     "end_time": "2020-10-28T19:37:23.393105",
     "exception": false,
     "start_time": "2020-10-28T19:37:23.316074",
     "status": "completed"
    },
    "tags": []
   },
   "source": [
    "strike rate over runs"
   ]
  },
  {
   "cell_type": "code",
   "execution_count": 31,
   "metadata": {
    "execution": {
     "iopub.execute_input": "2020-10-28T19:37:23.559950Z",
     "iopub.status.busy": "2020-10-28T19:37:23.554623Z",
     "iopub.status.idle": "2020-10-28T19:37:23.755269Z",
     "shell.execute_reply": "2020-10-28T19:37:23.755887Z"
    },
    "papermill": {
     "duration": 0.285399,
     "end_time": "2020-10-28T19:37:23.756059",
     "exception": false,
     "start_time": "2020-10-28T19:37:23.470660",
     "status": "completed"
    },
    "tags": []
   },
   "outputs": [
    {
     "name": "stdout",
     "output_type": "stream",
     "text": [
      "(50,) (50,)\n"
     ]
    },
    {
     "data": {
      "text/plain": [
       "<matplotlib.collections.PathCollection at 0x7f946a045990>"
      ]
     },
     "execution_count": 31,
     "metadata": {},
     "output_type": "execute_result"
    },
    {
     "data": {
      "image/png": "[encoded data removed]",
      "text/plain": [
       "<Figure size 432x288 with 1 Axes>"
      ]
     },
     "metadata": {
      "needs_background": "light"
     },
     "output_type": "display_data"
    }
   ],
   "source": [
    "strike_rate=SR['strikerate'].head(50)\n",
    "# plt.bar(strike_rate,tot_runs1)\n",
    "print(strike_rate.shape,tot_runs1.shape)\n",
    "plt.scatter(tot_runs1,strike_rate)"
   ]
  },
  {
   "cell_type": "markdown",
   "metadata": {
    "papermill": {
     "duration": 0.088715,
     "end_time": "2020-10-28T19:37:23.933695",
     "exception": false,
     "start_time": "2020-10-28T19:37:23.844980",
     "status": "completed"
    },
    "tags": []
   },
   "source": [
    "4 runs"
   ]
  },
  {
   "cell_type": "code",
   "execution_count": 32,
   "metadata": {
    "execution": {
     "iopub.execute_input": "2020-10-28T19:37:24.117715Z",
     "iopub.status.busy": "2020-10-28T19:37:24.116895Z",
     "iopub.status.idle": "2020-10-28T19:37:24.285647Z",
     "shell.execute_reply": "2020-10-28T19:37:24.284867Z"
    },
    "papermill": {
     "duration": 0.266168,
     "end_time": "2020-10-28T19:37:24.285779",
     "exception": false,
     "start_time": "2020-10-28T19:37:24.019611",
     "status": "completed"
    },
    "tags": []
   },
   "outputs": [
    {
     "data": {
      "text/plain": [
       "([<matplotlib.patches.Wedge at 0x7f9469fc4c90>,\n",
       "  <matplotlib.patches.Wedge at 0x7f946a00aa50>,\n",
       "  <matplotlib.patches.Wedge at 0x7f9469fd1110>,\n",
       "  <matplotlib.patches.Wedge at 0x7f9469fd1750>,\n",
       "  <matplotlib.patches.Wedge at 0x7f9469fdb590>,\n",
       "  <matplotlib.patches.Wedge at 0x7f9469fdb550>,\n",
       "  <matplotlib.patches.Wedge at 0x7f9469fdb950>,\n",
       "  <matplotlib.patches.Wedge at 0x7f9469fe6590>,\n",
       "  <matplotlib.patches.Wedge at 0x7f9469fdb2d0>,\n",
       "  <matplotlib.patches.Wedge at 0x7f9469fe6f10>,\n",
       "  <matplotlib.patches.Wedge at 0x7f946a024a50>,\n",
       "  <matplotlib.patches.Wedge at 0x7f9469f71610>,\n",
       "  <matplotlib.patches.Wedge at 0x7f9469f71b90>,\n",
       "  <matplotlib.patches.Wedge at 0x7f9469f7e190>,\n",
       "  <matplotlib.patches.Wedge at 0x7f9469f7e750>],\n",
       " [Text(-0.701667334605075, 0.8471498991018117, 'Pune Warriors'),\n",
       "  Text(-1.0033448975266277, 0.45088692219588844, 'Kolkata Knight Riders'),\n",
       "  Text(-1.0611494661172456, -0.28976164438911695, 'Rajasthan Royals'),\n",
       "  Text(-0.9042989965010921, -0.6262933217966786, 'Kochi Tuskers Kerala'),\n",
       "  Text(-0.8395088802024533, -0.7107916994881294, 'Gujarat Lions'),\n",
       "  Text(-0.4882085251369104, -0.9857243204789273, 'Chennai Super Kings'),\n",
       "  Text(-0.10543448476649087, -1.0949354179229132, 'Rising Pune Supergiants'),\n",
       "  Text(0.2852807058518915, -1.062362894150886, 'Delhi Daredevils'),\n",
       "  Text(0.7434033149754863, -0.8107721697761081, 'Deccan Chargers'),\n",
       "  Text(0.8798079096493581, -0.6602560428488535, 'Delhi Capitals'),\n",
       "  Text(1.0765104694257543, -0.22610884373845816, 'Mumbai Indians'),\n",
       "  Text(1.00657474778962, 0.4436296621195014, 'Sunrisers Hyderabad'),\n",
       "  Text(0.8635470757537171, 0.6813856822367227, 'Rising Pune Supergiant'),\n",
       "  Text(0.5364506305052875, 0.9603232377853197, 'Royal Challengers Bangalore'),\n",
       "  Text(-0.25320135372837205, 1.0704620845551327, 'Kings XI Punjab')])"
      ]
     },
     "execution_count": 32,
     "metadata": {},
     "output_type": "execute_result"
    },
    {
     "data": {
      "image/png": "[encoded data removed]",
      "text/plain": [
       "<Figure size 432x288 with 1 Axes>"
      ]
     },
     "metadata": {},
     "output_type": "display_data"
    }
   ],
   "source": [
    "arr1=[]\n",
    "team_temp=[]\n",
    "delv_temp=Deliveries[Deliveries['batsman_runs']>=4]\n",
    "delv=delv_temp[delv_temp['batsman_runs']<=5]\n",
    "for i in range(15):\n",
    "    d=delv[delv['batting_team']==i]\n",
    "    if len(d)!=0:\n",
    "        team_temp.append(team[i])\n",
    "        arr1.append(len(d))\n",
    "plt.pie(arr1,labels=team_temp,startangle=125)\n",
    "    \n"
   ]
  },
  {
   "cell_type": "markdown",
   "metadata": {
    "papermill": {
     "duration": 0.080796,
     "end_time": "2020-10-28T19:37:24.449323",
     "exception": false,
     "start_time": "2020-10-28T19:37:24.368527",
     "status": "completed"
    },
    "tags": []
   },
   "source": [
    "6 runs"
   ]
  },
  {
   "cell_type": "code",
   "execution_count": 33,
   "metadata": {
    "execution": {
     "iopub.execute_input": "2020-10-28T19:37:24.621725Z",
     "iopub.status.busy": "2020-10-28T19:37:24.620469Z",
     "iopub.status.idle": "2020-10-28T19:37:24.763517Z",
     "shell.execute_reply": "2020-10-28T19:37:24.761767Z"
    },
    "papermill": {
     "duration": 0.233455,
     "end_time": "2020-10-28T19:37:24.763686",
     "exception": false,
     "start_time": "2020-10-28T19:37:24.530231",
     "status": "completed"
    },
    "tags": []
   },
   "outputs": [
    {
     "data": {
      "text/plain": [
       "([<matplotlib.patches.Wedge at 0x7f9469f4a8d0>,\n",
       "  <matplotlib.patches.Wedge at 0x7f9469f4ad50>,\n",
       "  <matplotlib.patches.Wedge at 0x7f9469f55390>,\n",
       "  <matplotlib.patches.Wedge at 0x7f9469f553d0>,\n",
       "  <matplotlib.patches.Wedge at 0x7f9469f5f210>,\n",
       "  <matplotlib.patches.Wedge at 0x7f9469f5f1d0>,\n",
       "  <matplotlib.patches.Wedge at 0x7f9469f5f5d0>,\n",
       "  <matplotlib.patches.Wedge at 0x7f9469f5fc50>,\n",
       "  <matplotlib.patches.Wedge at 0x7f9469f55990>,\n",
       "  <matplotlib.patches.Wedge at 0x7f9469f5f610>,\n",
       "  <matplotlib.patches.Wedge at 0x7f9469fa6a50>,\n",
       "  <matplotlib.patches.Wedge at 0x7f9469ef4290>,\n",
       "  <matplotlib.patches.Wedge at 0x7f9469ef4810>,\n",
       "  <matplotlib.patches.Wedge at 0x7f9469f01390>,\n",
       "  <matplotlib.patches.Wedge at 0x7f9469f013d0>],\n",
       " [Text(-0.6969036293582092, 0.8510730470337762, 'Pune Warriors'),\n",
       "  Text(-0.9897726535262985, 0.4799480121133019, 'Kolkata Knight Riders'),\n",
       "  Text(-1.084530054990446, -0.18383296718059153, 'Rajasthan Royals'),\n",
       "  Text(-0.9906005398466936, -0.4782369396600804, 'Kochi Tuskers Kerala'),\n",
       "  Text(-0.9492840419242845, -0.5557515701713253, 'Gujarat Lions'),\n",
       "  Text(-0.6272957463199607, -0.9036039213332818, 'Chennai Super Kings'),\n",
       "  Text(-0.22492083415996147, -1.076759313106131, 'Rising Pune Supergiants'),\n",
       "  Text(0.14017540469950904, -1.0910320141578473, 'Delhi Daredevils'),\n",
       "  Text(0.6110614285554433, -0.9146605548135227, 'Deccan Chargers'),\n",
       "  Text(0.7704652580395598, -0.7851008127330111, 'Delhi Capitals'),\n",
       "  Text(1.0372611969917405, -0.3661819345834277, 'Mumbai Indians'),\n",
       "  Text(1.0547826480572586, 0.3121435012255057, 'Sunrisers Hyderabad'),\n",
       "  Text(0.9507745053224482, 0.5531978308244293, 'Rising Pune Supergiant'),\n",
       "  Text(0.5974723577066519, 0.9235944899015232, 'Royal Challengers Bangalore'),\n",
       "  Text(-0.25727254430421875, 1.0694909246680095, 'Kings XI Punjab')])"
      ]
     },
     "execution_count": 33,
     "metadata": {},
     "output_type": "execute_result"
    },
    {
     "data": {
      "image/png": "[encoded data removed]",
      "text/plain": [
       "<Figure size 432x288 with 1 Axes>"
      ]
     },
     "metadata": {},
     "output_type": "display_data"
    }
   ],
   "source": [
    "arr1=[]\n",
    "team_temp=[]\n",
    "delv_temp=Deliveries[Deliveries['batsman_runs']>=6]\n",
    "delv=delv_temp[delv_temp['batsman_runs']<=7]\n",
    "for i in range(15):\n",
    "    d=delv[delv['batting_team']==i]\n",
    "    if len(d)!=0:\n",
    "        team_temp.append(team[i])\n",
    "        arr1.append(len(d))\n",
    "plt.pie(arr1,labels=team_temp,startangle=125)"
   ]
  },
  {
   "cell_type": "markdown",
   "metadata": {
    "papermill": {
     "duration": 0.103488,
     "end_time": "2020-10-28T19:37:24.983115",
     "exception": false,
     "start_time": "2020-10-28T19:37:24.879627",
     "status": "completed"
    },
    "tags": []
   },
   "source": [
    "Only boundaries"
   ]
  },
  {
   "cell_type": "code",
   "execution_count": 34,
   "metadata": {
    "execution": {
     "iopub.execute_input": "2020-10-28T19:37:25.165225Z",
     "iopub.status.busy": "2020-10-28T19:37:25.163894Z",
     "iopub.status.idle": "2020-10-28T19:37:25.307597Z",
     "shell.execute_reply": "2020-10-28T19:37:25.308229Z"
    },
    "papermill": {
     "duration": 0.239191,
     "end_time": "2020-10-28T19:37:25.308434",
     "exception": false,
     "start_time": "2020-10-28T19:37:25.069243",
     "status": "completed"
    },
    "tags": []
   },
   "outputs": [
    {
     "data": {
      "text/plain": [
       "([<matplotlib.patches.Wedge at 0x7f9469ed1410>,\n",
       "  <matplotlib.patches.Wedge at 0x7f9469ed1890>,\n",
       "  <matplotlib.patches.Wedge at 0x7f9469ed1850>,\n",
       "  <matplotlib.patches.Wedge at 0x7f9469ed9490>,\n",
       "  <matplotlib.patches.Wedge at 0x7f9469ed9d10>,\n",
       "  <matplotlib.patches.Wedge at 0x7f9469ee42d0>,\n",
       "  <matplotlib.patches.Wedge at 0x7f9469ee4110>,\n",
       "  <matplotlib.patches.Wedge at 0x7f9469ee4790>,\n",
       "  <matplotlib.patches.Wedge at 0x7f9469ed94d0>,\n",
       "  <matplotlib.patches.Wedge at 0x7f9469ee4150>,\n",
       "  <matplotlib.patches.Wedge at 0x7f9469f2b590>,\n",
       "  <matplotlib.patches.Wedge at 0x7f9469e7e310>,\n",
       "  <matplotlib.patches.Wedge at 0x7f9469e7e350>,\n",
       "  <matplotlib.patches.Wedge at 0x7f9469e7e910>,\n",
       "  <matplotlib.patches.Wedge at 0x7f9469e87490>],\n",
       " [Text(-0.7003093994109841, 0.8482728011062401, 'Pune Warriors'),\n",
       "  Text(-0.9995561362682092, 0.459224923592535, 'Kolkata Knight Riders'),\n",
       "  Text(-1.0688898102692936, -0.259758683209, 'Rajasthan Royals'),\n",
       "  Text(-0.9312814915690342, -0.5854184686708775, 'Kochi Tuskers Kerala'),\n",
       "  Text(-0.8735649150527435, -0.6684940831367869, 'Gujarat Lions'),\n",
       "  Text(-0.5291316784344917, -0.9643752728461561, 'Chennai Super Kings'),\n",
       "  Text(-0.13974470828659522, -1.091087263469744, 'Rising Pune Supergiants'),\n",
       "  Text(0.2442616311813026, -1.0725372979680705, 'Delhi Daredevils'),\n",
       "  Text(0.7072614385840861, -0.8424851675204551, 'Deccan Chargers'),\n",
       "  Text(0.8505293408133111, -0.6975670866774568, 'Delhi Capitals'),\n",
       "  Text(1.0672000522211984, -0.26661591951545444, 'Mumbai Indians'),\n",
       "  Text(1.0220429246693608, 0.40672873040061924, 'Sunrisers Hyderabad'),\n",
       "  Text(0.8902855693968312, 0.6460585150926812, 'Rising Pune Supergiant'),\n",
       "  Text(0.5541148226883, 0.9502403713151288, 'Royal Challengers Bangalore'),\n",
       "  Text(-0.25436428353655577, 1.0701863441760666, 'Kings XI Punjab')])"
      ]
     },
     "execution_count": 34,
     "metadata": {},
     "output_type": "execute_result"
    },
    {
     "data": {
      "image/png": "[encoded data removed]",
      "text/plain": [
       "<Figure size 432x288 with 1 Axes>"
      ]
     },
     "metadata": {},
     "output_type": "display_data"
    }
   ],
   "source": [
    "arr1=[]\n",
    "team_temp=[]\n",
    "delv_temp=Deliveries[Deliveries['batsman_runs']>=4]\n",
    "delv=delv_temp[delv_temp['batsman_runs']<=7]\n",
    "for i in range(15):\n",
    "    d=delv[delv['batting_team']==i]\n",
    "    if len(d)!=0:\n",
    "        team_temp.append(team[i])\n",
    "        arr1.append(len(d))\n",
    "plt.pie(arr1,labels=team_temp,startangle=125)"
   ]
  },
  {
   "cell_type": "markdown",
   "metadata": {
    "papermill": {
     "duration": 0.084978,
     "end_time": "2020-10-28T19:37:25.479922",
     "exception": false,
     "start_time": "2020-10-28T19:37:25.394944",
     "status": "completed"
    },
    "tags": []
   },
   "source": [
    "effective boundaries"
   ]
  },
  {
   "cell_type": "code",
   "execution_count": 35,
   "metadata": {
    "execution": {
     "iopub.execute_input": "2020-10-28T19:37:25.660791Z",
     "iopub.status.busy": "2020-10-28T19:37:25.659769Z",
     "iopub.status.idle": "2020-10-28T19:37:25.828673Z",
     "shell.execute_reply": "2020-10-28T19:37:25.827873Z"
    },
    "papermill": {
     "duration": 0.263988,
     "end_time": "2020-10-28T19:37:25.828829",
     "exception": false,
     "start_time": "2020-10-28T19:37:25.564841",
     "status": "completed"
    },
    "tags": []
   },
   "outputs": [
    {
     "data": {
      "text/plain": [
       "[0.13283115928715783,\n",
       " 0.16209607824335986,\n",
       " 0.1573560027758501,\n",
       " 0.14096080910240202,\n",
       " 0.17274256870443072,\n",
       " 0.16071247849407955,\n",
       " 0.15126582278481013,\n",
       " 0.15783029915894814,\n",
       " 0.15076378127075493,\n",
       " 0.17286537454164483,\n",
       " 0.1636677129846589,\n",
       " 0.1537806011775643,\n",
       " 0.15052631578947367,\n",
       " 0.1674000382628659,\n",
       " 0.16449285748411446]"
      ]
     },
     "execution_count": 35,
     "metadata": {},
     "output_type": "execute_result"
    },
    {
     "data": {
      "image/png": "[encoded data removed]",
      "text/plain": [
       "<Figure size 432x288 with 1 Axes>"
      ]
     },
     "metadata": {},
     "output_type": "display_data"
    }
   ],
   "source": [
    "arr1=[]\n",
    "team_temp=[]\n",
    "delv_temp=Deliveries[Deliveries['batsman_runs']>=4]\n",
    "delv=delv_temp[delv_temp['batsman_runs']<=7]\n",
    "for i in range(15):\n",
    "    d=delv[delv['batting_team']==i]\n",
    "    d1=len(Deliveries[Deliveries['batting_team']==i])\n",
    "    if len(d)!=0:\n",
    "        team_temp.append(team[i])\n",
    "        arr1.append(len(d)/d1)\n",
    "plt.pie(arr1,labels=team_temp,startangle=125)\n",
    "arr1"
   ]
  },
  {
   "cell_type": "markdown",
   "metadata": {
    "papermill": {
     "duration": 0.088546,
     "end_time": "2020-10-28T19:37:26.006289",
     "exception": false,
     "start_time": "2020-10-28T19:37:25.917743",
     "status": "completed"
    },
    "tags": []
   },
   "source": [
    "Looking after the effective boundary chart we can say each team was built balanced .\n",
    "No team played far better than any other. ;)"
   ]
  },
  {
   "cell_type": "markdown",
   "metadata": {
    "papermill": {
     "duration": 0.087689,
     "end_time": "2020-10-28T19:37:26.182581",
     "exception": false,
     "start_time": "2020-10-28T19:37:26.094892",
     "status": "completed"
    },
    "tags": []
   },
   "source": [
    "dot balls per team"
   ]
  },
  {
   "cell_type": "code",
   "execution_count": 36,
   "metadata": {
    "execution": {
     "iopub.execute_input": "2020-10-28T19:37:26.369884Z",
     "iopub.status.busy": "2020-10-28T19:37:26.369080Z",
     "iopub.status.idle": "2020-10-28T19:37:26.733437Z",
     "shell.execute_reply": "2020-10-28T19:37:26.732668Z"
    },
    "papermill": {
     "duration": 0.461824,
     "end_time": "2020-10-28T19:37:26.733562",
     "exception": false,
     "start_time": "2020-10-28T19:37:26.271738",
     "status": "completed"
    },
    "tags": []
   },
   "outputs": [
    {
     "data": {
      "image/png": "[encoded data removed]",
      "text/plain": [
       "<Figure size 432x288 with 1 Axes>"
      ]
     },
     "metadata": {
      "needs_background": "light"
     },
     "output_type": "display_data"
    },
    {
     "data": {
      "text/plain": [
       "([<matplotlib.patches.Wedge at 0x7f9469cfa8d0>,\n",
       "  <matplotlib.patches.Wedge at 0x7f9469cfacd0>,\n",
       "  <matplotlib.patches.Wedge at 0x7f9469d06310>,\n",
       "  <matplotlib.patches.Wedge at 0x7f9469d06350>,\n",
       "  <matplotlib.patches.Wedge at 0x7f9469d10190>,\n",
       "  <matplotlib.patches.Wedge at 0x7f9469d10150>,\n",
       "  <matplotlib.patches.Wedge at 0x7f9469d10550>,\n",
       "  <matplotlib.patches.Wedge at 0x7f9469d10bd0>,\n",
       "  <matplotlib.patches.Wedge at 0x7f9469d06910>,\n",
       "  <matplotlib.patches.Wedge at 0x7f9469d10590>,\n",
       "  <matplotlib.patches.Wedge at 0x7f9469d56790>,\n",
       "  <matplotlib.patches.Wedge at 0x7f9469d27210>,\n",
       "  <matplotlib.patches.Wedge at 0x7f9469d27790>,\n",
       "  <matplotlib.patches.Wedge at 0x7f9469cb5310>,\n",
       "  <matplotlib.patches.Wedge at 0x7f9469cb5350>],\n",
       " [Text(-0.3027556206970098, 1.0575155006600936, 'Pune Warriors'),\n",
       "  Text(-0.7517931714285823, 0.8029987717259314, 'Kolkata Knight Riders'),\n",
       "  Text(-1.0885140774030726, 0.15854684889753565, 'Rajasthan Royals'),\n",
       "  Text(-1.0800874236445566, -0.20835344317976684, 'Kochi Tuskers Kerala'),\n",
       "  Text(-1.0568348604374658, -0.30512305347862867, 'Gujarat Lions'),\n",
       "  Text(-0.8566509517984298, -0.6900356126917251, 'Chennai Super Kings'),\n",
       "  Text(-0.5547526169480959, -0.949868166636423, 'Rising Pune Supergiants'),\n",
       "  Text(-0.18665603834879183, -1.0840477495700707, 'Delhi Daredevils'),\n",
       "  Text(0.34989269079835056, -1.0428686901647255, 'Deccan Chargers'),\n",
       "  Text(0.5426049521795507, -0.9568593762252778, 'Delhi Capitals'),\n",
       "  Text(0.8979155007145929, -0.6354114836674437, 'Mumbai Indians'),\n",
       "  Text(1.099989753754812, 0.00474780311599003, 'Sunrisers Hyderabad'),\n",
       "  Text(1.0669564936803317, 0.26758893959461916, 'Rising Pune Supergiant'),\n",
       "  Text(0.879122496998339, 0.6611683864730721, 'Royal Challengers Bangalore'),\n",
       "  Text(0.20959064707040626, 1.0798480266503285, 'Kings XI Punjab')])"
      ]
     },
     "execution_count": 36,
     "metadata": {},
     "output_type": "execute_result"
    },
    {
     "data": {
      "image/png": "[encoded data removed]",
      "text/plain": [
       "<Figure size 432x288 with 1 Axes>"
      ]
     },
     "metadata": {},
     "output_type": "display_data"
    }
   ],
   "source": [
    "arr1=[]\n",
    "team_temp=[]\n",
    "delv=Deliveries[Deliveries['batsman_runs']==0]\n",
    "# delv=delv_temp[delv_temp['batsman_runs']<=7]\n",
    "for i in range(15):\n",
    "    d=delv[delv['batting_team']==i]\n",
    "    if len(d)!=0:\n",
    "        team_temp.append(team[i])\n",
    "        arr1.append(len(d))\n",
    "plt.bar(team_temp,arr1)\n",
    "plt.show()\n",
    "plt.pie(arr1,labels=team_temp,startangle=100)"
   ]
  },
  {
   "cell_type": "markdown",
   "metadata": {
    "papermill": {
     "duration": 0.090196,
     "end_time": "2020-10-28T19:37:26.913975",
     "exception": false,
     "start_time": "2020-10-28T19:37:26.823779",
     "status": "completed"
    },
    "tags": []
   },
   "source": [
    "Still showing same results .The team who played multiple IPLs have huge runs in the other hand the opposites have less compared to them"
   ]
  },
  {
   "cell_type": "markdown",
   "metadata": {
    "papermill": {
     "duration": 0.091287,
     "end_time": "2020-10-28T19:37:27.095709",
     "exception": false,
     "start_time": "2020-10-28T19:37:27.004422",
     "status": "completed"
    },
    "tags": []
   },
   "source": [
    "Fielding Analysis"
   ]
  },
  {
   "cell_type": "markdown",
   "metadata": {
    "papermill": {
     "duration": 0.090524,
     "end_time": "2020-10-28T19:37:27.278923",
     "exception": false,
     "start_time": "2020-10-28T19:37:27.188399",
     "status": "completed"
    },
    "tags": []
   },
   "source": [
    "4 runs"
   ]
  },
  {
   "cell_type": "code",
   "execution_count": 37,
   "metadata": {
    "execution": {
     "iopub.execute_input": "2020-10-28T19:37:27.468457Z",
     "iopub.status.busy": "2020-10-28T19:37:27.467547Z",
     "iopub.status.idle": "2020-10-28T19:37:27.830268Z",
     "shell.execute_reply": "2020-10-28T19:37:27.829489Z"
    },
    "papermill": {
     "duration": 0.46133,
     "end_time": "2020-10-28T19:37:27.830393",
     "exception": false,
     "start_time": "2020-10-28T19:37:27.369063",
     "status": "completed"
    },
    "tags": []
   },
   "outputs": [
    {
     "data": {
      "image/png": "[encoded data removed]",
      "text/plain": [
       "<Figure size 432x288 with 1 Axes>"
      ]
     },
     "metadata": {
      "needs_background": "light"
     },
     "output_type": "display_data"
    },
    {
     "data": {
      "text/plain": [
       "([<matplotlib.patches.Wedge at 0x7f9469c24b50>,\n",
       "  <matplotlib.patches.Wedge at 0x7f9469c24f50>,\n",
       "  <matplotlib.patches.Wedge at 0x7f9469bb1590>,\n",
       "  <matplotlib.patches.Wedge at 0x7f9469bb15d0>,\n",
       "  <matplotlib.patches.Wedge at 0x7f9469bbb410>,\n",
       "  <matplotlib.patches.Wedge at 0x7f9469bbb3d0>,\n",
       "  <matplotlib.patches.Wedge at 0x7f9469bbb7d0>,\n",
       "  <matplotlib.patches.Wedge at 0x7f9469bc4410>,\n",
       "  <matplotlib.patches.Wedge at 0x7f9469bb1b90>,\n",
       "  <matplotlib.patches.Wedge at 0x7f9469bc4f10>,\n",
       "  <matplotlib.patches.Wedge at 0x7f9469c01690>,\n",
       "  <matplotlib.patches.Wedge at 0x7f9469bd3490>,\n",
       "  <matplotlib.patches.Wedge at 0x7f9469bd3a10>,\n",
       "  <matplotlib.patches.Wedge at 0x7f9469bdf590>,\n",
       "  <matplotlib.patches.Wedge at 0x7f9469bdf5d0>],\n",
       " [Text(-0.28704197624394223, 1.061888366954819, 'Pune Warriors'),\n",
       "  Text(-0.7265496140892913, 0.8259089890942598, 'Kolkata Knight Riders'),\n",
       "  Text(-1.083465571406305, 0.19000619878627317, 'Rajasthan Royals'),\n",
       "  Text(-1.085647232319563, -0.17711602682104519, 'Kochi Tuskers Kerala'),\n",
       "  Text(-1.0633068127563239, -0.2817421195809891, 'Gujarat Lions'),\n",
       "  Text(-0.8713524104731819, -0.6713754365201157, 'Chennai Super Kings'),\n",
       "  Text(-0.5844040906000909, -0.9319183756584484, 'Rising Pune Supergiants'),\n",
       "  Text(-0.2153087249941985, -1.0787224633525405, 'Delhi Daredevils'),\n",
       "  Text(0.32014039347958195, -1.0523830711593278, 'Deccan Chargers'),\n",
       "  Text(0.5147634914240509, -0.9721206447231338, 'Delhi Capitals'),\n",
       "  Text(0.8668568637204057, -0.6771699770521595, 'Mumbai Indians'),\n",
       "  Text(1.0978736696220566, -0.06836231089276658, 'Sunrisers Hyderabad'),\n",
       "  Text(1.0813137675498798, 0.20189238744213409, 'Rising Pune Supergiant'),\n",
       "  Text(0.9143852914867789, 0.6114732526551252, 'Royal Challengers Bangalore'),\n",
       "  Text(0.23596118105273078, 1.0743939319617366, 'Kings XI Punjab')])"
      ]
     },
     "execution_count": 37,
     "metadata": {},
     "output_type": "execute_result"
    },
    {
     "data": {
      "image/png": "[encoded data removed]",
      "text/plain": [
       "<Figure size 432x288 with 1 Axes>"
      ]
     },
     "metadata": {},
     "output_type": "display_data"
    }
   ],
   "source": [
    "arr1=[]\n",
    "team_temp=[]\n",
    "delv_temp=Deliveries[Deliveries['batsman_runs']>=4]\n",
    "delv=delv_temp[delv_temp['batsman_runs']<=5]\n",
    "for i in range(15):\n",
    "    d=delv[delv['bowling_team']==i]\n",
    "    if len(d)!=0:\n",
    "        team_temp.append(team[i])\n",
    "        arr1.append(len(d))\n",
    "plt.bar(team_temp,arr1)\n",
    "plt.show()\n",
    "plt.pie(arr1,labels=team_temp,startangle=100)"
   ]
  },
  {
   "cell_type": "markdown",
   "metadata": {
    "papermill": {
     "duration": 0.094817,
     "end_time": "2020-10-28T19:37:28.018776",
     "exception": false,
     "start_time": "2020-10-28T19:37:27.923959",
     "status": "completed"
    },
    "tags": []
   },
   "source": [
    "6 runs"
   ]
  },
  {
   "cell_type": "code",
   "execution_count": 38,
   "metadata": {
    "execution": {
     "iopub.execute_input": "2020-10-28T19:37:28.217655Z",
     "iopub.status.busy": "2020-10-28T19:37:28.216877Z",
     "iopub.status.idle": "2020-10-28T19:37:28.606324Z",
     "shell.execute_reply": "2020-10-28T19:37:28.605476Z"
    },
    "papermill": {
     "duration": 0.493375,
     "end_time": "2020-10-28T19:37:28.606460",
     "exception": false,
     "start_time": "2020-10-28T19:37:28.113085",
     "status": "completed"
    },
    "tags": []
   },
   "outputs": [
    {
     "data": {
      "image/png": "[encoded data removed]",
      "text/plain": [
       "<Figure size 432x288 with 1 Axes>"
      ]
     },
     "metadata": {
      "needs_background": "light"
     },
     "output_type": "display_data"
    },
    {
     "data": {
      "text/plain": [
       "([<matplotlib.patches.Wedge at 0x7f9469ad3290>,\n",
       "  <matplotlib.patches.Wedge at 0x7f9469ad3690>,\n",
       "  <matplotlib.patches.Wedge at 0x7f9469ad36d0>,\n",
       "  <matplotlib.patches.Wedge at 0x7f9469adc290>,\n",
       "  <matplotlib.patches.Wedge at 0x7f9469adca10>,\n",
       "  <matplotlib.patches.Wedge at 0x7f9469adca90>,\n",
       "  <matplotlib.patches.Wedge at 0x7f9469ae83d0>,\n",
       "  <matplotlib.patches.Wedge at 0x7f9469ae8410>,\n",
       "  <matplotlib.patches.Wedge at 0x7f9469adc2d0>,\n",
       "  <matplotlib.patches.Wedge at 0x7f9469ae8e90>,\n",
       "  <matplotlib.patches.Wedge at 0x7f9469b1f910>,\n",
       "  <matplotlib.patches.Wedge at 0x7f9469a73810>,\n",
       "  <matplotlib.patches.Wedge at 0x7f9469a82250>,\n",
       "  <matplotlib.patches.Wedge at 0x7f9469a82290>,\n",
       "  <matplotlib.patches.Wedge at 0x7f9469a827d0>],\n",
       " [Text(-0.28092499084269956, 1.0635229896527998, 'Pune Warriors'),\n",
       "  Text(-0.7088445268886716, 0.8411536344211892, 'Kolkata Knight Riders'),\n",
       "  Text(-1.0700564054909805, 0.2549103549637056, 'Rajasthan Royals'),\n",
       "  Text(-1.097314558747066, -0.07681639904169006, 'Kochi Tuskers Kerala'),\n",
       "  Text(-1.084477067352034, -0.18414529694654677, 'Gujarat Lions'),\n",
       "  Text(-0.9174084483529352, -0.6069281167409035, 'Chennai Super Kings'),\n",
       "  Text(-0.633958204844545, -0.8989421530389383, 'Rising Pune Supergiants'),\n",
       "  Text(-0.27356707602602554, -1.065439371768554, 'Delhi Daredevils'),\n",
       "  Text(0.26045423340469437, -1.0687205398520105, 'Deccan Chargers'),\n",
       "  Text(0.45922583019896585, -0.9995557197465635, 'Delhi Capitals'),\n",
       "  Text(0.8137462695061735, -0.740146613087425, 'Mumbai Indians'),\n",
       "  Text(1.0907471964515996, -0.14237469379414205, 'Sunrisers Hyderabad'),\n",
       "  Text(1.0878126441911735, 0.16329008279074272, 'Rising Pune Supergiant'),\n",
       "  Text(0.9141322494064517, 0.6118514775622439, 'Royal Challengers Bangalore'),\n",
       "  Text(0.22006005648904506, 1.0777632261021148, 'Kings XI Punjab')])"
      ]
     },
     "execution_count": 38,
     "metadata": {},
     "output_type": "execute_result"
    },
    {
     "data": {
      "image/png": "[encoded data removed]",
      "text/plain": [
       "<Figure size 432x288 with 1 Axes>"
      ]
     },
     "metadata": {},
     "output_type": "display_data"
    }
   ],
   "source": [
    "arr1=[]\n",
    "team_temp=[]\n",
    "delv_temp=Deliveries[Deliveries['batsman_runs']>=6]\n",
    "delv=delv_temp[delv_temp['batsman_runs']<=7]\n",
    "for i in range(15):\n",
    "    d=delv[delv['bowling_team']==i]\n",
    "    if len(d)!=0:\n",
    "        team_temp.append(team[i])\n",
    "        arr1.append(len(d))\n",
    "plt.bar(team_temp,arr1)\n",
    "plt.show()\n",
    "plt.pie(arr1,labels=team_temp,startangle=100)"
   ]
  },
  {
   "cell_type": "markdown",
   "metadata": {
    "papermill": {
     "duration": 0.105645,
     "end_time": "2020-10-28T19:37:28.817924",
     "exception": false,
     "start_time": "2020-10-28T19:37:28.712279",
     "status": "completed"
    },
    "tags": []
   },
   "source": [
    "effective boundaries"
   ]
  },
  {
   "cell_type": "code",
   "execution_count": 39,
   "metadata": {
    "execution": {
     "iopub.execute_input": "2020-10-28T19:37:29.021833Z",
     "iopub.status.busy": "2020-10-28T19:37:29.020524Z",
     "iopub.status.idle": "2020-10-28T19:37:29.187125Z",
     "shell.execute_reply": "2020-10-28T19:37:29.186363Z"
    },
    "papermill": {
     "duration": 0.27336,
     "end_time": "2020-10-28T19:37:29.187255",
     "exception": false,
     "start_time": "2020-10-28T19:37:28.913895",
     "status": "completed"
    },
    "tags": []
   },
   "outputs": [
    {
     "data": {
      "text/plain": [
       "[0.14716149182436156,\n",
       " 0.15969891648288426,\n",
       " 0.1578764746703678,\n",
       " 0.1554993678887484,\n",
       " 0.18059450364554122,\n",
       " 0.15332456229126606,\n",
       " 0.15632911392405063,\n",
       " 0.16310018098584053,\n",
       " 0.15729466460039848,\n",
       " 0.1712938711367208,\n",
       " 0.1530129537114815,\n",
       " 0.1579640533002789,\n",
       " 0.15526315789473685,\n",
       " 0.16696958102161852,\n",
       " 0.16841049161530744]"
      ]
     },
     "execution_count": 39,
     "metadata": {},
     "output_type": "execute_result"
    },
    {
     "data": {
      "image/png": "[encoded data removed]",
      "text/plain": [
       "<Figure size 432x288 with 1 Axes>"
      ]
     },
     "metadata": {},
     "output_type": "display_data"
    }
   ],
   "source": [
    "arr1=[]\n",
    "team_temp=[]\n",
    "delv_temp=Deliveries[Deliveries['batsman_runs']>=4]\n",
    "delv=delv_temp[delv_temp['batsman_runs']<=7]\n",
    "for i in range(15):\n",
    "    d=delv[delv['bowling_team']==i]\n",
    "    d1=len(Deliveries[Deliveries['batting_team']==i])\n",
    "    if len(d)!=0:\n",
    "        team_temp.append(team[i])\n",
    "        arr1.append(len(d)/d1)\n",
    "plt.pie(arr1,labels=team_temp,startangle=125)\n",
    "arr1"
   ]
  },
  {
   "cell_type": "code",
   "execution_count": 40,
   "metadata": {
    "execution": {
     "iopub.execute_input": "2020-10-28T19:37:29.397020Z",
     "iopub.status.busy": "2020-10-28T19:37:29.396117Z",
     "iopub.status.idle": "2020-10-28T19:37:29.401977Z",
     "shell.execute_reply": "2020-10-28T19:37:29.402526Z"
    },
    "papermill": {
     "duration": 0.118276,
     "end_time": "2020-10-28T19:37:29.402692",
     "exception": false,
     "start_time": "2020-10-28T19:37:29.284416",
     "status": "completed"
    },
    "tags": []
   },
   "outputs": [
    {
     "name": "stdout",
     "output_type": "stream",
     "text": [
      "match_id\n",
      "inning\n",
      "batting_team\n",
      "bowling_team\n",
      "over\n",
      "ball\n",
      "batsman\n",
      "non_striker\n",
      "bowler\n",
      "is_super_over\n",
      "wide_runs\n",
      "bye_runs\n",
      "legbye_runs\n",
      "noball_runs\n",
      "penalty_runs\n",
      "batsman_runs\n",
      "extra_runs\n",
      "total_runs\n",
      "player_dismissed\n",
      "dismissal_kind\n",
      "fielder\n"
     ]
    }
   ],
   "source": [
    "for col in Deliveries.columns: \n",
    "    print(col) "
   ]
  },
  {
   "cell_type": "code",
   "execution_count": 41,
   "metadata": {
    "execution": {
     "iopub.execute_input": "2020-10-28T19:37:29.605474Z",
     "iopub.status.busy": "2020-10-28T19:37:29.604700Z",
     "iopub.status.idle": "2020-10-28T19:37:29.857423Z",
     "shell.execute_reply": "2020-10-28T19:37:29.856560Z"
    },
    "papermill": {
     "duration": 0.35698,
     "end_time": "2020-10-28T19:37:29.857566",
     "exception": false,
     "start_time": "2020-10-28T19:37:29.500586",
     "status": "completed"
    },
    "tags": []
   },
   "outputs": [
    {
     "data": {
      "text/plain": [
       "(179078,)"
      ]
     },
     "execution_count": 41,
     "metadata": {},
     "output_type": "execute_result"
    },
    {
     "data": {
      "image/png": "[encoded data removed]",
      "text/plain": [
       "<Figure size 432x288 with 1 Axes>"
      ]
     },
     "metadata": {
      "needs_background": "light"
     },
     "output_type": "display_data"
    }
   ],
   "source": [
    "extras=Deliveries['wide_runs']+Deliveries['bye_runs']+Deliveries['legbye_runs']+Deliveries['noball_runs']+Deliveries['penalty_runs']\n",
    "plt.plot(extras)\n",
    "extras.shape"
   ]
  },
  {
   "cell_type": "code",
   "execution_count": 42,
   "metadata": {
    "_kg_hide-input": false,
    "execution": {
     "iopub.execute_input": "2020-10-28T19:37:30.089494Z",
     "iopub.status.busy": "2020-10-28T19:37:30.088616Z",
     "iopub.status.idle": "2020-10-28T19:37:30.466650Z",
     "shell.execute_reply": "2020-10-28T19:37:30.467306Z"
    },
    "papermill": {
     "duration": 0.490985,
     "end_time": "2020-10-28T19:37:30.467487",
     "exception": false,
     "start_time": "2020-10-28T19:37:29.976502",
     "status": "completed"
    },
    "tags": []
   },
   "outputs": [
    {
     "data": {
      "text/plain": [
       "[<matplotlib.lines.Line2D at 0x7f946a0e9d10>]"
      ]
     },
     "execution_count": 42,
     "metadata": {},
     "output_type": "execute_result"
    },
    {
     "data": {
      "image/png": "[encoded data removed]",
      "text/plain": [
       "<Figure size 432x288 with 1 Axes>"
      ]
     },
     "metadata": {
      "needs_background": "light"
     },
     "output_type": "display_data"
    }
   ],
   "source": [
    "delv1=Deliveries['extra_runs']\n",
    "plt.plot(delv1)"
   ]
  },
  {
   "cell_type": "markdown",
   "metadata": {
    "papermill": {
     "duration": 0.111822,
     "end_time": "2020-10-28T19:37:30.692109",
     "exception": false,
     "start_time": "2020-10-28T19:37:30.580287",
     "status": "completed"
    },
    "tags": []
   },
   "source": [
    "match win per season"
   ]
  },
  {
   "cell_type": "code",
   "execution_count": 43,
   "metadata": {
    "execution": {
     "iopub.execute_input": "2020-10-28T19:37:30.924461Z",
     "iopub.status.busy": "2020-10-28T19:37:30.923546Z",
     "iopub.status.idle": "2020-10-28T19:37:30.929224Z",
     "shell.execute_reply": "2020-10-28T19:37:30.928439Z"
    },
    "papermill": {
     "duration": 0.124707,
     "end_time": "2020-10-28T19:37:30.929361",
     "exception": false,
     "start_time": "2020-10-28T19:37:30.804654",
     "status": "completed"
    },
    "tags": []
   },
   "outputs": [
    {
     "data": {
      "text/plain": [
       "11"
      ]
     },
     "execution_count": 43,
     "metadata": {},
     "output_type": "execute_result"
    }
   ],
   "source": [
    "max(Matches['Season'])"
   ]
  },
  {
   "cell_type": "code",
   "execution_count": 44,
   "metadata": {
    "execution": {
     "iopub.execute_input": "2020-10-28T19:37:31.196301Z",
     "iopub.status.busy": "2020-10-28T19:37:31.177432Z",
     "iopub.status.idle": "2020-10-28T19:37:31.487038Z",
     "shell.execute_reply": "2020-10-28T19:37:31.487979Z"
    },
    "papermill": {
     "duration": 0.454318,
     "end_time": "2020-10-28T19:37:31.488198",
     "exception": false,
     "start_time": "2020-10-28T19:37:31.033880",
     "status": "completed"
    },
    "tags": []
   },
   "outputs": [
    {
     "name": "stdout",
     "output_type": "stream",
     "text": [
      "Kolkata Knight Riders won : 3\n",
      "effective win:  0.23076923076923078\n",
      "Rajasthan Royals won : 6\n",
      "effective win:  0.46153846153846156\n",
      "Chennai Super Kings won : 8\n",
      "effective win:  0.5714285714285714\n",
      "Delhi Daredevils won : 10\n",
      "effective win:  0.6666666666666666\n",
      "Deccan Chargers won : 9\n",
      "effective win:  0.5625\n",
      "Mumbai Indians won : 5\n",
      "effective win:  0.38461538461538464\n",
      "Royal Challengers Bangalore won : 9\n",
      "effective win:  0.5625\n",
      "Kings XI Punjab won : 7\n",
      "effective win:  0.5\n",
      "\n",
      "\n",
      "Pune Warriors won : 4\n",
      "effective win:  0.25\n",
      "Kolkata Knight Riders won : 12\n",
      "effective win:  0.7058823529411765\n",
      "Rajasthan Royals won : 7\n",
      "effective win:  0.4375\n",
      "Chennai Super Kings won : 10\n",
      "effective win:  0.5555555555555556\n",
      "Delhi Daredevils won : 11\n",
      "effective win:  0.6111111111111112\n",
      "Deccan Chargers won : 4\n",
      "effective win:  0.26666666666666666\n",
      "Mumbai Indians won : 10\n",
      "effective win:  0.5882352941176471\n",
      "Royal Challengers Bangalore won : 8\n",
      "effective win:  0.5333333333333333\n",
      "Kings XI Punjab won : 8\n",
      "effective win:  0.5\n",
      "\n",
      "\n",
      "Kolkata Knight Riders won : 8\n",
      "effective win:  0.5333333333333333\n",
      "Gujarat Lions won : 9\n",
      "effective win:  0.5625\n",
      "Rising Pune Supergiants won : 5\n",
      "effective win:  0.35714285714285715\n",
      "Delhi Daredevils won : 7\n",
      "effective win:  0.5\n",
      "Mumbai Indians won : 7\n",
      "effective win:  0.5\n",
      "Sunrisers Hyderabad won : 11\n",
      "effective win:  0.6470588235294118\n",
      "Royal Challengers Bangalore won : 9\n",
      "effective win:  0.5625\n",
      "Kings XI Punjab won : 4\n",
      "effective win:  0.2857142857142857\n",
      "\n",
      "\n",
      "Kolkata Knight Riders won : 9\n",
      "effective win:  0.5625\n",
      "Rajasthan Royals won : 7\n",
      "effective win:  0.4666666666666667\n",
      "Chennai Super Kings won : 11\n",
      "effective win:  0.6875\n",
      "Delhi Daredevils won : 5\n",
      "effective win:  0.35714285714285715\n",
      "Mumbai Indians won : 6\n",
      "effective win:  0.42857142857142855\n",
      "Sunrisers Hyderabad won : 10\n",
      "effective win:  0.5882352941176471\n",
      "Royal Challengers Bangalore won : 6\n",
      "effective win:  0.42857142857142855\n",
      "Kings XI Punjab won : 6\n",
      "effective win:  0.42857142857142855\n",
      "\n",
      "\n",
      "Kolkata Knight Riders won : 6\n",
      "effective win:  0.42857142857142855\n",
      "Rajasthan Royals won : 5\n",
      "effective win:  0.35714285714285715\n",
      "Chennai Super Kings won : 10\n",
      "effective win:  0.5882352941176471\n",
      "Delhi Capitals won : 10\n",
      "effective win:  0.625\n",
      "Mumbai Indians won : 11\n",
      "effective win:  0.6875\n",
      "Sunrisers Hyderabad won : 6\n",
      "effective win:  0.4\n",
      "Royal Challengers Bangalore won : 5\n",
      "effective win:  0.35714285714285715\n",
      "Kings XI Punjab won : 6\n",
      "effective win:  0.42857142857142855\n",
      "\n",
      "\n",
      "Kolkata Knight Riders won : 9\n",
      "effective win:  0.5625\n",
      "Gujarat Lions won : 4\n",
      "effective win:  0.2857142857142857\n",
      "Delhi Daredevils won : 6\n",
      "effective win:  0.42857142857142855\n",
      "Mumbai Indians won : 12\n",
      "effective win:  0.7058823529411765\n",
      "Sunrisers Hyderabad won : 8\n",
      "effective win:  0.5714285714285714\n",
      "Rising Pune Supergiant won : 10\n",
      "effective win:  0.625\n",
      "Royal Challengers Bangalore won : 3\n",
      "effective win:  0.23076923076923078\n",
      "Kings XI Punjab won : 7\n",
      "effective win:  0.5\n",
      "\n",
      "\n",
      "Kolkata Knight Riders won : 7\n",
      "effective win:  0.5\n",
      "Rajasthan Royals won : 6\n",
      "effective win:  0.42857142857142855\n",
      "Chennai Super Kings won : 9\n",
      "effective win:  0.5625\n",
      "Delhi Daredevils won : 7\n",
      "effective win:  0.5\n",
      "Deccan Chargers won : 8\n",
      "effective win:  0.5\n",
      "Mumbai Indians won : 11\n",
      "effective win:  0.6875\n",
      "Royal Challengers Bangalore won : 8\n",
      "effective win:  0.5\n",
      "Kings XI Punjab won : 4\n",
      "effective win:  0.2857142857142857\n",
      "\n",
      "\n",
      "Kolkata Knight Riders won : 7\n",
      "effective win:  0.5384615384615384\n",
      "Rajasthan Royals won : 7\n",
      "effective win:  0.5\n",
      "Chennai Super Kings won : 10\n",
      "effective win:  0.5882352941176471\n",
      "Delhi Daredevils won : 5\n",
      "effective win:  0.35714285714285715\n",
      "Mumbai Indians won : 10\n",
      "effective win:  0.625\n",
      "Sunrisers Hyderabad won : 7\n",
      "effective win:  0.5\n",
      "Royal Challengers Bangalore won : 8\n",
      "effective win:  0.5\n",
      "Kings XI Punjab won : 3\n",
      "effective win:  0.21428571428571427\n",
      "\n",
      "\n",
      "Kolkata Knight Riders won : 11\n",
      "effective win:  0.6875\n",
      "Rajasthan Royals won : 7\n",
      "effective win:  0.5\n",
      "Chennai Super Kings won : 10\n",
      "effective win:  0.625\n",
      "Delhi Daredevils won : 2\n",
      "effective win:  0.14285714285714285\n",
      "Mumbai Indians won : 7\n",
      "effective win:  0.4666666666666667\n",
      "Sunrisers Hyderabad won : 6\n",
      "effective win:  0.42857142857142855\n",
      "Royal Challengers Bangalore won : 5\n",
      "effective win:  0.35714285714285715\n",
      "Kings XI Punjab won : 12\n",
      "effective win:  0.7058823529411765\n",
      "\n",
      "\n",
      "Kolkata Knight Riders won : 6\n",
      "effective win:  0.46153846153846156\n",
      "Rajasthan Royals won : 13\n",
      "effective win:  0.8125\n",
      "Chennai Super Kings won : 9\n",
      "effective win:  0.5625\n",
      "Delhi Daredevils won : 7\n",
      "effective win:  0.5\n",
      "Deccan Chargers won : 2\n",
      "effective win:  0.14285714285714285\n",
      "Mumbai Indians won : 7\n",
      "effective win:  0.5\n",
      "Royal Challengers Bangalore won : 4\n",
      "effective win:  0.2857142857142857\n",
      "Kings XI Punjab won : 10\n",
      "effective win:  0.6666666666666666\n",
      "\n",
      "\n",
      "Pune Warriors won : 4\n",
      "effective win:  0.25\n",
      "Kolkata Knight Riders won : 6\n",
      "effective win:  0.375\n",
      "Rajasthan Royals won : 11\n",
      "effective win:  0.6111111111111112\n",
      "Chennai Super Kings won : 12\n",
      "effective win:  0.6666666666666666\n",
      "Delhi Daredevils won : 3\n",
      "effective win:  0.1875\n",
      "Mumbai Indians won : 13\n",
      "effective win:  0.6842105263157895\n",
      "Sunrisers Hyderabad won : 10\n",
      "effective win:  0.5882352941176471\n",
      "Royal Challengers Bangalore won : 9\n",
      "effective win:  0.5625\n",
      "Kings XI Punjab won : 8\n",
      "effective win:  0.5\n",
      "\n",
      "\n"
     ]
    }
   ],
   "source": [
    "ses=max(Matches['Season'])\n",
    "for i in range(int(ses)):\n",
    "    sess=Matches[Matches['Season']==i]\n",
    "    for j in range(15):\n",
    "        prt_tm=len(sess[sess['winner']==j])\n",
    "        tot_mt=len(sess[sess['team1']==j])\n",
    "        tot_mt+=len(sess[sess['team2']==j])\n",
    "        if tot_mt !=0:\n",
    "            print(team[j],'won :',prt_tm)\n",
    "            print('effective win: ',prt_tm/tot_mt)\n",
    "    print('\\n')\n"
   ]
  },
  {
   "cell_type": "markdown",
   "metadata": {
    "papermill": {
     "duration": 0.101846,
     "end_time": "2020-10-28T19:37:31.698198",
     "exception": false,
     "start_time": "2020-10-28T19:37:31.596352",
     "status": "completed"
    },
    "tags": []
   },
   "source": [
    "team performance by season"
   ]
  },
  {
   "cell_type": "markdown",
   "metadata": {
    "papermill": {
     "duration": 0.10554,
     "end_time": "2020-10-28T19:37:31.909295",
     "exception": false,
     "start_time": "2020-10-28T19:37:31.803755",
     "status": "completed"
    },
    "tags": []
   },
   "source": [
    "only checking top 3 team \n",
    "1. MI\n",
    "2. CSK\n",
    "3. KKR"
   ]
  },
  {
   "cell_type": "code",
   "execution_count": 45,
   "metadata": {
    "execution": {
     "iopub.execute_input": "2020-10-28T19:37:32.220727Z",
     "iopub.status.busy": "2020-10-28T19:37:32.215157Z",
     "iopub.status.idle": "2020-10-28T19:37:32.421816Z",
     "shell.execute_reply": "2020-10-28T19:37:32.422446Z"
    },
    "papermill": {
     "duration": 0.408213,
     "end_time": "2020-10-28T19:37:32.422613",
     "exception": false,
     "start_time": "2020-10-28T19:37:32.014400",
     "status": "completed"
    },
    "tags": []
   },
   "outputs": [
    {
     "data": {
      "image/png": "[encoded data removed]",
      "text/plain": [
       "<Figure size 432x288 with 1 Axes>"
      ]
     },
     "metadata": {
      "needs_background": "light"
     },
     "output_type": "display_data"
    }
   ],
   "source": [
    "mi=[]\n",
    "kkr=[]\n",
    "csk=[]\n",
    "for i in range(int(ses)):\n",
    "    xx=Matches[Matches['Season']==i]\n",
    "    mi.append(len(xx[xx['winner']==10])/(len(xx[xx['team1']==10])+len(xx[xx['team1']==10])))\n",
    "    kkr.append(len(xx[xx['winner']==1])/(len(xx[xx['team1']==1])+len(xx[xx['team1']==1])))\n",
    "#     csk.append(len(xx[xx['winner']==5])/(len(xx[xx['team1']==5])+len(xx[xx['team1']==5])))\n",
    "    csk1=(len(xx[xx['team1']==5])+len(xx[xx['team1']==5]))\n",
    "    if csk1!=0:\n",
    "        csk.append(len(xx[xx['winner']==5])/(len(xx[xx['team1']==5])+len(xx[xx['team1']==5])))\n",
    "    else:\n",
    "        csk.append(int(0))\n",
    "plt.title('performance in seasons')\n",
    "plt.plot(mi,color='deepskyblue',label='MI')\n",
    "plt.legend()\n",
    "plt.plot(kkr,color='darkviolet',label='KKR')\n",
    "plt.legend()\n",
    "plt.plot(csk,color='gold',label='CSK')\n",
    "plt.legend()\n",
    "plt.show()"
   ]
  },
  {
   "cell_type": "code",
   "execution_count": 46,
   "metadata": {
    "execution": {
     "iopub.execute_input": "2020-10-28T19:37:32.651826Z",
     "iopub.status.busy": "2020-10-28T19:37:32.650735Z",
     "iopub.status.idle": "2020-10-28T19:37:32.656879Z",
     "shell.execute_reply": "2020-10-28T19:37:32.656246Z"
    },
    "papermill": {
     "duration": 0.130507,
     "end_time": "2020-10-28T19:37:32.657011",
     "exception": false,
     "start_time": "2020-10-28T19:37:32.526504",
     "status": "completed"
    },
    "tags": []
   },
   "outputs": [
    {
     "name": "stdout",
     "output_type": "stream",
     "text": [
      " left arm batsman :  142\n",
      " right arm batsman :  373\n"
     ]
    },
    {
     "data": {
      "text/html": [
       "<div>\n",
       "<style scoped>\n",
       "    .dataframe tbody tr th:only-of-type {\n",
       "        vertical-align: middle;\n",
       "    }\n",
       "\n",
       "    .dataframe tbody tr th {\n",
       "        vertical-align: top;\n",
       "    }\n",
       "\n",
       "    .dataframe thead th {\n",
       "        text-align: right;\n",
       "    }\n",
       "</style>\n",
       "<table border=\"1\" class=\"dataframe\">\n",
       "  <thead>\n",
       "    <tr style=\"text-align: right;\">\n",
       "      <th></th>\n",
       "      <th>Player_Name</th>\n",
       "      <th>DOB</th>\n",
       "      <th>Batting_Hand</th>\n",
       "      <th>Bowling_Skill</th>\n",
       "      <th>Country</th>\n",
       "    </tr>\n",
       "  </thead>\n",
       "  <tbody>\n",
       "    <tr>\n",
       "      <th>197</th>\n",
       "      <td>J Dala</td>\n",
       "      <td>NaT</td>\n",
       "      <td>NaN</td>\n",
       "      <td>Right-arm Medium</td>\n",
       "      <td>NaN</td>\n",
       "    </tr>\n",
       "    <tr>\n",
       "      <th>440</th>\n",
       "      <td>S Midhun</td>\n",
       "      <td>NaT</td>\n",
       "      <td>NaN</td>\n",
       "      <td>Legbreak</td>\n",
       "      <td>NaN</td>\n",
       "    </tr>\n",
       "    <tr>\n",
       "      <th>520</th>\n",
       "      <td>Tejas Baroka</td>\n",
       "      <td>NaT</td>\n",
       "      <td>NaN</td>\n",
       "      <td>Legbreak googly</td>\n",
       "      <td>NaN</td>\n",
       "    </tr>\n",
       "  </tbody>\n",
       "</table>\n",
       "</div>"
      ],
      "text/plain": [
       "      Player_Name DOB Batting_Hand     Bowling_Skill Country\n",
       "197        J Dala NaT          NaN  Right-arm Medium     NaN\n",
       "440      S Midhun NaT          NaN          Legbreak     NaN\n",
       "520  Tejas Baroka NaT          NaN   Legbreak googly     NaN"
      ]
     },
     "execution_count": 46,
     "metadata": {},
     "output_type": "execute_result"
    }
   ],
   "source": [
    "#players who bat with left arm\n",
    "print(' left arm batsman : ',len(Players[Players['Batting_Hand']=='Left_Hand']))\n",
    "\n",
    "#players who bat with right arm\n",
    "print(' right arm batsman : ',len(Players[Players['Batting_Hand']=='Right_Hand']))\n",
    "\n",
    "#data_leakage\n",
    "\n",
    "# print(len(Players[Players['Batting_Hand']=='NaN']))\n",
    "# print(142+373)\n",
    "# len(Players)\n",
    "xx=Players[Players['Batting_Hand']!='Right_Hand']\n",
    "x=xx[xx['Batting_Hand']!='Left_Hand']\n",
    "y=x[x['Batting_Hand']!='Right_hand']\n",
    "y"
   ]
  },
  {
   "cell_type": "markdown",
   "metadata": {
    "papermill": {
     "duration": 0.106894,
     "end_time": "2020-10-28T19:37:32.869229",
     "exception": false,
     "start_time": "2020-10-28T19:37:32.762335",
     "status": "completed"
    },
    "tags": []
   },
   "source": [
    "Some data leakages are present in the data .But in this case we can simply overlook them . Data showing that overall the teams are balanced well and claim to capture the cup approximately equally.\n",
    "\n",
    "Teams have much variance in their performace in every year except 3 teams MI,RCB,CSK. In this data MI,CSK are consistent in the top ranking whereas RCB is consistent down the leaderboard.\n",
    "\n",
    "\n",
    "Overall bowlers are heavily dominated in this league. Extras are quite often seen in any match.\n",
    "\n",
    "As per the hope and goal of IPL it is surely creating a way to the rising players to reach up international skill over cricket.\n",
    "\n",
    "A great percentage is making their way to the National Cricket Team.\n",
    "EDA over teams and other facts ends here.\n"
   ]
  },
  {
   "cell_type": "markdown",
   "metadata": {
    "papermill": {
     "duration": 0.107219,
     "end_time": "2020-10-28T19:37:33.083681",
     "exception": false,
     "start_time": "2020-10-28T19:37:32.976462",
     "status": "completed"
    },
    "tags": []
   },
   "source": [
    "# UPVOTE  Please if you liked this EDA :)"
   ]
  },
  {
   "cell_type": "markdown",
   "metadata": {
    "papermill": {
     "duration": 0.104591,
     "end_time": "2020-10-28T19:37:33.295498",
     "exception": false,
     "start_time": "2020-10-28T19:37:33.190907",
     "status": "completed"
    },
    "tags": []
   },
   "source": [
    "** Thank from s_agnik1511**\n",
    "\n",
    "\n",
    "You can join my discord server for a huge data-science community\n",
    "Link of the server - https://discord.gg//j9Dh8A"
   ]
  }
 ],
 "metadata": {
  "kernelspec": {
   "display_name": "Python 3",
   "language": "python",
   "name": "python3"
  },
  "language_info": {
   "codemirror_mode": {
    "name": "ipython",
    "version": 3
   },
   "file_extension": ".py",
   "mimetype": "text/x-python",
   "name": "python",
   "nbconvert_exporter": "python",
   "pygments_lexer": "ipython3",
   "version": "3.7.6"
  },
  "papermill": {
   "duration": 28.5722,
   "end_time": "2020-10-28T19:37:33.517781",
   "environment_variables": {},
   "exception": null,
   "input_path": "__notebook__.ipynb",
   "output_path": "__notebook__.ipynb",
   "parameters": {},
   "start_time": "2020-10-28T19:37:04.945581",
   "version": "2.1.0"
  }
 },
 "nbformat": 4,
 "nbformat_minor": 4
}
